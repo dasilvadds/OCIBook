{
 "cells": [
  {
   "cell_type": "code",
   "execution_count": 1,
   "metadata": {},
   "outputs": [],
   "source": [
    "# -*- coding: utf-8 -*-\n",
    "import turtle"
   ]
  },
  {
   "cell_type": "code",
   "execution_count": 2,
   "metadata": {},
   "outputs": [],
   "source": [
    "discworld = turtle.Screen()\n",
    "ATuin = turtle.Turtle()"
   ]
  },
  {
   "cell_type": "code",
   "execution_count": 3,
   "metadata": {},
   "outputs": [
    {
     "data": {
      "text/plain": [
       "'classic'"
      ]
     },
     "execution_count": 3,
     "metadata": {},
     "output_type": "execute_result"
    }
   ],
   "source": [
    "ATuin.shape()"
   ]
  },
  {
   "cell_type": "code",
   "execution_count": 4,
   "metadata": {},
   "outputs": [],
   "source": [
    "ATuin.shape(\"turtle\")"
   ]
  },
  {
   "cell_type": "code",
   "execution_count": 5,
   "metadata": {},
   "outputs": [],
   "source": [
    "ATuin.left(45)\n",
    "ATuin.forward(50)\n",
    "ATuin.right(90)\n",
    "ATuin.backward(50)\n",
    "ATuin.up()\n",
    "ATuin.goto(50,0)\n",
    "ATuin.left(45)\n",
    "ATuin.down()\n",
    "ATuin.forward(50)\n",
    "ATuin.up()\n",
    "ATuin.goto(150,0)\n",
    "ATuin.down()\n",
    "ATuin.right(45)\n",
    "ATuin.backward(50)\n",
    "ATuin.left(90)\n",
    "ATuin.forward(50)"
   ]
  },
  {
   "cell_type": "code",
   "execution_count": 6,
   "metadata": {},
   "outputs": [],
   "source": [
    "discworld.reset()"
   ]
  },
  {
   "cell_type": "code",
   "execution_count": 7,
   "metadata": {},
   "outputs": [],
   "source": [
    "turtle.shape(\"turtle\")"
   ]
  },
  {
   "cell_type": "code",
   "execution_count": null,
   "metadata": {},
   "outputs": [],
   "source": []
  },
  {
   "cell_type": "code",
   "execution_count": null,
   "metadata": {},
   "outputs": [],
   "source": []
  },
  {
   "cell_type": "code",
   "execution_count": null,
   "metadata": {},
   "outputs": [],
   "source": []
  },
  {
   "cell_type": "code",
   "execution_count": 8,
   "metadata": {},
   "outputs": [],
   "source": [
    "discworld.reset() # pour nettoyer la fenêtre\n",
    "ATuin.pencolor(\"red\")\n",
    "for _ in range(3):\n",
    "    ATuin.forward(100)\n",
    "    ATuin.left(120)"
   ]
  },
  {
   "cell_type": "code",
   "execution_count": 9,
   "metadata": {},
   "outputs": [],
   "source": [
    "discworld.reset()\n",
    "ATuin.fillcolor(\"gold2\")\n",
    "ATuin.pencolor(\"gold2\")\n",
    "ATuin.begin_fill()\n",
    "ATuin.left(60)\n",
    "ATuin.forward(50)\n",
    "ATuin.right(120)\n",
    "ATuin.forward(50)\n",
    "ATuin.end_fill()\n",
    "ATuin.begin_fill()\n",
    "ATuin.forward(50)\n",
    "ATuin.right(120)\n",
    "ATuin.forward(50)\n",
    "ATuin.end_fill()\n",
    "ATuin.begin_fill()\n",
    "ATuin.forward(50)\n",
    "ATuin.right(120)\n",
    "ATuin.forward(50)\n",
    "ATuin.end_fill()"
   ]
  },
  {
   "cell_type": "code",
   "execution_count": null,
   "metadata": {},
   "outputs": [],
   "source": []
  }
 ],
 "metadata": {
  "kernelspec": {
   "display_name": "Python 3",
   "language": "python",
   "name": "python3"
  },
  "language_info": {
   "codemirror_mode": {
    "name": "ipython",
    "version": 3
   },
   "file_extension": ".py",
   "mimetype": "text/x-python",
   "name": "python",
   "nbconvert_exporter": "python",
   "pygments_lexer": "ipython3",
   "version": "3.7.9"
  },
  "latex_envs": {
   "LaTeX_envs_menu_present": true,
   "autoclose": true,
   "autocomplete": true,
   "bibliofile": "biblio.bib",
   "cite_by": "apalike",
   "current_citInitial": 1,
   "eqLabelWithNumbers": true,
   "eqNumInitial": 1,
   "hotkeys": {
    "equation": "Ctrl-E",
    "itemize": "Ctrl-I"
   },
   "labels_anchors": false,
   "latex_user_defs": false,
   "report_style_numbering": false,
   "user_envs_cfg": false
  },
  "toc": {
   "base_numbering": 1,
   "nav_menu": {},
   "number_sections": true,
   "sideBar": true,
   "skip_h1_title": true,
   "title_cell": "Table of Contents",
   "title_sidebar": "Contents",
   "toc_cell": false,
   "toc_position": {},
   "toc_section_display": true,
   "toc_window_display": true
  }
 },
 "nbformat": 4,
 "nbformat_minor": 1
}