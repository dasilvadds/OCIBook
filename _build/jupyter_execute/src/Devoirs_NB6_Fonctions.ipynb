{
 "cells": [
  {
   "cell_type": "markdown",
   "metadata": {},
   "source": [
    "# Devoirs - Back to the Turtle\n",
    "\n",
    "Les exercices suivant se font à l'aide du module `turtle` vu dans le [Notebook 05](./OCI05_Turtle.ipynb).\n",
    "\n",
    "## Exercice 1\n",
    "\n",
    "Créez une fonction `tsquare` qui dessine un carré dont la longueur des côtés est passée en paramètre"
   ]
  },
  {
   "cell_type": "code",
   "execution_count": null,
   "metadata": {
    "collapsed": true
   },
   "outputs": [],
   "source": []
  },
  {
   "cell_type": "markdown",
   "metadata": {},
   "source": [
    "## Exercice 2\n",
    "\n",
    "En utilisant la fonction `tsquare` réalisez la fonction `squareLine` permettant de réaliser le dessin de la figure constitué de **10** carrés de côté **50** avec un espace de **5** entre chacun d’eux. Toutes ces valeurs devront êtres modifiables (= paramètres)\n",
    "\n",
    "<img src=\"img/ligne10.png\" width=\"300\" height=\"300\"/>"
   ]
  },
  {
   "cell_type": "code",
   "execution_count": null,
   "metadata": {
    "collapsed": true
   },
   "outputs": [],
   "source": []
  },
  {
   "cell_type": "markdown",
   "metadata": {},
   "source": [
    "## Exercice 3\n",
    "\n",
    "En utilisant la fonction `squareLine` réalisez la fonction `multiSquare` permettant de réaliser le dessin de la figure, soit un carré constitué de cent carrés de côté **50** disposés en **10** lignes horizontales de **10**, avec une espace de **5** entre eux.\n",
    "Toutes les valeurs en **gras** devront être modifiables.\n",
    "\n",
    "<img src=\"img/cent_carres.png\" width=\"300\" height=\"300\"/>"
   ]
  },
  {
   "cell_type": "code",
   "execution_count": null,
   "metadata": {
    "collapsed": true
   },
   "outputs": [],
   "source": []
  },
  {
   "cell_type": "markdown",
   "metadata": {},
   "source": [
    "## Exercice 4\n",
    "\n",
    "À l'aide de votre fonction `tsquare` réalisez le dessin de la figure constitué de **50** carrés emboîtés ayant tous un sommet commun (en bas à gauche) et dont les longueurs des côtés varient de **10** en **10**.\n",
    "Toutes les valeurs en **gras** devront être modifiables.\n",
    "\n",
    "<img src=\"img/cinquante_carres.png\" width=\"300\" height=\"300\"/>"
   ]
  },
  {
   "cell_type": "code",
   "execution_count": null,
   "metadata": {
    "collapsed": true
   },
   "outputs": [],
   "source": []
  },
  {
   "cell_type": "markdown",
   "metadata": {},
   "source": [
    "## Exercice 5\n",
    "\n",
    "À l'aide de votre fonction `tsquare` réalisez une fonction `rotatingSquare` qui dessine `n` carrés de côté 100 pivotant autour d’un sommet commun pour faire un tour complet. \n",
    "Par exemple, la figure suivante montre le résultat lorsque `n=7`.\n",
    "\n",
    "<img src=\"img/sept_carres_tournant.png\" width=\"300\" height=\"300\"/>"
   ]
  },
  {
   "cell_type": "code",
   "execution_count": null,
   "metadata": {
    "collapsed": true
   },
   "outputs": [],
   "source": []
  },
  {
   "cell_type": "markdown",
   "metadata": {},
   "source": [
    "## Exercice 6\n",
    "\n",
    "Créez une fonction `polygone(n, length, col)` qui vous permet de dessiner un polygone régulier de `n` côtés de longeur `length` et de couleur `col`."
   ]
  },
  {
   "cell_type": "code",
   "execution_count": null,
   "metadata": {
    "collapsed": true
   },
   "outputs": [],
   "source": []
  },
  {
   "cell_type": "markdown",
   "metadata": {},
   "source": [
    "Ce Notebook est a été crée par David Da SILVA - 2020\n",
    "\n",
    "Source: [openclassrooms.com](https://openclassrooms.com/courses/pratiques-avancees-et-meconnues-en-python)\n",
    "\n",
    "<a rel=\"license\" href=\"http://creativecommons.org/licenses/by-nc-sa/4.0/\"><img alt=\"Creative Commons License\" style=\"border-width:0\" src=\"https://i.creativecommons.org/l/by-nc-sa/4.0/88x31.png\" /></a><br />This work is licensed under a <a rel=\"license\" href=\"http://creativecommons.org/licenses/by-nc-sa/4.0/\">Creative Commons Attribution-NonCommercial-ShareAlike 4.0 International License</a>."
   ]
  }
 ],
 "metadata": {
  "kernelspec": {
   "display_name": "Python 3",
   "language": "python",
   "name": "python3"
  },
  "language_info": {
   "codemirror_mode": {
    "name": "ipython",
    "version": 3
   },
   "file_extension": ".py",
   "mimetype": "text/x-python",
   "name": "python",
   "nbconvert_exporter": "python",
   "pygments_lexer": "ipython3",
   "version": "3.7.9"
  },
  "latex_envs": {
   "LaTeX_envs_menu_present": true,
   "autoclose": true,
   "autocomplete": true,
   "bibliofile": "biblio.bib",
   "cite_by": "apalike",
   "current_citInitial": 1,
   "eqLabelWithNumbers": true,
   "eqNumInitial": 1,
   "hotkeys": {
    "equation": "Ctrl-E",
    "itemize": "Ctrl-I"
   },
   "labels_anchors": false,
   "latex_user_defs": false,
   "report_style_numbering": false,
   "user_envs_cfg": false
  },
  "toc": {
   "base_numbering": 1,
   "nav_menu": {},
   "number_sections": true,
   "sideBar": true,
   "skip_h1_title": true,
   "title_cell": "Table of Contents",
   "title_sidebar": "Contents",
   "toc_cell": false,
   "toc_position": {},
   "toc_section_display": true,
   "toc_window_display": true
  }
 },
 "nbformat": 4,
 "nbformat_minor": 1
}