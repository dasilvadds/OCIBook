{
 "cells": [
  {
   "cell_type": "markdown",
   "metadata": {},
   "source": [
    "# Turtle : la tortue en `Python`\n",
    "---\n",
    "\n",
    "*Turtle* est un module graphique du langage de programmation Python. Il est inspiré de la programmation Logo et permet de déplacer une tortue sur l’écran.\n",
    "\n",
    "La tortue désigne un robot virtuel capable de se déplacer dans un plan en laissant une trace ou non de son passage. Elle a été inventée dans les années 1960 au MIT par Seymour Papert qui a conçu un langage informatique [LOGO](https://fr.wikipedia.org/wiki/Logo_(langage)) destiné aux enfants. De nombreux langages informatiques ont repris cette idée de tortue et Python n’échappe pas à la règle.\n",
    "\n",
    "Le but de cette partie est de découvrir quelques (mais pas toutes) fonctions permettant de contrôler la tortue. \n",
    "Depuis la version 2.5 de Python, c’est le module **`turtle`** qui fournit les fonctionnalités de base permettant de commander une (ou plusieurs) tortues."
   ]
  },
  {
   "cell_type": "code",
   "execution_count": 1,
   "metadata": {},
   "outputs": [],
   "source": [
    "# -*- coding: utf-8 -*-\n",
    "import turtle"
   ]
  },
  {
   "cell_type": "markdown",
   "metadata": {},
   "source": [
    "Les méthodes associées aux tortues peuvent utilisées sans référence à une tortue particulière, elles s'appliquent à une tortue *anonyme* qui est automatiquement créée si nécessaire.\n",
    "\n",
    "De la même manière, si aucune fenêtre d'affichage n'existe et qu'on agit sur une tortue, une fenêtre est automatiquement créée et affichée.\n",
    "\n",
    "Ces automatismes peuvent paraître pratiques mais peuvent aussi être source de confusion. Il vaut mieux les expliciter."
   ]
  },
  {
   "cell_type": "code",
   "execution_count": 2,
   "metadata": {},
   "outputs": [],
   "source": [
    "discworld = turtle.Screen()\n",
    "ATuin = turtle.Turtle()"
   ]
  },
  {
   "cell_type": "markdown",
   "metadata": {},
   "source": [
    "La tortue peut prendre plusieurs formes, “arrow”, “turtle”, “circle”, “square”, “triangle”, “classic”.  \n",
    "Par défaut elle est du type \"classic\", vérifiable avec la méthode `shape()`."
   ]
  },
  {
   "cell_type": "code",
   "execution_count": 3,
   "metadata": {},
   "outputs": [
    {
     "data": {
      "text/plain": [
       "'classic'"
      ]
     },
     "execution_count": 3,
     "metadata": {},
     "output_type": "execute_result"
    }
   ],
   "source": [
    "ATuin.shape()"
   ]
  },
  {
   "cell_type": "markdown",
   "metadata": {},
   "source": [
    "La même méthode avec un paramètre valide (cf. liste ci-dessus) permet de changer la forme de la tortue"
   ]
  },
  {
   "cell_type": "code",
   "execution_count": 4,
   "metadata": {},
   "outputs": [],
   "source": [
    "ATuin.shape(\"turtle\")"
   ]
  },
  {
   "cell_type": "markdown",
   "metadata": {},
   "source": [
    "## Les fonctions de base\n",
    "\n",
    "Les principales fonctions mises à votre disposition dans le module turtle sont les suivantes :\n",
    "\n",
    "* `reset()` : Efface l’écran, recentre la tortue et remet les variables à zéro\n",
    "* `forward(distance)` : Avance d’une distance donnée en pixel\n",
    "* `backward(distance)` : Recule d’une distance donnée en pixel\n",
    "* `left(angle)` : Pivote vers la gauche d'un angle donné en degrés\n",
    "* `right(angle)` : Pivote vers la droite d'un angle donné en degrés\n",
    "* `up()` : Relève le crayon pour pouvoir avancer sans dessiner\n",
    "* `down()` : Abaisse le crayon pour recommencer à dessiner\n",
    "* `goto(x,y)` : Déplace la tortue à la position de coordonnées (x,y) **Attention à ne pas oublier d'utiliser la fonction `up()` avant d'utiliser `goto()` sinon le parcours effectué sera tracé**"
   ]
  },
  {
   "cell_type": "code",
   "execution_count": 5,
   "metadata": {},
   "outputs": [],
   "source": [
    "ATuin.left(45)\n",
    "ATuin.forward(50)\n",
    "ATuin.right(90)\n",
    "ATuin.backward(50)\n",
    "ATuin.up()\n",
    "ATuin.goto(50,0)\n",
    "ATuin.left(45)\n",
    "ATuin.down()\n",
    "ATuin.forward(50)\n",
    "ATuin.up()\n",
    "ATuin.goto(150,0)\n",
    "ATuin.down()\n",
    "ATuin.right(45)\n",
    "ATuin.backward(50)\n",
    "ATuin.left(90)\n",
    "ATuin.forward(50)"
   ]
  },
  {
   "cell_type": "code",
   "execution_count": 6,
   "metadata": {},
   "outputs": [],
   "source": [
    "discworld.reset()"
   ]
  },
  {
   "cell_type": "code",
   "execution_count": 7,
   "metadata": {},
   "outputs": [],
   "source": [
    "turtle.shape(\"turtle\")"
   ]
  },
  {
   "cell_type": "markdown",
   "metadata": {},
   "source": [
    "#### `Exercice 1`\n",
    "\n",
    "Créez un programme qui dessine un carré dont la longueur des côtés est 121, ce carré étant dessiné depuis l’état(= position et orientation) courant de la tortue.\n",
    "\n",
    "Dans quel état se trouve la tortue après avoir tracé un carré ?"
   ]
  },
  {
   "cell_type": "code",
   "execution_count": null,
   "metadata": {},
   "outputs": [],
   "source": []
  },
  {
   "cell_type": "markdown",
   "metadata": {},
   "source": [
    "#### `Exercice 2`\n",
    "\n",
    "À partir de l'exercice précédent, réalisez le dessin de la figure constitué de dix carrés de côté 50 avec un espace de 5 entre chacun d’eux\n",
    "\n",
    "<img src=\"img/ligne10.png\" width=\"300\" height=\"300\"/>"
   ]
  },
  {
   "cell_type": "code",
   "execution_count": null,
   "metadata": {},
   "outputs": [],
   "source": []
  },
  {
   "cell_type": "markdown",
   "metadata": {},
   "source": [
    "#### `Exercice 3`\n",
    "\n",
    "Toujours à partir des exercices précédents, réalisez le dessin de la figure, soit un carré constitué de cent carrés de côté 50 disposés en 10 lignes horizontales de 10, avec une espace de 5 entre eux.\n",
    "\n",
    "<img src=\"img/cent_carres.png\" width=\"300\" height=\"300\"/>"
   ]
  },
  {
   "cell_type": "markdown",
   "metadata": {},
   "source": [
    "#### `Exercice 4`\n",
    "\n",
    "Réalisez maintenant le dessin de la figure constitué de cinquante carrés emboîtés ayant tous un sommet commun (en bas à gauche) et dont les longueurs des côtés varient de 10 en 10.\n",
    "\n",
    "<img src=\"img/cinquante_carres.png\" width=\"300\" height=\"300\"/>"
   ]
  },
  {
   "cell_type": "code",
   "execution_count": null,
   "metadata": {},
   "outputs": [],
   "source": []
  },
  {
   "cell_type": "markdown",
   "metadata": {},
   "source": [
    "## Couleurs\n",
    "\n",
    "### Mode de couleur\n",
    "\n",
    "La définition d'une couleur se fait de manière classique à l'aide de sa décomposition dans les 3 couleurs primaires du modèle aditif : **rouge**, **vert** et **bleu** (*RGB* en anglais pour *red*, *green*, *blue*) où chaque couleur peut prendre une valeur entière entre 0 et 255 (soit 256 valeurs =$2^8$ = 1 octet). \n",
    "\n",
    "Alternativement, ces valeurs peuvent être normalisées entre 0 et 1 en divisant par 255. Par défaut `turtle` utilise cette notation normalisée mais il est possible d'utiliser la notation classique en le précisant à l'aide de la méthode `colormode()`.\n",
    "\n",
    "* `colormode()` : renvoit le mode courant\n",
    "* `colormode(1)` : définit l'utilisation du mode normalisé\n",
    "* `colormode(255)` : définit l'utilisation du mode classique\n",
    "\n",
    "### Couleur du trait\n",
    "\n",
    "La fonction `pencolor(couleur)` permet de modifier la couleur du tracé (noir par défaut). Si la fonction `pencolor()`est appelé sans paramètres, elle renvoit la couleur courante.\n",
    "\n",
    "La `couleur` donnée en paramètre peut être :\n",
    "\n",
    "* un tuple RGB `(r,g,b)` où chaque composante est entre 0 et `colormode()` \n",
    "* 3 valeurs R, G et B où chaque composante est entre 0 et `colormode()` \n",
    "* une chaîne de caractère représentant sa valeur en notation **Hexadécimale** \n",
    "\n",
    "Le tableau ci-dessous montre quelques exemples de couleurs."
   ]
  },
  {
   "cell_type": "markdown",
   "metadata": {},
   "source": [
    "<table class=\"dtable\">\n",
    "\t\t<tr>\n",
    "\t\t\t<th>Couleur</th>\n",
    "\t\t\t<th>Nom</th>\n",
    "\t\t\t<th>(R,G,B)</th>\n",
    "\t\t\t<th>Hex</th>\n",
    "\t\t</tr>\n",
    "\t\t<tr>\n",
    "\t\t\t<td style=\"background-color:#000000\">&nbsp;</td>\n",
    "\t\t\t<td>Black</td>\n",
    "\t\t\t<td>(0,0,0)</td>\n",
    "\t\t\t<td>#000000</td>\n",
    "\t\t</tr>\n",
    "\t\t<tr>\n",
    "\t\t\t<td style=\"background-color:#FFFFFF\">&nbsp;</td>\n",
    "\t\t\t<td>White</td>\n",
    "\t\t\t<td>(255,255,255)</td>\n",
    "\t\t\t<td>#FFFFFF</td>\n",
    "\t\t</tr>\n",
    "\t\t<tr>\n",
    "\t\t\t<td style=\"background-color:#FF0000\">&nbsp;</td>\n",
    "\t\t\t<td>Red</td>\n",
    "\t\t\t<td>(255,0,0)</td>\n",
    "\t\t\t<td>#FF0000</td>\n",
    "\t\t</tr>\n",
    "\t\t<tr>\n",
    "\t\t\t<td style=\"background-color:#00FF00\">&nbsp;</td>\n",
    "\t\t\t<td>Green</td>\n",
    "\t\t\t<td>(0,255,0)</td>\n",
    "\t\t\t<td>#00FF00</td>\n",
    "\t\t</tr>\n",
    "\t\t<tr>\n",
    "\t\t\t<td style=\"background-color:#0000FF\">&nbsp;</td>\n",
    "\t\t\t<td>Blue</td>\n",
    "\t\t\t<td>(0,0,255)</td>\n",
    "\t\t\t<td>#0000FF</td>\n",
    "\t\t</tr>\n",
    "\t\t<tr>\n",
    "\t\t\t<td style=\"background-color:#FFFF00\">&nbsp;</td>\n",
    "\t\t\t<td>Yellow</td>\n",
    "\t\t\t<td>(255,255,0)</td>\n",
    "\t\t\t<td>#FFFF00</td>\n",
    "\t\t</tr>\n",
    "\t\t<tr>\n",
    "\t\t\t<td style=\"background-color:#00FFFF\">&nbsp;</td>\n",
    "\t\t\t<td>Cyan</td>\n",
    "\t\t\t<td>(0,255,255)</td>\n",
    "\t\t\t<td>#00FFFF</td>\n",
    "\t\t</tr>\n",
    "\t\t<tr>\n",
    "\t\t\t<td style=\"background-color:#FF00FF\">&nbsp;</td>\n",
    "\t\t\t<td>Magenta</td>\n",
    "\t\t\t<td>(255,0,255)</td>\n",
    "\t\t\t<td>#FF00FF</td>\n",
    "\t\t</tr>\n",
    "\t\t<tr>\n",
    "\t\t\t<td style=\"background-color:#BEBEBE\">&nbsp;</td>\n",
    "\t\t\t<td>Gray</td>\n",
    "\t\t\t<td>(190,190,190)</td>\n",
    "\t\t\t<td>#BEBEBE</td>\n",
    "\t\t</tr>\n",
    "\t\t<tr>\n",
    "\t\t\t<td style=\"background-color:#7F7F7F\">&nbsp;</td>\n",
    "\t\t\t<td>Gray50</td>\n",
    "\t\t\t<td>(127,127,127)</td>\n",
    "\t\t\t<td>#7F7F7F</td>\n",
    "\t\t</tr>\n",
    "\t\t<tr>\n",
    "\t\t\t<td style=\"background-color:#B03060\">&nbsp;</td>\n",
    "\t\t\t<td>Maroon</td>\n",
    "\t\t\t<td>(176,48,96)</td>\n",
    "\t\t\t<td>#B03060</td>\n",
    "\t\t</tr>\n",
    "\t\t<tr>\n",
    "\t\t\t<td style=\"background-color:#6B8E23\">&nbsp;</td>\n",
    "\t\t\t<td>OliveDrab</td>\n",
    "\t\t\t<td>(107,142,35)</td>\n",
    "\t\t\t<td>#6B8E23</td>\n",
    "\t\t</tr>\n",
    "\t\t<tr>\n",
    "\t\t\t<td style=\"background-color:#FA8072\">&nbsp;</td>\n",
    "\t\t\t<td>Salmon</td>\n",
    "\t\t\t<td>(250,128,114)</td>\n",
    "\t\t\t<td>#FA8072</td>\n",
    "\t\t</tr>\n",
    "\t\t<tr>\n",
    "\t\t\t<td style=\"background-color:#A020F0\">&nbsp;</td>\n",
    "\t\t\t<td>Purple</td>\n",
    "\t\t\t<td>(160,32,240)</td>\n",
    "\t\t\t<td>#A020F0</td>\n",
    "\t\t</tr>\n",
    "\t\t<tr>\n",
    "\t\t\t<td style=\"background-color:#40E0D0\">&nbsp;</td>\n",
    "\t\t\t<td>Turquoise</td>\n",
    "\t\t\t<td>(64,224,208)</td>\n",
    "\t\t\t<td>#40E0D0</td>\n",
    "\t\t</tr>\n",
    "\t\t<tr>\n",
    "\t\t\t<td style=\"background-color:#000080\">&nbsp;</td>\n",
    "\t\t\t<td>Navy</td>\n",
    "\t\t\t<td>(0,0,128)</td>\n",
    "\t\t\t<td>#000080</td>\n",
    "\t\t</tr>\n",
    "\t</table>\n"
   ]
  },
  {
   "cell_type": "markdown",
   "metadata": {},
   "source": [
    "Enfin la couleur passée en paramètre peut aussi être une chaîne de caractère contenant le *nom* de la couleur tel que définit dans la librairie Tcl/tk. Cette librairie définie 511 noms de couleurs représentées ci-dessous.\n",
    "\n",
    "Vous pouvez trouver la correspondance entre les *noms* des couleurs et leurs valeurs RGB [ici](https://www.tcl.tk/man/tcl8.4/TkCmd/colors.htm).\n",
    "\n",
    "<img src=\"img/python_colors.png\"/>\n",
    "\n",
    "Par exemple, pour dessiner un triangle rouge :"
   ]
  },
  {
   "cell_type": "code",
   "execution_count": 8,
   "metadata": {},
   "outputs": [],
   "source": [
    "discworld.reset() # pour nettoyer la fenêtre\n",
    "ATuin.pencolor(\"red\")\n",
    "for _ in range(3):\n",
    "    ATuin.forward(100)\n",
    "    ATuin.left(120)"
   ]
  },
  {
   "cell_type": "markdown",
   "metadata": {},
   "source": [
    "### Remplissage\n",
    "\n",
    "Il est possible de remplir un polygone avec une couleur. Il faut définir la couleur de remplissage, puis le début et la fin du polygone.\n",
    "\n",
    "La couleur de remplissage est définie par la méthode `fillcolor(couleur)` qui s'utilsie de la même manière que `pencolor()`.\n",
    "\n",
    "Le début du polygone est marqué par la commande `begin_fill()` et la fin par `end_fill()`. Il n'est pas nécessaire que la tortue se retrouve au départ du polygone pour le terminer, par défaut il se finit par un segment *virtuel* entre le point de départ et la position de la tortue lors de l'appel de `end_fill()`.\n",
    "\n",
    "Par exemple, pour dessiner une [Triforce](https://fr.wikipedia.org/wiki/Triforce_(The_Legend_of_Zelda)), il suffit de parcourir les 3 côtés d'un triangle par moitié et de remplir au fur et à mesure."
   ]
  },
  {
   "cell_type": "code",
   "execution_count": 9,
   "metadata": {},
   "outputs": [],
   "source": [
    "discworld.reset()\n",
    "ATuin.fillcolor(\"gold2\")\n",
    "ATuin.pencolor(\"gold2\")\n",
    "ATuin.begin_fill()\n",
    "ATuin.left(60)\n",
    "ATuin.forward(50)\n",
    "ATuin.right(120)\n",
    "ATuin.forward(50)\n",
    "ATuin.end_fill()\n",
    "ATuin.begin_fill()\n",
    "ATuin.forward(50)\n",
    "ATuin.right(120)\n",
    "ATuin.forward(50)\n",
    "ATuin.end_fill()\n",
    "ATuin.begin_fill()\n",
    "ATuin.forward(50)\n",
    "ATuin.right(120)\n",
    "ATuin.forward(50)\n",
    "ATuin.end_fill()"
   ]
  },
  {
   "cell_type": "markdown",
   "metadata": {},
   "source": [
    "**A noter : **\n",
    "\n",
    "* La commande `begin_fill()` peut être remplacée par `fill(True)` ou `fill(1)`.\n",
    "* La commande `end_fill()` peut être remplacée par `fill(False)` ou `fill(0)`.\n",
    "* La commande `color(couleur)` définit en même temps la couleur de trait **et** celle de remplissage. Elle s'utilise de la même manière que `fillcolor` et `pencolor`.\n",
    "\n",
    "\n",
    "#### `Exercice 5`\n",
    "\n",
    "Dessinez le drapeau Français et le drapeau Suisse."
   ]
  },
  {
   "cell_type": "code",
   "execution_count": null,
   "metadata": {},
   "outputs": [],
   "source": []
  },
  {
   "cell_type": "markdown",
   "metadata": {},
   "source": [
    "## Divers\n",
    "\n",
    "### Vitesse de la tortue\n",
    "\n",
    "On peut modifier la vitesse de déplacement de la tortue à l'aide de la commande `speed(vitesse)`. La `vitesse` donnée en paramètre peut être un entier entre 0 et 10 ou une chaîne de caractère parmis :\n",
    "\n",
    "* \"fastest\" = 0\n",
    "* \"fast\" = 10\n",
    "* \"normal\" = 6\n",
    "* \"slow\" = 3\n",
    "* \"slowest\" = 1\n",
    "\n",
    "**Notes : **\n",
    "\n",
    "* Les valeurs supérieures à 10 ou inférieures à 0.5 sont considérées comme égales à 0\n",
    "* La vitesse 0 *supprime* les animations, les mouvements sont quasiment instantanés\n",
    "\n",
    "### En vrac\n",
    "\n",
    "Quelques commandes utiles :\n",
    "\n",
    "* `width(largeur)` : définit l'épaisseur du trait à une `largeur` donnée en pixels\n",
    "* `clear()` : permet d'effacer l'écran sans la bouger la tortue ni remettre les variables à zéro\n",
    "* `write(texte)` : permet d'écrire une chaîne de caractère `texte` à la position de la tortue\n",
    "\n",
    "### Documentation complète\n",
    "\n",
    "Vous pourrez trouver la documentation complète du module `turtle` sur le [site officiel](https://docs.python.org/3/library/turtle.html).\n",
    "\n",
    "## Challenges\n",
    "\n",
    "Essayer de reproduire les dessins ci-dessous\n",
    "\n",
    "<img src=\"img/TurtleChallenges.png\" height=\"300\"/>\n",
    "\n",
    "*Indice : dans la dernière image les lignes sont séparées de $2^{\\circ}$*"
   ]
  },
  {
   "cell_type": "markdown",
   "metadata": {},
   "source": [
    "Ce Notebook est a été crée par David Da SILVA - 2020\n",
    "\n",
    "Source: [openclassrooms.com](https://openclassrooms.com/courses/pratiques-avancees-et-meconnues-en-python)\n",
    "\n",
    "<a rel=\"license\" href=\"http://creativecommons.org/licenses/by-nc-sa/4.0/\"><img alt=\"Creative Commons License\" style=\"border-width:0\" src=\"https://i.creativecommons.org/l/by-nc-sa/4.0/88x31.png\" /></a><br />This work is licensed under a <a rel=\"license\" href=\"http://creativecommons.org/licenses/by-nc-sa/4.0/\">Creative Commons Attribution-NonCommercial-ShareAlike 4.0 International License</a>."
   ]
  }
 ],
 "metadata": {
  "kernelspec": {
   "display_name": "Python 3",
   "language": "python",
   "name": "python3"
  },
  "language_info": {
   "codemirror_mode": {
    "name": "ipython",
    "version": 3
   },
   "file_extension": ".py",
   "mimetype": "text/x-python",
   "name": "python",
   "nbconvert_exporter": "python",
   "pygments_lexer": "ipython3",
   "version": "3.7.9"
  },
  "latex_envs": {
   "LaTeX_envs_menu_present": true,
   "autoclose": true,
   "autocomplete": true,
   "bibliofile": "biblio.bib",
   "cite_by": "apalike",
   "current_citInitial": 1,
   "eqLabelWithNumbers": true,
   "eqNumInitial": 1,
   "hotkeys": {
    "equation": "Ctrl-E",
    "itemize": "Ctrl-I"
   },
   "labels_anchors": false,
   "latex_user_defs": false,
   "report_style_numbering": false,
   "user_envs_cfg": false
  },
  "toc": {
   "base_numbering": 1,
   "nav_menu": {},
   "number_sections": true,
   "sideBar": true,
   "skip_h1_title": true,
   "title_cell": "Table of Contents",
   "title_sidebar": "Contents",
   "toc_cell": false,
   "toc_position": {},
   "toc_section_display": true,
   "toc_window_display": true
  }
 },
 "nbformat": 4,
 "nbformat_minor": 1
}