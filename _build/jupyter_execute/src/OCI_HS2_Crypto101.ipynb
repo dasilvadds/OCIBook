{
 "cells": [
  {
   "cell_type": "markdown",
   "metadata": {},
   "source": [
    "# Cryptographie 101\n",
    "\n",
    "---\n",
    "\n",
    "Depuis les simples substitutions de lettres à l'époque de *César*, l'art de dissimuler aux regards indiscrets le contenu de messages, notamment militaires, dépend aujourd'hui de l'arithmétique, de l'informatique et d'algorithmes puissants.\n",
    "\n",
    "## 1 - Codage de *César*\n",
    "\n",
    "Le codage dit de *Jules César* est simple : faire un décalage de trois lettres sur toutes les lettres d'un message. De plus, les lettres du message en clair sont en minuscule et les lettres du message codé en majuscule. Dans l'algorithme de *César*, a devient D, b devient E, etc.\n",
    "\n",
    "Ecrivez une fonction qui réalise le codage de *César* :\n",
    "\n",
    "- Le message à coder sera passé en paramètre (pas de d'impératif de casse)\n",
    "- La fonction affichera le message en clair en minuscule et le message codé en majuscule\n",
    "- La fonction *retournera* le message codé\n",
    "\n",
    "Ecrivez ensuite la fonction de décodage:\n",
    "\n",
    "- Le message à décoder sera passé en paramètre (pas d'impératif de casse)\n",
    "- La fonction affichera le message codé en majuscule et le message décodé en minuscule\n",
    "- la fonction *retournera* le message décodé"
   ]
  },
  {
   "cell_type": "code",
   "execution_count": null,
   "metadata": {
    "collapsed": true
   },
   "outputs": [],
   "source": []
  },
  {
   "cell_type": "markdown",
   "metadata": {},
   "source": [
    "## 2 - Codage de *César* v. 2.0\n",
    "\n",
    "La première version, très simple, a plusieurs défauts. \n",
    "Déjà, si un ennemi acquiert une connaissance du procédé, il lui est très facile de décoder immédiatement tout message reçu. En outre, s'il se trouve devant un message codé et le même message en clair, il comprendra immédiatement les règles de cryptage. La méthode qui est venue après celle de *César* a tenu compte de ces défauts : au lieu de coder chaque lettre par un même décalage, on transforme chaque lettre en une autre selon une\n",
    "règle de correspondance telle que :\n",
    "\n",
    "|b|c|d|e|f|g|h|i|...|z|a|\n",
    "|-|-|-|-|-|-|-|-|---|-|-|\n",
    "|C|H|A|R|L|E|S|B|...|Y|Z|\n",
    "\n",
    "On choisit une lettre de départ (le b, dans notre exemple) et un mot clé (CHARLES) et on ordonne les lettres par le codage décrit ci-dessus, les lettres n'appartenant pas au mot CHARLES étant classées par ordre croissant ensuite.\n",
    "\n",
    "Ecrivez une fonction qui réalise le codage de *César* v. 2.0:\n",
    "\n",
    "- Le message à coder sera passé en paramètre (pas de d'impératif de casse), ainsi que la clé et la lettre de départ\n",
    "- La fonction affichera le message en clair en minuscule et le message codé en majuscule\n",
    "- La fonction *retournera* le message codé\n",
    "\n",
    "Ecrivez ensuite la fonction de décodage:\n",
    "\n",
    "- Le message à décoder sera passé en paramètre (pas d'impératif de casse), ainsi que la clé et la lettre de départ\n",
    "- La fonction affichera le message codé en majuscule et le message décodé en minuscule\n",
    "- la fonction *retournera* le message décodé"
   ]
  },
  {
   "cell_type": "code",
   "execution_count": null,
   "metadata": {
    "collapsed": true
   },
   "outputs": [],
   "source": []
  },
  {
   "cell_type": "markdown",
   "metadata": {},
   "source": [
    "## 3 - La substitution poly-alphabétique\n",
    "\n",
    "Un algorithme de substitution poly-alphabétique est le suivant : on décale les lettres d'un mot en fonction de la place des lettres, et non en fonction des lettres elles-mêmes. On se munit d'une clé, par exemple CHARLES, et on opère des codages à la *Jules César* avec les \n",
    "$(k + 7)^{ème}$ lettres du texte en utilisant la $k^{ème}$ lettre de la clé. \n",
    "Voici un exemple d'application:\n",
    "\n",
    "C|H|A|R|L|E|S|C|H|A|R\n",
    "-|-|-|-|-|-|-|-|-|-|-\n",
    "s|o|u|v|e|n|t|p|o|u|r\n",
    "U|V|U|M|P|R|L|R|V|U|I\n",
    "\n",
    "En effet,«s+2=U»,«o+7=V»,«u+0=U»,«u+17=M»...\n",
    "\n",
    "Ecrivez une fonction qui réalise le codage par substitution poly-alphabétique:\n",
    "\n",
    "- Le message à coder sera passé en paramètre (pas de d'impératif de casse), ainsi que la clé\n",
    "- La fonction affichera le message en clair en minuscule et le message codé en majuscule\n",
    "- La fonction *retournera* le message codé\n",
    "\n",
    "Ecrivez ensuite la fonction de décodage:\n",
    "\n",
    "- Le message à décoder sera passé en paramètre (pas d'impératif de casse), ainsi que la clé\n",
    "- La fonction affichera le message codé en majuscule et le message décodé en minuscule\n",
    "- la fonction *retournera* le message décodé"
   ]
  },
  {
   "cell_type": "code",
   "execution_count": null,
   "metadata": {
    "collapsed": true
   },
   "outputs": [],
   "source": []
  },
  {
   "cell_type": "markdown",
   "metadata": {},
   "source": [
    "## 4 - Module crypto\n",
    "\n",
    "Maintenant que nous avons des fonctions de codage et de décodage pour 3 méthodes différentes, nous allons transformer ce notebook en module python qui pourra être importé dans d'autre programme et qui pourra également être executé en tant que programme comme vu dans le notebook 8.\n",
    "\n",
    "Lorsque ce module est exécuté en tant que programme, il devra demander à l'utilisateur s'il veut coder ou décoder un message, quelle méthode de cryptage doit être utilisé et les différents paramètres associés à cette méthode.  \n",
    "Enfin le message à crypter / décrypter sera demandé et le résultat affiché à l'écran.\n",
    "\n",
    "Ecrivez ci-dessous le code nécéssaire à cette réalisation. "
   ]
  },
  {
   "cell_type": "code",
   "execution_count": null,
   "metadata": {},
   "outputs": [],
   "source": []
  }
 ],
 "metadata": {
  "kernelspec": {
   "display_name": "Python 3",
   "language": "python",
   "name": "python3"
  },
  "language_info": {
   "codemirror_mode": {
    "name": "ipython",
    "version": 3
   },
   "file_extension": ".py",
   "mimetype": "text/x-python",
   "name": "python",
   "nbconvert_exporter": "python",
   "pygments_lexer": "ipython3",
   "version": "3.7.9"
  }
 },
 "nbformat": 4,
 "nbformat_minor": 1
}