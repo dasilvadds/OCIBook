{
 "cells": [
  {
   "cell_type": "markdown",
   "metadata": {},
   "source": [
    "# Mise à niveau 01\n",
    "\n",
    "Je vous propose ci-dessous des exercices pour vous permettre de réviser des concepts de base en programmation.  \n",
    "Il est évident que tout l'intérêt réside dans vos efforts à essayer de faire les exercices par vous mêmes et de chercher les notions et concepts dans les Notebook que je vous ai tranmis jusqu'à présent.\n",
    "\n",
    "Si vous cherchez les solutions sur internet, je suis convaincu que vous finirez par les trouver, mais vous perdrez tout le bénéfice des ce travail. A vous de voir..."
   ]
  },
  {
   "cell_type": "markdown",
   "metadata": {},
   "source": [
    "## Reaffectation\n",
    "\n",
    "Soient `x` et `y` 2 variables valant respectivement `21` et `toto`.  \n",
    "Inversez le contenu de ces 2 variables (i.e. `x` contient `toto` et `y` contient `21`) sans les instancier à nouveau, c'est à dire que vous n'avez pas le droit d'écrire :\n",
    "\n",
    "```python\n",
    "x = 'toto'\n",
    "y = 21\n",
    "```"
   ]
  },
  {
   "cell_type": "code",
   "execution_count": null,
   "metadata": {},
   "outputs": [],
   "source": [
    "x = 21\n",
    "y = 'toto'\n",
    "#Inversez le contenu de ces 2 variables sans les instancier à nouveau, vous ne devez ni écrire toto ni écrire 21\n"
   ]
  },
  {
   "cell_type": "markdown",
   "metadata": {},
   "source": [
    "## Liste - Création\n",
    "\n",
    "Créez une liste contenant les multiples de 3 allant de 3 à 48 inclus."
   ]
  },
  {
   "cell_type": "code",
   "execution_count": null,
   "metadata": {},
   "outputs": [],
   "source": []
  },
  {
   "cell_type": "markdown",
   "metadata": {},
   "source": [
    "## Liste - Parcours\n",
    "\n",
    "Faites un progeamme qui convertit une liste de plusieurs entiers en un unique entier.\n",
    "\n",
    "Exemple :\n",
    "La liste `[11, 33, 50]` est transformé en l'entier : `113350`"
   ]
  },
  {
   "cell_type": "code",
   "execution_count": null,
   "metadata": {},
   "outputs": [],
   "source": []
  },
  {
   "cell_type": "markdown",
   "metadata": {
    "variables": {
     "A": "<p><strong>NameError</strong>: name &#39;A&#39; is not defined</p>\n"
    }
   },
   "source": [
    "##  Liste - Extraction\n",
    "\n",
    "Faites un programme qui extrait les valeurs uniques dans la liste A suivante, et les met dans une nouvelle liste.  \n",
    "A = {{A}}"
   ]
  },
  {
   "cell_type": "code",
   "execution_count": null,
   "metadata": {},
   "outputs": [],
   "source": []
  },
  {
   "cell_type": "markdown",
   "metadata": {},
   "source": [
    "## Boucles - Carré\n",
    "\n",
    "Faites un programme qui affiche un carré de côté `n` avec des x.\n",
    "\n",
    "xxxxx  \n",
    "xxxxx  \n",
    "xxxxx  \n",
    "xxxxx  \n",
    "xxxxx"
   ]
  },
  {
   "cell_type": "code",
   "execution_count": null,
   "metadata": {},
   "outputs": [],
   "source": []
  },
  {
   "cell_type": "markdown",
   "metadata": {},
   "source": [
    "## Boucles - Triangle \n",
    "\n",
    "Faites un programme qui affiche un triangle de hauteur `n`avec des x.\n",
    "\n",
    " x   \n",
    "xx  \n",
    "xxx  \n",
    "xxxx  \n",
    "xxxxx"
   ]
  },
  {
   "cell_type": "code",
   "execution_count": null,
   "metadata": {},
   "outputs": [],
   "source": []
  },
  {
   "cell_type": "markdown",
   "metadata": {},
   "source": [
    "## Boucles - Sapin \n",
    "\n",
    "Faites un programme qui affiche un sapin de hauteur `n` avec des x.\n",
    "\n",
    "&nbsp;&nbsp;&nbsp;&nbsp;&nbsp;&nbsp;&nbsp;&nbsp;x  \n",
    "&nbsp;&nbsp;&nbsp;&nbsp;x &nbsp;x &nbsp;x  \n",
    "x &nbsp;x &nbsp;x &nbsp;x &nbsp;x  "
   ]
  },
  {
   "cell_type": "code",
   "execution_count": null,
   "metadata": {},
   "outputs": [],
   "source": []
  },
  {
   "cell_type": "markdown",
   "metadata": {},
   "source": [
    "## Boucles - Boite\n",
    "\n",
    "Faites un programme qui affiche une boite de hauteur `a` et longueur `b` avec des x.  \n",
    "L’intérieur de la boite doit rester vide.\n",
    "\n",
    "xxxxxxxxxxxxx  \n",
    "x&nbsp;&nbsp;&nbsp;&nbsp;&nbsp;&nbsp;&nbsp;&nbsp;&nbsp;&nbsp;&nbsp;&nbsp;&nbsp;&nbsp;&nbsp;&nbsp;&nbsp;&nbsp;&nbsp;&nbsp;&nbsp;x  \n",
    "x&nbsp;&nbsp;&nbsp;&nbsp;&nbsp;&nbsp;&nbsp;&nbsp;&nbsp;&nbsp;&nbsp;&nbsp;&nbsp;&nbsp;&nbsp;&nbsp;&nbsp;&nbsp;&nbsp;&nbsp;&nbsp;x  \n",
    "x&nbsp;&nbsp;&nbsp;&nbsp;&nbsp;&nbsp;&nbsp;&nbsp;&nbsp;&nbsp;&nbsp;&nbsp;&nbsp;&nbsp;&nbsp;&nbsp;&nbsp;&nbsp;&nbsp;&nbsp;&nbsp;x  \n",
    "xxxxxxxxxxxxx"
   ]
  },
  {
   "cell_type": "code",
   "execution_count": null,
   "metadata": {},
   "outputs": [],
   "source": []
  },
  {
   "cell_type": "markdown",
   "metadata": {},
   "source": [
    "## Fonctions - Dés\n",
    "\n",
    "Écrivez une fonction qui simule le lancer de 2 dés à 6 faces, le premier dé représente les dizaines, le second les unités. La fonction devra retourner le nombre ainsi obtenu."
   ]
  },
  {
   "cell_type": "code",
   "execution_count": null,
   "metadata": {},
   "outputs": [],
   "source": []
  },
  {
   "cell_type": "markdown",
   "metadata": {},
   "source": [
    "## Fonctions - Boucle\n",
    "\n",
    "Écrivez une fonction itérative (avec une boucle) qui calcule le produit des n premiers entiers. "
   ]
  },
  {
   "cell_type": "code",
   "execution_count": null,
   "metadata": {},
   "outputs": [],
   "source": []
  },
  {
   "cell_type": "markdown",
   "metadata": {},
   "source": [
    "## Fonctions - Liste \n",
    "\n",
    "Écrivez une fonction qui prend en paramètre deux nombres entiers `a` et `b` et qui retourne une liste allant de 0 à `a`, sauf tous les nombres divisibles par `b`. "
   ]
  },
  {
   "cell_type": "code",
   "execution_count": null,
   "metadata": {},
   "outputs": [],
   "source": []
  },
  {
   "cell_type": "markdown",
   "metadata": {},
   "source": [
    "## Fonctions -  Triangle\n",
    "\n",
    "Écrivez une fonction `is_trirect(a, b, c)` qui prend en paramètre les 3 longueurs des côtés d'un triangle.  \n",
    "La fonction renvoie vrai si le triangle est rectangle, faux sinon. "
   ]
  },
  {
   "cell_type": "code",
   "execution_count": null,
   "metadata": {},
   "outputs": [],
   "source": []
  },
  {
   "cell_type": "markdown",
   "metadata": {},
   "source": [
    "## Fonctions - Fichiers \n",
    "\n",
    "Écrivez un programme qui compte et affiche à l’écran combien de mots sont contenus dans un fichier \"input.txt\". \n",
    "\n",
    "On considères les mots comme étant des suites de caractères séparés par des espaces et les lignes, séparées par le caractère `\\n`. "
   ]
  },
  {
   "cell_type": "code",
   "execution_count": null,
   "metadata": {},
   "outputs": [],
   "source": []
  }
 ],
 "metadata": {
  "kernelspec": {
   "display_name": "Python 3",
   "language": "python",
   "name": "python3"
  },
  "language_info": {
   "codemirror_mode": {
    "name": "ipython",
    "version": 3
   },
   "file_extension": ".py",
   "mimetype": "text/x-python",
   "name": "python",
   "nbconvert_exporter": "python",
   "pygments_lexer": "ipython3",
   "version": "3.8.5"
  },
  "latex_envs": {
   "LaTeX_envs_menu_present": true,
   "autoclose": true,
   "autocomplete": true,
   "bibliofile": "biblio.bib",
   "cite_by": "apalike",
   "current_citInitial": 1,
   "eqLabelWithNumbers": true,
   "eqNumInitial": 1,
   "hotkeys": {
    "equation": "Ctrl-E",
    "itemize": "Ctrl-I"
   },
   "labels_anchors": false,
   "latex_user_defs": false,
   "report_style_numbering": false,
   "user_envs_cfg": false
  },
  "toc": {
   "base_numbering": 1,
   "nav_menu": {},
   "number_sections": true,
   "sideBar": true,
   "skip_h1_title": true,
   "title_cell": "Table of Contents",
   "title_sidebar": "Contents",
   "toc_cell": false,
   "toc_position": {},
   "toc_section_display": true,
   "toc_window_display": false
  }
 },
 "nbformat": 4,
 "nbformat_minor": 4
}
