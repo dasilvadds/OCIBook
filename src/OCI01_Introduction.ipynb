{
 "cells": [
  {
   "cell_type": "markdown",
   "metadata": {},
   "source": [
    "# Introduction à Python & iPython notebook\n",
    "---"
   ]
  },
  {
   "cell_type": "markdown",
   "metadata": {},
   "source": [
    "## Introduction "
   ]
  },
  {
   "cell_type": "markdown",
   "metadata": {},
   "source": [
    "Nous allons apprendre la langage de programmation *Python* ainsi que l'utilisation de différents modules de calculs numériques et de représentation graphique. *Python* est un langage de programmation facile à apprendre et très utilisé c'est pourquoi il a été choisi pour ce cours. Il y a de multiple façons de lancer des progammes *Python*, de la ligne de commandes aux interfaces graphiques.\n",
    "\n",
    "[Python](http://www.python.org/) est un langage haut niveau, orienté objet est très versatile.\n",
    "\n",
    "Charactéristiques générales de *Python*:\n",
    "\n",
    "* **langage simple et clair:** Le code est facile à lire et intuitif, la syntaxe est minimaliste et facile à apprendre.\n",
    "* **langage expressif:** Mois de lignes de code, moins de bugs, plus facile à maintenir.\n",
    "\n",
    "Détails techniques:\n",
    "\n",
    "* **typage dynamique:** Pas besoin de définir le type des variables, des arguments des fonctions ou de ce qu'elles retournent.\n",
    "* **gestion automatique de la mémoire:** Pas besoin d'allouer ou de désallouer de la mémoire pour les variables et les structures de données. Pas de problèmes de fuite de mémoire.\n",
    "* **langage interprété:** Pas besoin de compiler le code. L'interpréteur *Python* lit et exécute le code à la volée.\n",
    "\n",
    "Avantages:\n",
    "\n",
    "* Le principal avantage est la facilité de programmation ce qui minimize le temps de développement, de débuggage et de maintien du code.\n",
    "* La conception du langage encourage plusieurs bonnes pratiques de programmation:\n",
    " * Programmation orientée objets et modulaire.\n",
    " * Réutilisation du code.\n",
    " * Intégration de la documentation dans le code.\n",
    "* Une vaste collections de librairies et de modules additionnels.\n",
    "\n",
    "Désavantages:\n",
    "\n",
    "*Python* étant un langage interprété et à typage dynamique, l'exécution de code *Python* peut être plus longue que celle de code écrit dans des langage compilé forrtement typés tels que C++ ou Fortran. \n"
   ]
  },
  {
   "cell_type": "code",
   "execution_count": null,
   "metadata": {},
   "outputs": [],
   "source": [
    "print(\"Bonjour Toto\")"
   ]
  },
  {
   "cell_type": "markdown",
   "metadata": {},
   "source": [
    "## Les bases en Python"
   ]
  },
  {
   "cell_type": "markdown",
   "metadata": {},
   "source": [
    "Ce cours se fera par le biais de *notebook ipython* comme celui-ci. \n",
    "Un notebook est interactif - vous pouvez modifier et faire tourner du code dans des cellules et sauvegarder le résultat.\n",
    "Les cellules de code commencent par \"In [*n*]:\" où *n* indique l'ordre dans lequel les cellules ont été interprétées. Le résultat de l'interprétation du code est normalement affichée dans une cellule directement sous-jacente commençant par \"Out [*n*]:\". Pour exécuter le contenu d'une cellule, utilisez *shift-enter* ou sélectionnez *Run* dans le menu *Cell*.\n",
    "\n",
    "Il est conseillé d'exécuter chaque cellule de code et de s'assurer d'avoir compris pourquoi un certain résultat est produit. Certaines cellules de code dépendent de définitions faites dans des cellules précédentes, vous obtiendrez les meilleurs résultats en exécutant les cellules de manière séquentielles. Au fur et à mesure que vous avancerez dans un notebook, vous trouverez des exercices marqués \"Exercice\", faites-les !\n",
    "\n",
    "**Quelques instructions de base**\n",
    "\n",
    "- Cliquez sur les bouton `Play` pour exécuter et passer à la cellule suivante. Le raccourci clavier est `shift-enter`\n",
    "- Pour ajouter une nouvelle cellule sélectionnez le menu `\"Insert->Insert New Cell Below/Above\"` ou cliquez sur le bouton '+'\n",
    "- Vous pouvez changer le mode code d'une cellule vers le mode texte en utilisant le menu déroulant.\n",
    "- Vous pouvez changer le contenu d'une cellule en double-cliquant dessus.\n",
    "- Pour sauvegarder votre notebook, sélectionnez le menu `\"File->Save and Checkpoint\"` ou pressez `Ctrl-s` ou `Command-s` sur un Mac\n",
    "- Pour annuler une opération, pressez `Ctrl-z` ou `Command-z` sur un Mac\n",
    "- Pour annuler la supression d'une cellule faite par le menu `Edit->Delete Cell`, sélectionnez le menu `Edit->Undo Delete Cell`\n",
    "- Le menu `Help->Keyboard Shortcuts` propose une liste de raccourcis clavier\n",
    "\n",
    "Ce notebook est inspiré des notebooks suivants:\n",
    "\n",
    "* [Lab1-IntroductionToPython](http://www.ectropy.info/post/python-introduction-labs) de Alexei Gilchrist\n",
    "* [A Crash Course in Python for Scientists](http://nbviewer.ipython.org/gist/rpmuller/5920182) de Rick Muller\n",
    "* [Lectures on Scientific Computing with Python](http://nbviewer.ipython.org/github/jrjohansson/scientific-python-lectures/tree/master) de J.R. Johansson."
   ]
  },
  {
   "cell_type": "markdown",
   "metadata": {},
   "source": [
    "### Arithmetique"
   ]
  },
  {
   "cell_type": "markdown",
   "metadata": {},
   "source": [
    "Vous pouvez utiliser python comme une calculatrice, les priorités de calcul sont respectées.\n",
    "Par exemple, $9 \\times (2+3) -40 +2^2$ s'écrit :"
   ]
  },
  {
   "cell_type": "code",
   "execution_count": null,
   "metadata": {},
   "outputs": [],
   "source": [
    "9 * (2 + 3) - 40 + 2"
   ]
  },
  {
   "cell_type": "markdown",
   "metadata": {},
   "source": [
    "**Attention à la priorité des opérastions**"
   ]
  },
  {
   "cell_type": "markdown",
   "metadata": {},
   "source": [
    "Dans un notebook, le résultat d'une cellule est celui de la dernière commande."
   ]
  },
  {
   "cell_type": "code",
   "execution_count": null,
   "metadata": {},
   "outputs": [],
   "source": [
    "12\n",
    "12 * 12\n",
    "12 * 12 * 12\n",
    "12 * 12 * 12 * 12\n",
    "print(\"Toto\")"
   ]
  },
  {
   "cell_type": "markdown",
   "metadata": {},
   "source": [
    "Pour afficher les résultats intermédiaires, utiliser la fonction `print`"
   ]
  },
  {
   "cell_type": "code",
   "execution_count": null,
   "metadata": {},
   "outputs": [],
   "source": [
    "print(3 * 7)"
   ]
  },
  {
   "cell_type": "markdown",
   "metadata": {},
   "source": [
    "#### Exercice\n",
    "\n",
    "Modifiez le code ci-dessous afin d'afficher tous les résultats intermédiaires"
   ]
  },
  {
   "cell_type": "code",
   "execution_count": null,
   "metadata": {},
   "outputs": [],
   "source": [
    "12\n",
    "12*12\n",
    "12*12*12\n",
    "12*12*12*12"
   ]
  },
  {
   "cell_type": "markdown",
   "metadata": {},
   "source": [
    "Les nombres complexes sont définis de manières native en python. Un nombre imaginaire est suivi de la lettre \"j\":"
   ]
  },
  {
   "cell_type": "code",
   "execution_count": null,
   "metadata": {},
   "outputs": [],
   "source": [
    "2j"
   ]
  },
  {
   "cell_type": "markdown",
   "metadata": {},
   "source": [
    "En général un nombre complexe et l'addition d'un réel et d'un nombre imaginaire, par exemple:"
   ]
  },
  {
   "cell_type": "code",
   "execution_count": null,
   "metadata": {},
   "outputs": [],
   "source": [
    "2 + 1j + 4 + 2j"
   ]
  },
  {
   "cell_type": "markdown",
   "metadata": {},
   "source": [
    "et"
   ]
  },
  {
   "cell_type": "code",
   "execution_count": null,
   "metadata": {},
   "outputs": [],
   "source": [
    "(2 + 1j) * (4 + 2j)"
   ]
  },
  {
   "cell_type": "markdown",
   "metadata": {},
   "source": [
    "#### Exercice\n",
    "\n",
    "Étant donné le nombre imaginaire pur $i=\\sqrt{-1}$, calculez $i^i$ :"
   ]
  },
  {
   "cell_type": "code",
   "execution_count": null,
   "metadata": {},
   "outputs": [],
   "source": []
  },
  {
   "cell_type": "markdown",
   "metadata": {},
   "source": [
    "### Variables"
   ]
  },
  {
   "cell_type": "markdown",
   "metadata": {},
   "source": [
    "Les variables sont définies à l'aide du symbole égal ( **=** ) et la valeur peut être n'importe quel objet Python (nous reviendrons plus en détails sur la notion d'objet un peu plus tard). \n",
    "Le type d'objet affecté à une variable peut changer durant l'exécution d'un programme, il n'est pas définitif - c'est le typage dynamique.\n",
    "Le nom d'une variable doit commencer avec une lettre ou une underscore ( **\\_** ) et peut contenir des caractères alphanumériques et des underscores.\n",
    "**Prenez l'habitude de donner des noms significatifs à vos variables.**"
   ]
  },
  {
   "cell_type": "code",
   "execution_count": null,
   "metadata": {},
   "outputs": [],
   "source": [
    "A = 10\n",
    "B_2 = 5\n",
    "A_plus_B_2 = A + B_2\n",
    "print(A**B_2)\n",
    "\n",
    "A = \"Five \"\n",
    "print(A * B_2)"
   ]
  },
  {
   "cell_type": "markdown",
   "metadata": {},
   "source": [
    "Certains noms sont réservé pour le langage et ne peuvent pas être utilisés pour des variables:\n",
    "\n",
    "    and, as, assert, break, class, continue, def, del, elif, else, except,\n",
    "    exec, finally, for, from, global, if, import, in, is, lambda, not, or,\n",
    "    pass, print, raise, return, try, while, with, yield"
   ]
  },
  {
   "cell_type": "markdown",
   "metadata": {},
   "source": [
    "Une fonctionalité très pratique de *iPython* est la complétion automatique. Dans la cellule suivante, tapez `A_` puis la touche TAB ( ->| )."
   ]
  },
  {
   "cell_type": "code",
   "execution_count": null,
   "metadata": {},
   "outputs": [],
   "source": []
  },
  {
   "cell_type": "markdown",
   "metadata": {},
   "source": [
    "#### Exercice\n",
    "\n",
    "Affectez les valeurs suivantes aux variables correspondantes:\n",
    "- `7` dans la variable `my_int`\n",
    "- `2.21` dans la variable `my_float`\n",
    "- `True` dans la variable `my_bool`"
   ]
  },
  {
   "cell_type": "code",
   "execution_count": null,
   "metadata": {},
   "outputs": [],
   "source": []
  },
  {
   "cell_type": "markdown",
   "metadata": {},
   "source": [
    "Effectuez les opérations suivantes:\n",
    "- `my_int` divisé par `my_float` \n",
    "- `my_float` à la puissance `my_int`\n",
    "- `my_bool` plus `my_int`"
   ]
  },
  {
   "cell_type": "code",
   "execution_count": null,
   "metadata": {},
   "outputs": [],
   "source": []
  },
  {
   "cell_type": "markdown",
   "metadata": {},
   "source": [
    "Que se passe-t-il pour la troisième opération si on affecte `False` à `my_bool` ?\n",
    "Que peut-on en déduire au sujet des variables booléennes en *Python* ?\n",
    "\n",
    "Ecrivez votre réponse dans une nouvelle cellule ci-dessous."
   ]
  },
  {
   "cell_type": "markdown",
   "metadata": {},
   "source": [
    "### Strings (chaîne de caractères)"
   ]
  },
  {
   "cell_type": "markdown",
   "metadata": {},
   "source": [
    "En *Python* les chaînes de caractères (*string*) sont défini en utilisant des paires de guillemets simple (') ou double (\"). Cela permet d'inclure des apostrophes ou des citations dans des chaînes de caractères."
   ]
  },
  {
   "cell_type": "code",
   "execution_count": null,
   "metadata": {},
   "outputs": [],
   "source": [
    "print(\"Albert O'Connor\")\n",
    "print('Je lui ai dit \"Salut!\"')"
   ]
  },
  {
   "cell_type": "markdown",
   "metadata": {},
   "source": [
    "Certains opérateurs mathématiques ont été surchargés pour fonctionner avec des chaînes de caractères. Par exemple l'opérateur '**+**' concatène les strings et '**\\***' les répète."
   ]
  },
  {
   "cell_type": "code",
   "execution_count": null,
   "metadata": {},
   "outputs": [],
   "source": [
    "\"Good\" + \" \" + \"Morning!\""
   ]
  },
  {
   "cell_type": "code",
   "execution_count": null,
   "metadata": {},
   "outputs": [],
   "source": [
    "\"=\" * 30"
   ]
  },
  {
   "cell_type": "markdown",
   "metadata": {},
   "source": [
    "#### Commentaires\n",
    "\n",
    "*Python* ignore tout ce qui se trouve sur une ligne précédée du symbole #, ce qui permet de rajouter des commentaires à votre code ou d'en désactiver temporairement une partie.\n",
    "Si ce symbole est contenu dans une string, il est considéré comme un caractère normal et les caractères suivant ne sont pas ignorés.\n",
    "Prenez l'habitude de **toujours commenter votre code**, même si vous ne l'écrivez que pour vous. Quelques mots d'explications rendront votre code beaucoup plus lisible et vous feront gagner du temps lorsque vous y reviendrez plus tard."
   ]
  },
  {
   "cell_type": "code",
   "execution_count": null,
   "metadata": {},
   "outputs": [],
   "source": [
    "# this is a comment and won't get evaluated\n",
    "# a = 10\n",
    "a = 15\n",
    "\n",
    "a"
   ]
  },
  {
   "cell_type": "markdown",
   "metadata": {},
   "source": [
    "#### Exercice\n",
    "\n",
    "Corrigez l'erreur dans l'affectation suivante et ajoutez un commentaire qui explique la modification faite et pourquoi."
   ]
  },
  {
   "cell_type": "code",
   "execution_count": null,
   "metadata": {},
   "outputs": [],
   "source": [
    "welcome_message = \"Buenos dias! \"'"
   ]
  },
  {
   "cell_type": "markdown",
   "metadata": {},
   "source": [
    "### Modules"
   ]
  },
  {
   "cell_type": "markdown",
   "metadata": {},
   "source": [
    "La plupart des fonctionnalités de *Python* sont fourni par des *modules* qui peuvent être importés afin de fournir des constantes, des fonctions, des classe, etc.\n",
    "*Python* contient de base une grande quantité de ces modules sous la dénomination de la **Python Standard Library**.\n",
    "Cette librairie fournit des outils pour manipuler des fichiers, des dossiers, lire des données, explorer du XML, etc.\n",
    "Par exemple le module *math* contient de nombreuses fonctions et constantes mathématique qui peuvent être utilisées une fois le module *importé*."
   ]
  },
  {
   "cell_type": "code",
   "execution_count": null,
   "metadata": {},
   "outputs": [],
   "source": [
    "import math"
   ]
  },
  {
   "cell_type": "markdown",
   "metadata": {},
   "source": [
    "Nous pouvons maintenant utiliser la constante $\\pi$"
   ]
  },
  {
   "cell_type": "code",
   "execution_count": null,
   "metadata": {},
   "outputs": [],
   "source": [
    "print(math.pi)"
   ]
  },
  {
   "cell_type": "markdown",
   "metadata": {},
   "source": [
    "Pour utiliser un élément d'un module, celui-ci doit être précédé du nom du module qui le défini.\n",
    "Afin d'éviter d'avoir à écrire le nom du module trop souvent, il est possible d'importer certains éléments du module dans l'espace de nom (*namespace*) local."
   ]
  },
  {
   "cell_type": "code",
   "execution_count": null,
   "metadata": {},
   "outputs": [],
   "source": [
    "from math import pi, cos\n",
    "\n",
    "cos(pi)"
   ]
  },
  {
   "cell_type": "markdown",
   "metadata": {},
   "source": [
    "Il est également possible d'importer tous les éléments d'un module en utilisant la commande suivante"
   ]
  },
  {
   "cell_type": "code",
   "execution_count": null,
   "metadata": {},
   "outputs": [],
   "source": [
    "from math import *\n",
    "\n",
    "sin(pi / 2.0)"
   ]
  },
  {
   "cell_type": "markdown",
   "metadata": {},
   "source": [
    "L'avantage de cette approche est qu'elle permet d'utiliser toutes les fonctions et constantes du module *math* sans avoir à taper le préfixe \"math\".\n",
    "Le problème est que maintenant le namespace local contient tout un tas d'éléments qui ne sont pas forcément souhaités et surtout qui risquent d'entrer en conflit avec d'autres éléments définis auparavant.\n",
    "C'est pourquoi il est fortement conseillé d'utiliser plutôt une des deux premières méthodes."
   ]
  },
  {
   "cell_type": "markdown",
   "metadata": {},
   "source": [
    "#### Exercice\n",
    "\n",
    "Affectez à la variable `x` la valeur $\\dfrac{3e}{\\pi}$.\n",
    "Calculer l'expression suivante : $y=\\sqrt{\\log(7x^2+21x-cos(\\dfrac{\\pi}{4})}$"
   ]
  },
  {
   "cell_type": "code",
   "execution_count": null,
   "metadata": {},
   "outputs": [],
   "source": []
  },
  {
   "cell_type": "markdown",
   "metadata": {},
   "source": [
    "#### Un peu d'aide ?"
   ]
  },
  {
   "cell_type": "markdown",
   "metadata": {},
   "source": [
    "Il existe plusieurs manières d'obtenir de l'aide ou de savoir ce qui est disponible sans pour autant avoir besoin de documentation extérieure ou de Google.\n",
    "La fonction intrinsèque *dir* affiche tous les éléments d'un module ou d'une classe et permet d'avoir un aperçu de ce qui est disponible."
   ]
  },
  {
   "cell_type": "code",
   "execution_count": null,
   "metadata": {},
   "outputs": [],
   "source": [
    "print(dir(math))"
   ]
  },
  {
   "cell_type": "markdown",
   "metadata": {},
   "source": [
    "La fonction *help* est elle aussi très utile:"
   ]
  },
  {
   "cell_type": "code",
   "execution_count": null,
   "metadata": {},
   "outputs": [],
   "source": [
    "help(math)"
   ]
  },
  {
   "cell_type": "markdown",
   "metadata": {},
   "source": [
    "Ce Notebook est a été crée par David Da SILVA - 2020\n",
    "\n",
    "<a rel=\"license\" href=\"http://creativecommons.org/licenses/by-nc-sa/4.0/\"><img alt=\"Creative Commons License\" style=\"border-width:0\" src=\"https://i.creativecommons.org/l/by-nc-sa/4.0/88x31.png\" /></a><br />This work is licensed under a <a rel=\"license\" href=\"http://creativecommons.org/licenses/by-nc-sa/4.0/\">Creative Commons Attribution-NonCommercial-ShareAlike 4.0 International License</a>."
   ]
  }
 ],
 "metadata": {
  "kernelspec": {
   "display_name": "Python 3",
   "language": "python",
   "name": "python3"
  },
  "language_info": {
   "codemirror_mode": {
    "name": "ipython",
    "version": 3
   },
   "file_extension": ".py",
   "mimetype": "text/x-python",
   "name": "python",
   "nbconvert_exporter": "python",
   "pygments_lexer": "ipython3",
   "version": "3.8.5"
  },
  "latex_envs": {
   "LaTeX_envs_menu_present": true,
   "autoclose": true,
   "autocomplete": true,
   "bibliofile": "biblio.bib",
   "cite_by": "apalike",
   "current_citInitial": 1,
   "eqLabelWithNumbers": true,
   "eqNumInitial": 1,
   "hotkeys": {
    "equation": "Ctrl-E",
    "itemize": "Ctrl-I"
   },
   "labels_anchors": false,
   "latex_user_defs": false,
   "report_style_numbering": false,
   "user_envs_cfg": false
  },
  "toc": {
   "base_numbering": 1,
   "nav_menu": {},
   "number_sections": true,
   "sideBar": true,
   "skip_h1_title": true,
   "title_cell": "Table of Contents",
   "title_sidebar": "Contents",
   "toc_cell": false,
   "toc_position": {
    "height": "calc(100% - 180px)",
    "left": "10px",
    "top": "150px",
    "width": "244.391px"
   },
   "toc_section_display": true,
   "toc_window_display": true
  }
 },
 "nbformat": 4,
 "nbformat_minor": 1
}
