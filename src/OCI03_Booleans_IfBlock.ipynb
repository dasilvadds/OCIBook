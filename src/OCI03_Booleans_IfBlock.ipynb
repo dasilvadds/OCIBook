{
 "cells": [
  {
   "cell_type": "markdown",
   "metadata": {},
   "source": [
    "# Booléens et tests\n",
    "---"
   ]
  },
  {
   "cell_type": "markdown",
   "metadata": {},
   "source": [
    "## Vrai ou Faux\n",
    "\n",
    "En plus des différents types déjà vus, il existe un type un peu particulier appelé **Booléens** qui prend uniquement 2 valeurs, **vrai** ou **faux**.\n",
    "En *Python* un booléen est soit **`True`** soit **`False`**.\n",
    "Les booléens servent à donner le résultat d'une comparaison entre 2 objets.\n",
    "*Python* permet de comparer 2 objets de plusieurs manières :\n",
    "\n",
    "* `A==B`: est-ce que `A` est égal à `B`?\n",
    "* `A!=B`: est-ce que `A` est différent de `B`?\n",
    "* `A>B`, `A>=B`, `A<B`, `A<=B`: est-ce que `A` est plus grand, plus grand ou égal, plus petit, plus petit ou égal à `B`?\n",
    "* `A is B`: est-ce que `A` est le même objet que `B` ? (pas uniquement sa valeur)\n",
    "* `A in B`: est-ce que `B` contient `A` ? (si `B` est un container comme une liste par exemple)"
   ]
  },
  {
   "cell_type": "code",
   "execution_count": null,
   "metadata": {},
   "outputs": [],
   "source": [
    "9**2 == 10+8*10-9"
   ]
  },
  {
   "cell_type": "code",
   "execution_count": null,
   "metadata": {},
   "outputs": [],
   "source": [
    "[1,2,3]==[1,2,3]"
   ]
  },
  {
   "cell_type": "code",
   "execution_count": null,
   "metadata": {},
   "outputs": [],
   "source": [
    "[1,2,3]==[1,3,2]"
   ]
  },
  {
   "cell_type": "code",
   "execution_count": null,
   "metadata": {},
   "outputs": [],
   "source": [
    "3.0 in ['Yay!', 'Python', 3.0]"
   ]
  },
  {
   "cell_type": "markdown",
   "metadata": {},
   "source": [
    "Ces tests peuvent être combinés entre eux en utilisant des opérateurs logiques."
   ]
  },
  {
   "cell_type": "code",
   "execution_count": null,
   "metadata": {},
   "outputs": [],
   "source": [
    "A = 30\n",
    "\n",
    "( A >10 ) or ( A%3==0 )"
   ]
  },
  {
   "cell_type": "markdown",
   "metadata": {},
   "source": [
    "## Opérations et transformation \n",
    "\n",
    "Les opérateurs logique opèrent sur des booléens et renvoient des booléens en fonction de leurs tables.\n",
    "Il existe 2 opérations, **ET** et **OU** et 1 transformation appelée **contraire**.\n",
    "\n",
    "Les tables sont les suivantes:\n",
    "\n",
    "`and`|`True`|`False`\n",
    "---|---|---\n",
    "**`True`**|`True`|`False`\n",
    "**`False`**|`False`|`False`\n",
    "\n",
    "`or`|`True`|`False`\n",
    "---|---|---\n",
    "**`True`**|`True`|`True`\n",
    "**`False`**|`True`|`False`\n",
    "\n",
    "-|`not`\n",
    "---|---\n",
    "**`True`**|`False`\n",
    "**`False`**|`True`\n",
    "\n",
    "En *Python* ces opérateurs sont notés **`and`**, **`or`** et **`not`** et les résultats des tables peuvent être obtenus en appliquant les fonctions sur des booléens."
   ]
  },
  {
   "cell_type": "code",
   "execution_count": null,
   "metadata": {},
   "outputs": [],
   "source": [
    "print(True and False)\n",
    "print(False or True)\n",
    "print(not False)"
   ]
  },
  {
   "cell_type": "markdown",
   "metadata": {},
   "source": [
    "## Table de vérité\n",
    "\n",
    "Une table de vérité est une table mathématique utilisée en logique pour représenter de manière sémantique des expressions logiques et calculer la valeur de leur fonction relativement à chaque combinaison de valeur assumée par leurs variables logiques. \n",
    "\n",
    "Les tables de vérité peuvent être utilisées en particulier pour dire si une proposition est vraie pour toutes les valeurs légitimement imputées."
   ]
  },
  {
   "cell_type": "markdown",
   "metadata": {},
   "source": [
    "Considérons les 2 variables `A` et `B`, et pour simplifier la lecture nous associerons la valeur 0 à `False` et la valeur 1 à `True`.\n",
    "\n",
    "Les tables de vérité pour les 3 opérateurs s'écrivent :\n",
    "\n",
    "`A`|`B`|`not A`|`not B`|`A and B`|`A or B`\n",
    "---|---|:---:|:---:|:---:|:---:\n",
    "0|0|1|1|0|0\n",
    "0|1|1|0|0|1\n",
    "1|0|0|1|0|1\n",
    "1|1|0|0|1|1"
   ]
  },
  {
   "cell_type": "markdown",
   "metadata": {},
   "source": [
    "### Exercice\n",
    "\n",
    "En utilisant `Python` pour faire les tests, remplissez la table de vérité suivante, et conservez **tous** les blocs de code `Python` que vous avez utilisé.\n",
    "\n",
    "`A`|`B`|`not (A and B)`|`(not B) or (not A)`\n",
    "---|---|:---:|:---:\n",
    "0|0|?|?\n",
    "0|1|?|?\n",
    "1|0|1|?\n",
    "1|1|?|?"
   ]
  },
  {
   "cell_type": "code",
   "execution_count": null,
   "metadata": {},
   "outputs": [],
   "source": [
    "A = True\n",
    "B = False"
   ]
  },
  {
   "cell_type": "code",
   "execution_count": null,
   "metadata": {},
   "outputs": [],
   "source": [
    "not (A and B)"
   ]
  },
  {
   "cell_type": "markdown",
   "metadata": {},
   "source": [
    "### Questions\n",
    "\n",
    "Que remarquez-vous ?\n",
    "\n",
    "Quelle relation pensez-vous qu'il y ait entre `not(A or B)` et `(not A) and (not B)` ?\n",
    "\n",
    "Connaissez-vous les lois de [*De Morgan*](https://fr.wikipedia.org/wiki/Lois_de_De_Morgan)?"
   ]
  },
  {
   "cell_type": "markdown",
   "metadata": {},
   "source": [
    "*Vos réponses ici*"
   ]
  },
  {
   "cell_type": "markdown",
   "metadata": {},
   "source": [
    "## Bloc de test\n",
    "\n",
    "Une particularité de *Python* est l'utilisation des indentation afin de rassembler des informations au sein d'un bloc.\n",
    "Les indentations dans *Python* remplace les accolades **{ }** dans d'autres langages tels que **C++**.\n",
    "\n",
    "Afin de définir un bloc de code en *Python* comme pour les tests, les fonctions ou les boucles, il faut utiliser le double point **:** suivi d'un niveau d'indentation.\n",
    "\n",
    "Voyons par exemple la structure d'un bloc conditionnel de type *SI...ALORS...SINON* qui se traduit en *Python* par les commandes `if` et `else`.\n",
    "\n",
    "    if A==B:\n",
    "      # les instructions de ce bloc sont exécutées\n",
    "      # si A est égal à B\n",
    "    else:\n",
    "      # sinon ce sont les instructions de ce bloc\n",
    "      # qui seront exécutées\n",
    "\n",
    "Un bloc conditionnel de manière général possède la structure légèrement plus complexe suivante:\n",
    "\n",
    "    if A==B:\n",
    "      # les instructions de ce bloc sont exécutées\n",
    "      # si A est égal à B\n",
    "    elif A==C:\n",
    "      # celles de ce bloc sont exécutées\n",
    "      # si A est égal C  \n",
    "      # ET si le premier test est faux (renvoi False)\n",
    "    elif test2:\n",
    "      # celles de ce bloc sont exécutées\n",
    "      # si test2 est vrai (renvoi True)  \n",
    "      # ET si les deux premiers tests sont faux (renvoi False)\n",
    "    \n",
    "    .\n",
    "    .\n",
    "    .\n",
    "    \n",
    "    else:\n",
    "        # finalement ces instructions sont exécutées si \n",
    "        # aucun des tests précédents n'est vérifié\n",
    "\n",
    "Il peut y avoir autant de `elif` que vous voulez mais il ne peut y avoir qu'un seul `else` ( c'est un Highlander! ) \n",
    "\n",
    "Tous les `elif` ainsi que le `else` peuvent être omis.\n",
    "\n",
    "Modifiez les valeurs de `A` dans le code suivant et observez ce qui se passe."
   ]
  },
  {
   "cell_type": "code",
   "execution_count": null,
   "metadata": {},
   "outputs": [],
   "source": [
    "A = 15\n",
    "\n",
    "if A > 9:\n",
    "    print(\"A est plus grand que 9\")\n",
    "elif A > 4:\n",
    "    print(\"A est compris entre 5 et 9\")\n",
    "else:\n",
    "    print(\"A est plus petit que 5\")\n",
    "    "
   ]
  },
  {
   "cell_type": "markdown",
   "metadata": {},
   "source": [
    "### Exercice\n",
    "\n",
    "Créez un test afin de déterminer si un nombre est un carré (i.e 1, 4, 9, 16, ...), et créez un bloc conditionnel qui affiche soit \"carré\" soit \"pas un carré\" en fonction du résultat du test.\n",
    "\n",
    "*Indice* : `int(d)` retourne la partie entière du nombre décimal `d`.\n",
    "\n",
    "Testez votre bloc pour différentes valeurs."
   ]
  },
  {
   "cell_type": "code",
   "execution_count": null,
   "metadata": {},
   "outputs": [],
   "source": []
  },
  {
   "cell_type": "markdown",
   "metadata": {},
   "source": [
    "## Interraction avec l'utilisateur\n",
    "\n",
    "Afin de rendre vos script un peu plus interractifs, il est possible de demander à python d'utiliser une entrée clavier pour l'utiliser ensuite dans votre script.\n",
    "\n",
    "La commande à utiliser est `input()`. Elle provoque l'ouverture d'un champ dans lequel l'utilisateur doit rentrer une donnée au clavier et attend l'appui de la touche `Entrée`.\n",
    "\n",
    "### Exemple"
   ]
  },
  {
   "cell_type": "code",
   "execution_count": null,
   "metadata": {},
   "outputs": [],
   "source": [
    "A = 20\n",
    "toto = input()\n",
    "print(\"Vous avez saisie : {0} et A vaut {1} \".format(toto,A))"
   ]
  },
  {
   "cell_type": "markdown",
   "metadata": {},
   "source": [
    "La fonction `input()` peut contenir un paramètre qui sera affiché devant la fenêtre de saisie"
   ]
  },
  {
   "cell_type": "code",
   "execution_count": null,
   "metadata": {},
   "outputs": [],
   "source": [
    "import sys\n",
    "reload(sys)\n",
    "sys.setdefaultencoding(\"utf-8\")"
   ]
  },
  {
   "cell_type": "code",
   "execution_count": null,
   "metadata": {},
   "outputs": [],
   "source": [
    "yr = input(\"Quel est votre année de naissance ?\")\n",
    "print(\"Je devine que vous avez environ {0} ans ! \\nJe suis fort hein !?!\".format(2020-int(yr)))"
   ]
  },
  {
   "cell_type": "markdown",
   "metadata": {},
   "source": [
    "### Exercices\n",
    "\n",
    "* Écrivez un programme qui demande un nombre à l'utilisateur, puis calcule et affiche le carré de ce nombre"
   ]
  },
  {
   "cell_type": "code",
   "execution_count": null,
   "metadata": {},
   "outputs": [],
   "source": []
  },
  {
   "cell_type": "markdown",
   "metadata": {},
   "source": [
    "* Écrivez un programme qui demande un nombre à l'utilisateur et l'informe ensuite si ce nombre est pair ou impair "
   ]
  },
  {
   "cell_type": "code",
   "execution_count": null,
   "metadata": {},
   "outputs": [],
   "source": []
  },
  {
   "cell_type": "markdown",
   "metadata": {},
   "source": [
    "* Écrivez un programme qui demande l'âge d'une personne et affiche ensuite sa catégorie :\n",
    "    1. \"Poussin\" de 6 à 7 ans\n",
    "    2. \"Pupille\" de 8 à 9 ans\n",
    "    3. \"Minime\" de 10 à 11 ans\n",
    "    4. \"Cadet\" après 12 ans\n",
    "    5. \"Junior\" après 16 ans\n",
    "    6. \"Senior\" après 18 ans"
   ]
  },
  {
   "cell_type": "code",
   "execution_count": null,
   "metadata": {},
   "outputs": [],
   "source": []
  },
  {
   "cell_type": "markdown",
   "metadata": {},
   "source": [
    "Ce Notebook est a été crée par David Da SILVA - 2020\n",
    "\n",
    "<a rel=\"license\" href=\"http://creativecommons.org/licenses/by-nc-sa/4.0/\"><img alt=\"Creative Commons License\" style=\"border-width:0\" src=\"https://i.creativecommons.org/l/by-nc-sa/4.0/88x31.png\" /></a><br />This work is licensed under a <a rel=\"license\" href=\"http://creativecommons.org/licenses/by-nc-sa/4.0/\">Creative Commons Attribution-NonCommercial-ShareAlike 4.0 International License</a>."
   ]
  }
 ],
 "metadata": {
  "kernelspec": {
   "display_name": "Python 3",
   "language": "python",
   "name": "python3"
  },
  "language_info": {
   "codemirror_mode": {
    "name": "ipython",
    "version": 3
   },
   "file_extension": ".py",
   "mimetype": "text/x-python",
   "name": "python",
   "nbconvert_exporter": "python",
   "pygments_lexer": "ipython3",
   "version": "3.8.3"
  },
  "latex_envs": {
   "LaTeX_envs_menu_present": true,
   "autoclose": true,
   "autocomplete": true,
   "bibliofile": "biblio.bib",
   "cite_by": "apalike",
   "current_citInitial": 1,
   "eqLabelWithNumbers": true,
   "eqNumInitial": 1,
   "hotkeys": {
    "equation": "Ctrl-E",
    "itemize": "Ctrl-I"
   },
   "labels_anchors": false,
   "latex_user_defs": false,
   "report_style_numbering": false,
   "user_envs_cfg": false
  },
  "toc": {
   "base_numbering": 1,
   "nav_menu": {},
   "number_sections": true,
   "sideBar": true,
   "skip_h1_title": true,
   "title_cell": "Table of Contents",
   "title_sidebar": "Contents",
   "toc_cell": false,
   "toc_position": {
    "height": "calc(100% - 180px)",
    "left": "10px",
    "top": "150px",
    "width": "358.391px"
   },
   "toc_section_display": true,
   "toc_window_display": true
  }
 },
 "nbformat": 4,
 "nbformat_minor": 4
}
