{
 "cells": [
  {
   "cell_type": "markdown",
   "metadata": {},
   "source": [
    "# Boucles en *Python*\n",
    "---\n",
    "\n",
    "Il existe 2 types de boucle en *Python*: le boucles `for` et les boucles `while`. Elles s'écrivent de la manière suivante :\n",
    "\n",
    "    for variable1 in list:\n",
    "        # variable1 prend chacune des valeurs de la liste\n",
    "        code\n",
    "\n",
    "et\n",
    "\n",
    "    while test_est_True:\n",
    "        # Le code est répété tant que le test retourne True\n",
    "        code"
   ]
  },
  {
   "cell_type": "markdown",
   "metadata": {},
   "source": [
    "La commande `continue` permet de sauter certaines itérations au sein d'une boucle.\n",
    "Essayez de deviner le comportement de la boucle suivante avant de l'exécuter et notez le ici :\n",
    "\n",
    "*what's your guess ?*\n",
    "\n"
   ]
  },
  {
   "cell_type": "markdown",
   "metadata": {},
   "source": [
    "## Boucle `for`\n",
    "\n",
    "Une boucle `for` va parcourir tous les éléments d'une séquence (quelque soit son type : liste, tuple, dictionnaire, ensemble, chaîne de caractères) et exécuter des instructions à chaque fois.  \n",
    "Par exemple, `range(20)` crée la séquence des entiers de 0 à 19 (la borne de fin est exclue).\n",
    "\n",
    "On peut *itérer* sur chacune de ces valeurs et effectuer des opérations:"
   ]
  },
  {
   "cell_type": "code",
   "execution_count": null,
   "metadata": {},
   "outputs": [],
   "source": [
    "for i in range(20):\n",
    "    print(\"Le cube de {0:>2} est {1:>4}\".format(i, i**3))"
   ]
  },
  {
   "cell_type": "markdown",
   "metadata": {},
   "source": [
    "### Itération\n",
    "\n",
    "Une boucle `for` peut *itérer* sur une chaîne de caractère :"
   ]
  },
  {
   "cell_type": "code",
   "execution_count": null,
   "metadata": {},
   "outputs": [],
   "source": [
    "for x in \"banana\":\n",
    "    print(x)"
   ]
  },
  {
   "cell_type": "markdown",
   "metadata": {},
   "source": [
    "sur une liste :"
   ]
  },
  {
   "cell_type": "code",
   "execution_count": null,
   "metadata": {},
   "outputs": [],
   "source": [
    "fruits = [\"apple\", \"banana\", \"cherry\"]\n",
    "for x in fruits:\n",
    "    print(x)"
   ]
  },
  {
   "cell_type": "markdown",
   "metadata": {},
   "source": [
    "sur une liste mixte :"
   ]
  },
  {
   "cell_type": "code",
   "execution_count": null,
   "metadata": {},
   "outputs": [],
   "source": [
    "for i in [4, 6, \"asdf\", \"jkl\"]:\n",
    "    print(i)"
   ]
  },
  {
   "cell_type": "markdown",
   "metadata": {},
   "source": [
    "**Remarque** : Les opérations ne sont pas forcément en lien avec le compteur de la boucle."
   ]
  },
  {
   "cell_type": "code",
   "execution_count": null,
   "metadata": {},
   "outputs": [],
   "source": [
    "A = 21\n",
    "print(A)\n",
    "\n",
    "for i in range(5):\n",
    "    print(\"Hello\")\n",
    "    A += 2\n",
    "    \n",
    "print(A)"
   ]
  },
  {
   "cell_type": "markdown",
   "metadata": {},
   "source": [
    "#### Exercices\n",
    "\n",
    "Changer le `print()` de la boucle ci-dessus afin que les éléments s'impriment tous de manière centrée sur une ligne de 30 caractères remplies de \"=\".\n",
    "\n",
    "i.e. : \"==============5===============\"\n",
    "\n",
    "**Indice**: utiliser le [formating mini-language](https://docs.python.org/2/library/string.html#format-specification-mini-language)"
   ]
  },
  {
   "cell_type": "code",
   "execution_count": null,
   "metadata": {
    "solution2": "hidden",
    "solution2_first": true
   },
   "outputs": [],
   "source": [
    "for i in [4, 6, \"asdf\", \"jkl\"]:\n",
    "    print(i)"
   ]
  },
  {
   "cell_type": "code",
   "execution_count": null,
   "metadata": {
    "solution2": "hidden"
   },
   "outputs": [],
   "source": [
    "for i in [4, 6, \"asdf\", \"jkl\"]:\n",
    "    print(\"{0:=^30}\".format(i))"
   ]
  },
  {
   "cell_type": "markdown",
   "metadata": {},
   "source": [
    "Écrivez un programme qui affiche une suite de 12 nombres dont chaque terme est égal au triple du terme précédent"
   ]
  },
  {
   "cell_type": "code",
   "execution_count": null,
   "metadata": {},
   "outputs": [],
   "source": []
  },
  {
   "cell_type": "markdown",
   "metadata": {},
   "source": [
    "Modifiez ce programme afin que ce soit l'utilisateur qui choisisse le première valeur"
   ]
  },
  {
   "cell_type": "code",
   "execution_count": null,
   "metadata": {},
   "outputs": [],
   "source": []
  },
  {
   "cell_type": "markdown",
   "metadata": {},
   "source": [
    "### Énumération\n",
    "\n",
    "Un besoin assez courant quand on manipule une liste ou tout autre objet itérable est de récupérer en même temps l'élément et son indice à chaque itération.  \n",
    "Pour cela, la méthode habituellement utilisée est simple : au lieu d'itérer sur notre liste, on va itérer sur une liste d'entiers partant de 0 et allant de 1 en 1 jusqu'au dernier indice valide de la liste, obtenue via la fonction `range()`.  \n",
    "Cette méthode n'est pas du tout efficace : en effet, manipuler ainsi l'indice est totalement contre-intuitif et va à l'encontre du principe des itérateurs en Python.\n",
    "\n",
    "Un exemple de code utilisant cette mauvaise méthode :"
   ]
  },
  {
   "cell_type": "code",
   "execution_count": null,
   "metadata": {},
   "outputs": [],
   "source": [
    "mylist = [4, 6, \"asdf\", \"jkl\"]\n",
    "\n",
    "for indice in range(0, len(mylist)):\n",
    "    print(\"mylist[%d] = %r\" % (indice, mylist[indice])) #une autre manière de formater des chaînes de caractère"
   ]
  },
  {
   "cell_type": "markdown",
   "metadata": {},
   "source": [
    "Pour réaliser ce genre d'itérations, on va utiliser la fonction **`enumerate(iter)`**  \n",
    "Elle permet en effet de récupérer une liste de tuples `(indice, valeur)` en fonction du contenu de la séquence et d'une manière très pratique.  \n",
    "On l'utilise comme ceci :"
   ]
  },
  {
   "cell_type": "code",
   "execution_count": null,
   "metadata": {},
   "outputs": [],
   "source": [
    "for indice, valeur in enumerate(mylist):\n",
    "    print(\"mylist[{0}] = {1}\".format(indice, valeur)) #c'est ce mode de formatage qu'il faut préférer"
   ]
  },
  {
   "cell_type": "markdown",
   "metadata": {},
   "source": [
    "Cette manière de faire se rapproche beaucoup plus de ce qui doit être fait en *Python* si l'on veut utiliser correctement le langage : on itère directement sur les valeurs à la sortie d'un générateur, au lieu d'utiliser un indice (manière plus courante dans les langages comme le C n'ayant pas d'itérateurs comme ceux de *Python*)."
   ]
  },
  {
   "cell_type": "markdown",
   "metadata": {},
   "source": [
    "#### Exercice\n",
    "\n",
    "Affichez chaque lettre du mot suivant suivi de sa position dans le mot : *supercalifragilisticexpialidocious*"
   ]
  },
  {
   "cell_type": "code",
   "execution_count": null,
   "metadata": {
    "scrolled": true
   },
   "outputs": [],
   "source": []
  },
  {
   "cell_type": "markdown",
   "metadata": {},
   "source": [
    "## Boucle `while`\n",
    "\n",
    "### Définition\n",
    "\n",
    "La boucle `while` ne parcourt pas de séquence, mais vérifie une condition à chaque tour. Si cette condition est vérifiée, les instructions du corps de la boucle sont effectuées. Dans le cas contraire, la boucle s'arrête et les instructions ne sont pas executées."
   ]
  },
  {
   "cell_type": "code",
   "execution_count": null,
   "metadata": {},
   "outputs": [],
   "source": [
    "i = 0\n",
    "while i < 20:\n",
    "    print(\"Le cube de {0:>2} est {1:>4}\".format(i, i**3))\n",
    "    i = i+1"
   ]
  },
  {
   "cell_type": "markdown",
   "metadata": {},
   "source": [
    "**Attention** : Une boucle `while` dont la condition est toujours vérifiée ne s'arrêtera jamais. On parle de boucle infinie. C'est une erreur classique qui peut avoir des erreurs dramatiques, programme ne s'arrête pas, saturation de la mémoire, crash..."
   ]
  },
  {
   "cell_type": "code",
   "execution_count": null,
   "metadata": {},
   "outputs": [],
   "source": [
    "#Si vous exécutez la boucle ci-dessous, il vous faudra appuyer sur le bouton Stop ( à droite de >| Run)\n",
    "#avant de pouvoir continuer à travailler\n",
    "\n",
    "#i = 1\n",
    "#while i > 0:\n",
    "#    print(\"Le cube de {0:>2} est {1:>4}\".format(i, i**3))\n",
    "#    i = i + 1"
   ]
  },
  {
   "cell_type": "markdown",
   "metadata": {},
   "source": [
    "### Exercices\n",
    "\n",
    "Utilisez une boucle `while` pour afficher tous les multiples de 21 inférieurs à 2538"
   ]
  },
  {
   "cell_type": "code",
   "execution_count": null,
   "metadata": {},
   "outputs": [],
   "source": []
  },
  {
   "cell_type": "markdown",
   "metadata": {},
   "source": [
    "Écrivez un programme qui affiche chaque lettre du mot *supercalifragilisticexpialidocious* précédant la lettre *x*."
   ]
  },
  {
   "cell_type": "code",
   "execution_count": null,
   "metadata": {},
   "outputs": [],
   "source": []
  },
  {
   "cell_type": "markdown",
   "metadata": {},
   "source": [
    "### Exercice\n",
    "\n",
    "Écrivez un programme qui demande à l'utilisateur un nombre compris entre 21 et 42 jusqu'à ce que la réponse convienne en l'aiguillant (trop grand, trop petit...)"
   ]
  },
  {
   "cell_type": "code",
   "execution_count": null,
   "metadata": {},
   "outputs": [],
   "source": []
  },
  {
   "cell_type": "markdown",
   "metadata": {},
   "source": [
    "## `break` et `continue`\n",
    "\n",
    "Parfois il est nécessaire de sortir d'une boucle avant la fin de son exécution. \n",
    "Dans ces cas là, il faut utiliser le mot clé `break` qui fonctionne pour les 2 types de boucle `for` et `while`.\n",
    "\n",
    "Par exemple, `while True:` crée une boucle infinie pusique le test est toujours vrai, mais l'instruction `break` permet d'en sortir :"
   ]
  },
  {
   "cell_type": "code",
   "execution_count": null,
   "metadata": {},
   "outputs": [],
   "source": [
    "i = 0\n",
    "while True:\n",
    "    i = i + 10\n",
    "    if i > 95:\n",
    "        break\n",
    "print(i)"
   ]
  },
  {
   "cell_type": "markdown",
   "metadata": {},
   "source": [
    "La commande `continue` permet de sauter certaines itérations au sein d'une boucle.  \n",
    "Essayez de deviner le comportement de la boucle suivante avant de l'exécuter et notez le ici :"
   ]
  },
  {
   "cell_type": "markdown",
   "metadata": {},
   "source": [
    "*what's your guess ?*"
   ]
  },
  {
   "cell_type": "code",
   "execution_count": null,
   "metadata": {},
   "outputs": [],
   "source": [
    "for x in range(30):\n",
    "    if x%3!=0:\n",
    "        continue\n",
    "    print(x)"
   ]
  },
  {
   "cell_type": "markdown",
   "metadata": {},
   "source": [
    "## `for` vs. `while`\n",
    "\n",
    "### Questions\n",
    "\n",
    "1. Quelles sonts les différences que vous notez entre les 2 types de boucle\n",
    "2. Selon vous y a-t-il un boucle plus rapide que l'autre ? Pourquoi ?\n"
   ]
  },
  {
   "cell_type": "markdown",
   "metadata": {},
   "source": [
    "__Vos réponses ici__"
   ]
  },
  {
   "cell_type": "markdown",
   "metadata": {},
   "source": [
    "### Testons\n",
    "\n",
    "Le module `time` founit la fonction `time()` qui renvoit le temps courant depuis [`Epoch`](https://en.wikipedia.org/wiki/Epoch_%28reference_date%29#Computing).  \n",
    "En utilisant cette fonction, calculer la temps mis pour calculer les carrés des chiffres de $0 \\text{ à } 10^7$ avec une boucle `for` et une boucle `while`.\n",
    "\n",
    "**Conseil :** éviter de faire un `print` pour chaque ligne de calcul...\n",
    "\n",
    "Au fait, quel est le `Epoch` de *Python* ?"
   ]
  },
  {
   "cell_type": "code",
   "execution_count": null,
   "metadata": {},
   "outputs": [],
   "source": [
    "import time\n",
    "\n",
    "start = time.time()\n",
    "#code de la boucle à évaluer\n",
    "stop = time.time()\n",
    "\n",
    "print(stop-start)"
   ]
  },
  {
   "cell_type": "markdown",
   "metadata": {
    "collapsed": true
   },
   "source": [
    "Ce Notebook est a été crée par David Da SILVA - 2020\n",
    "\n",
    "Source: [openclassrooms.com](https://openclassrooms.com/courses/pratiques-avancees-et-meconnues-en-python)\n",
    "\n",
    "<a rel=\"license\" href=\"http://creativecommons.org/licenses/by-nc-sa/4.0/\"><img alt=\"Creative Commons License\" style=\"border-width:0\" src=\"https://i.creativecommons.org/l/by-nc-sa/4.0/88x31.png\" /></a><br />This work is licensed under a <a rel=\"license\" href=\"http://creativecommons.org/licenses/by-nc-sa/4.0/\">Creative Commons Attribution-NonCommercial-ShareAlike 4.0 International License</a>."
   ]
  }
 ],
 "metadata": {
  "kernelspec": {
   "display_name": "Python 3",
   "language": "python",
   "name": "python3"
  },
  "language_info": {
   "codemirror_mode": {
    "name": "ipython",
    "version": 3
   },
   "file_extension": ".py",
   "mimetype": "text/x-python",
   "name": "python",
   "nbconvert_exporter": "python",
   "pygments_lexer": "ipython3",
   "version": "3.8.5"
  },
  "latex_envs": {
   "LaTeX_envs_menu_present": true,
   "autoclose": true,
   "autocomplete": true,
   "bibliofile": "biblio.bib",
   "cite_by": "apalike",
   "current_citInitial": 1,
   "eqLabelWithNumbers": true,
   "eqNumInitial": 1,
   "hotkeys": {
    "equation": "Ctrl-E",
    "itemize": "Ctrl-I"
   },
   "labels_anchors": false,
   "latex_user_defs": false,
   "report_style_numbering": false,
   "user_envs_cfg": false
  },
  "toc": {
   "base_numbering": 1,
   "nav_menu": {},
   "number_sections": true,
   "sideBar": true,
   "skip_h1_title": true,
   "title_cell": "Table of Contents",
   "title_sidebar": "Contents",
   "toc_cell": false,
   "toc_position": {},
   "toc_section_display": true,
   "toc_window_display": true
  }
 },
 "nbformat": 4,
 "nbformat_minor": 1
}
