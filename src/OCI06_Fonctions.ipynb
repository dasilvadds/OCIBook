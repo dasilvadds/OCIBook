{
 "cells": [
  {
   "cell_type": "markdown",
   "metadata": {},
   "source": [
    "# Fonctions\n",
    "---\n",
    "\n",
    "Une fonction permet de rassembler un ensemble d'instructions, de *code*, afin de pouvoir le réutiliser à loisir.\n",
    "En effet, il est important de noter que le code d'une fonction n'est pas exécuté au moment de sa définition, mais lorsque celle-ci est *appelée*."
   ]
  },
  {
   "cell_type": "markdown",
   "metadata": {},
   "source": [
    "## Définition et *appel* d'une fonction\n",
    "\n",
    "Une fonction en *Python* est définie à l'aide du mot clé **`def`**, suivi du **nom** de la fonction, de parenthèses **( )**, et d'un double point **:**.\n",
    "Le **corps** de la fonction est constitué de toutes les instructions qui suivent avec un niveau suplémentaire d'indentation (s'obtient avec la touche `Tab`).\n",
    "\n",
    "L'exemple suivant défini la fonction **fonction1** qui écrit *Hello World !* à chaque fois qu'elle est executée."
   ]
  },
  {
   "cell_type": "code",
   "execution_count": null,
   "metadata": {},
   "outputs": [],
   "source": [
    "def fonction1():\n",
    "    print(\"Hello World !\")"
   ]
  },
  {
   "cell_type": "markdown",
   "metadata": {},
   "source": [
    "Afin d'exécuter le *code* d'une fonction il faut l'*appeler*. Il suffit d'écrire le *nom* de la fonction suivie de parenthèses ()."
   ]
  },
  {
   "cell_type": "code",
   "execution_count": null,
   "metadata": {},
   "outputs": [],
   "source": [
    "fonction1()"
   ]
  },
  {
   "cell_type": "markdown",
   "metadata": {},
   "source": [
    "Vous pouvez *appeler* la fonction autant de fois que vous souhaitez, chaque *appel* exécute à nouveau le *code* "
   ]
  },
  {
   "cell_type": "code",
   "execution_count": null,
   "metadata": {},
   "outputs": [],
   "source": [
    "fonction1()\n",
    "fonction1()\n",
    "fonction1()"
   ]
  },
  {
   "cell_type": "markdown",
   "metadata": {},
   "source": [
    "### Exercice 1\n",
    "\n",
    "Écrivez la fonction appelée `HHGTTG` qui vous affiche la réponse à [La grande question sur la vie, l'univers et le reste](https://fr.wikipedia.org/wiki/La_grande_question_sur_la_vie,_l'univers_et_le_reste)"
   ]
  },
  {
   "cell_type": "code",
   "execution_count": null,
   "metadata": {},
   "outputs": [],
   "source": []
  },
  {
   "cell_type": "markdown",
   "metadata": {},
   "source": [
    "## Signature\n",
    "\n",
    "La signature inclut le nom de la fonction et le nombre de paramètres qu'elle requiert en les nommant.\n",
    "\n",
    "La fonction suivante prend 2 paramètres, `x` et `y` et affiche leur somme:"
   ]
  },
  {
   "cell_type": "code",
   "execution_count": null,
   "metadata": {},
   "outputs": [],
   "source": [
    "def masomme(x, y):\n",
    "    print(\"La somme de {0} et {1} est : {2}\".format(x, y, x+y))\n",
    "    \n",
    "masomme(40,2)\n",
    "masomme(55,-13)"
   ]
  },
  {
   "cell_type": "markdown",
   "metadata": {},
   "source": [
    "Les paramètres lors de l'appel d'une fonction sont affectés dans l'ordre définit dans la signature de la fonction. *Python* permet que cet ordre soit changé à condition que les paramètres soient nommés de manière explicite lors de l'appel de la fonction. "
   ]
  },
  {
   "cell_type": "code",
   "execution_count": null,
   "metadata": {},
   "outputs": [],
   "source": [
    "masomme(y=-13, x=55)"
   ]
  },
  {
   "cell_type": "markdown",
   "metadata": {},
   "source": [
    "Que se passe-t-il si vous appelez la fonction `masomme` avec un seul paramètre ?"
   ]
  },
  {
   "cell_type": "code",
   "execution_count": null,
   "metadata": {},
   "outputs": [],
   "source": []
  },
  {
   "cell_type": "markdown",
   "metadata": {},
   "source": [
    "### Exercice 2\n",
    "\n",
    "En utilisant le test crée à l'exercice 4.1 du [Notebook sur les tests](./OCI03_Booleans_IfBlock.ipynb), créez la fonction `testSqrt` qui prend une valeur en paramètre et affiche s'il s'agit d'un carré parfait ou non. "
   ]
  },
  {
   "cell_type": "code",
   "execution_count": null,
   "metadata": {},
   "outputs": [],
   "source": []
  },
  {
   "cell_type": "markdown",
   "metadata": {},
   "source": [
    "## Valeurs par défaut\n",
    "\n",
    "Les paramètres d'une fonctions peuvent avoir une valeur par défaut et deviennent dans ce cas des paramètres optionnels, par opposition aux paramètres sans valeur par défaut qui sont, eux, des paramètres obligatoires.\n",
    "\n",
    "Les paramètres optionnels sont listés impérativement **après** les paramètres obligatoires dans la signature d'une fonction.\n",
    "\n",
    "Si la valeur d'un paramètre optionnel n'est pas spécifié lors de l'appel de la fonction, la valeur par défaut est alors utilisée."
   ]
  },
  {
   "cell_type": "code",
   "execution_count": null,
   "metadata": {},
   "outputs": [],
   "source": [
    "def masomme2(x, y=5):\n",
    "    print(\"La somme de {0} et {1} est : {2}\".format(x, y, x+y))\n",
    "\n",
    "masomme2(21,21)\n",
    "masomme2(37)"
   ]
  },
  {
   "cell_type": "markdown",
   "metadata": {},
   "source": [
    "### Exercice 3\n",
    "\n",
    "* Créez la fonction `madiv` qui prend 2 paramètres, `a` et `b` et affiche le quotient de `a` par `b` ($\\frac{a}{b}$) \n",
    "* Assurez vous que le résultat affiché est toujours celui de la division décimale indépendamment du type des paramètres, i.e. `madiv(1,2)` doit afficher 0.5\n",
    "* Gérez le cas où `b = 0`"
   ]
  },
  {
   "cell_type": "code",
   "execution_count": null,
   "metadata": {},
   "outputs": [],
   "source": []
  },
  {
   "cell_type": "markdown",
   "metadata": {},
   "source": [
    "## *docstrings*\n",
    "\n",
    "De manière optionnelle, mais **très fortement recommendée**, il est possible de définir un *docstring*. Un *docstring* est une description de la fonction en termes de but, de paramètres et de comportement.\n",
    "\n",
    "Le *docstring* doit être positionné après la signature de la fonction et avant son *code*, il est en principe situé entre des triples double quote (\"\"\" *docstring* \"\"\") qui permettent de faire des commentaires multilignes lorsqu'ils sont utilisés ailleurs."
   ]
  },
  {
   "cell_type": "code",
   "execution_count": null,
   "metadata": {},
   "outputs": [],
   "source": [
    "def masomme3(x, y):\n",
    "    \"\"\"\n",
    "    Affiche la somme des 2 paramètres x et y. \n",
    "    \"\"\"\n",
    "    print(\"La somme de {0} et {1} est : {2}\".format(x, y, x+y))"
   ]
  },
  {
   "cell_type": "markdown",
   "metadata": {},
   "source": [
    "Le *docstring* constitue l'aide qui est affiché lorsque vous utilisez la fonction `help` ou le `?`."
   ]
  },
  {
   "cell_type": "code",
   "execution_count": null,
   "metadata": {},
   "outputs": [],
   "source": [
    "help(masomme3)"
   ]
  },
  {
   "cell_type": "code",
   "execution_count": null,
   "metadata": {},
   "outputs": [],
   "source": [
    "masomme3?"
   ]
  },
  {
   "cell_type": "markdown",
   "metadata": {},
   "source": [
    "### Exercice 4\n",
    "\n",
    "Ajoutez un *docstring* à votre fonction `madiv` de l'exercice 3 qui explique comment vous vous assurez que le résultat affiché est toujours celui de la division décimale et comment vous gérez le cas `b = 0` "
   ]
  },
  {
   "cell_type": "code",
   "execution_count": null,
   "metadata": {},
   "outputs": [],
   "source": []
  },
  {
   "cell_type": "markdown",
   "metadata": {},
   "source": [
    "### Exercice 5\n",
    "\n",
    "La suite de Fibonacci est une suite de nombre entier définie de la manière suivante:\n",
    "* $F(0) = 0$\n",
    "* $F(1) = 1$\n",
    "* $\\forall n > 1, \\; F(n) = F(n-1) + F(n-2)$\n",
    "\n",
    "Les premiers éléments sont : [0, 1, 1, 2, 3, 5, 8, 13, 21, 34, 55, 89, 144, 233, 377, 610, 987, 1597, 2584, 4181, 6765, 10946, 17711, 28657, 46368, 75025, 121393, 196418, 317811, 514229, 832040, 1346269, 2178309, 3524578, 5702887, 9227465, 14930352, 24157817, 39088169].\n",
    "\n",
    "Créez une fonction qui prend en paramètre un entier n et retourne les n+1 premiers éléments de la suite de Fibonacci."
   ]
  },
  {
   "cell_type": "code",
   "execution_count": null,
   "metadata": {},
   "outputs": [],
   "source": []
  },
  {
   "cell_type": "markdown",
   "metadata": {},
   "source": [
    "## Retours\n",
    "\n",
    "En principe les fonctions ne servent pas qu'à afficher des résultats, mais plutôt à en fournir afin d'être utilisé dans la suite du déroulement d'un programme.\n",
    "\n",
    "Afin de fournir des résultats, les fonctions peuvent renvoyer quelque chose, on parle du ou des *retours* d'une fonction, qui peuvent être assignés à des variables ou passés en paramètre à d'autres fonctions, etc.\n",
    "\n",
    "Ces *retours* se font à l'aide du mot clé `return` qui précède les éléments *retournés* par la fonction. "
   ]
  },
  {
   "cell_type": "code",
   "execution_count": null,
   "metadata": {},
   "outputs": [],
   "source": [
    "def masomme4(x, y):\n",
    "    \"\"\"\n",
    "    Renvoie la somme des 2 paramètres x et y. \n",
    "    \"\"\"\n",
    "    z = x+y\n",
    "    return z"
   ]
  },
  {
   "cell_type": "code",
   "execution_count": null,
   "metadata": {},
   "outputs": [],
   "source": [
    "masomme4(11,31) #Notez la présence du Out[] après l'exécution"
   ]
  },
  {
   "cell_type": "code",
   "execution_count": null,
   "metadata": {},
   "outputs": [],
   "source": [
    "a = masomme4(9,12)\n",
    "print(a)\n",
    "print(a*2)"
   ]
  },
  {
   "cell_type": "markdown",
   "metadata": {},
   "source": [
    "**Attention : ** l'exécution de la commande `return` achève l'exécution du corps de la fonction."
   ]
  },
  {
   "cell_type": "code",
   "execution_count": null,
   "metadata": {},
   "outputs": [],
   "source": [
    "def masomme5(x, y):\n",
    "    \"\"\"\n",
    "    Renvoie la somme des 2 paramètres x et y. \n",
    "    \"\"\"\n",
    "    z=x+y\n",
    "    return z\n",
    "    print(\"La somme de {0} et {1} est : {2}\".format(x, y, x+y))"
   ]
  },
  {
   "cell_type": "code",
   "execution_count": null,
   "metadata": {},
   "outputs": [],
   "source": [
    "masomme5(31,11)"
   ]
  },
  {
   "cell_type": "markdown",
   "metadata": {},
   "source": [
    "### Exercice 6\n",
    "\n",
    "Créez la fonction `square` qui renvoie le carré de la valeur passée en paramètre. N'oubliez pas le *docstring* !"
   ]
  },
  {
   "cell_type": "code",
   "execution_count": null,
   "metadata": {},
   "outputs": [],
   "source": []
  },
  {
   "cell_type": "markdown",
   "metadata": {},
   "source": [
    "Une fonction peut renvoyer plusieurs éléments en même temps, il suffit qu'ils soient séparés par des virgules **( , )** après le mot clé `return`."
   ]
  },
  {
   "cell_type": "code",
   "execution_count": null,
   "metadata": {},
   "outputs": [],
   "source": [
    "def masomme6(x, y):\n",
    "    \"\"\"\n",
    "    Renvoie les 2 paramètres x et y ainsi que leur somme. \n",
    "    \"\"\"\n",
    "    z=x+y\n",
    "    return x,y,z"
   ]
  },
  {
   "cell_type": "code",
   "execution_count": null,
   "metadata": {},
   "outputs": [],
   "source": [
    "masomme6(21,21)"
   ]
  },
  {
   "cell_type": "markdown",
   "metadata": {},
   "source": [
    "Le retour d'une telle fonction peut être assigné à une variable..."
   ]
  },
  {
   "cell_type": "code",
   "execution_count": null,
   "metadata": {},
   "outputs": [],
   "source": [
    "a = masomme6(52, -10)\n",
    "print(a)"
   ]
  },
  {
   "cell_type": "markdown",
   "metadata": {},
   "source": [
    "...ou plusieurs, à conditions qu'il y ait autant de variables que de valeurs retournées."
   ]
  },
  {
   "cell_type": "code",
   "execution_count": null,
   "metadata": {},
   "outputs": [],
   "source": [
    "a,b,c = masomme6(19,23)\n",
    "print(c)"
   ]
  },
  {
   "cell_type": "markdown",
   "metadata": {},
   "source": [
    "### Exercice 7\n",
    "\n",
    "* Créez une fonction `powersix` qui prend une valeur en paramètre et retourne ses 6 premières puissances, e.g. `powersix(x)` retourne $x, x^2, x^3, x^4, x^5 et \\; x^6$. N'oubliez pas le *docstring* !\n",
    "* Si le retour de la fonction `powersix` est assigné à une unique variable, quelle est son type ?\n",
    "* Modifiez votre fonction pour qu'elle retourne une **liste** des 6 premières puissances"
   ]
  },
  {
   "cell_type": "code",
   "execution_count": null,
   "metadata": {},
   "outputs": [],
   "source": []
  },
  {
   "cell_type": "markdown",
   "metadata": {},
   "source": [
    "## Portée des variables\n",
    "\n",
    "Une variable qui est définie à l'intérieur d'une fonction n'existe que là.\n",
    "L'*endroit* où une variable existe est appelé sa **_portée_**.\n",
    "De cette manière les fonctions sont des portions de *code* indépendantes ce qui les rend plus facile à débugger."
   ]
  },
  {
   "cell_type": "code",
   "execution_count": null,
   "metadata": {},
   "outputs": [],
   "source": [
    "def Afunc():\n",
    "    A = 42\n",
    "    print(A)\n",
    "\n",
    "A = 10\n",
    "print(A)\n",
    "Afunc()\n",
    "A = 100\n",
    "print(A)\n",
    "Afunc()"
   ]
  },
  {
   "cell_type": "markdown",
   "metadata": {},
   "source": [
    "### Travail personnel\n",
    "\n",
    "En réalité, la portée des variables en *Python* est un peu plus compliquée que cela. Cherchez sur internet des informations à ce sujet et complétez cette section pour la prochaine leçon."
   ]
  },
  {
   "cell_type": "markdown",
   "metadata": {},
   "source": [
    "## Fonction *lambda*\n",
    "\n",
    "*Python* permet une syntaxe intéressante qui vous laisse définir des mini-fonctions d’une ligne à la volée. Empruntées à [*Lisp*](https://en.wikipedia.org/wiki/Lisp_%28programming_language%29), ces fonctions dites lambda peuvent être employées partout où une fonction est nécéssaire.\n"
   ]
  },
  {
   "cell_type": "code",
   "execution_count": null,
   "metadata": {},
   "outputs": [],
   "source": [
    "f1 = lambda x: x**2 \n",
    "\n",
    "# est équivalent à\n",
    "\n",
    "def f2(x):\n",
    "    return x**2"
   ]
  },
  {
   "cell_type": "code",
   "execution_count": null,
   "metadata": {},
   "outputs": [],
   "source": [
    "f1(3), f2(3)"
   ]
  },
  {
   "cell_type": "markdown",
   "metadata": {},
   "source": [
    "Vous pouvez utiliser une fonction *lambda* sans l’assigner à une variable. Ce n’est pas forcément très utile, mais cela démontre qu’une fonction *lambda* est simplement une fonction en ligne."
   ]
  },
  {
   "cell_type": "code",
   "execution_count": null,
   "metadata": {},
   "outputs": [],
   "source": [
    "(lambda x: x**2)(3)"
   ]
  },
  {
   "cell_type": "markdown",
   "metadata": {},
   "source": [
    "### Exercice 8\n",
    "\n",
    "La fonction `map` prend une fonction et une liste en paramètre et retourne la liste des résultats de l'application de la fonction aux éléments de la liste (cf `help(map)`).\n",
    "\n",
    "En utilisant cette fonction `map` combinée à une fonction *lambda*, afficher en une seule ligne de code la liste des tous les cubes de 2 à 42."
   ]
  },
  {
   "cell_type": "code",
   "execution_count": null,
   "metadata": {},
   "outputs": [],
   "source": [
    "help(map)"
   ]
  },
  {
   "cell_type": "markdown",
   "metadata": {
    "collapsed": true
   },
   "source": [
    "Ce Notebook est a été crée par David Da SILVA - 2020\n",
    "\n",
    "Source: [openclassrooms.com](https://openclassrooms.com/courses/pratiques-avancees-et-meconnues-en-python)\n",
    "\n",
    "<a rel=\"license\" href=\"http://creativecommons.org/licenses/by-nc-sa/4.0/\"><img alt=\"Creative Commons License\" style=\"border-width:0\" src=\"https://i.creativecommons.org/l/by-nc-sa/4.0/88x31.png\" /></a><br />This work is licensed under a <a rel=\"license\" href=\"http://creativecommons.org/licenses/by-nc-sa/4.0/\">Creative Commons Attribution-NonCommercial-ShareAlike 4.0 International License</a>."
   ]
  }
 ],
 "metadata": {
  "kernelspec": {
   "display_name": "Python 3",
   "language": "python",
   "name": "python3"
  },
  "language_info": {
   "codemirror_mode": {
    "name": "ipython",
    "version": 3
   },
   "file_extension": ".py",
   "mimetype": "text/x-python",
   "name": "python",
   "nbconvert_exporter": "python",
   "pygments_lexer": "ipython3",
   "version": "3.8.3"
  },
  "latex_envs": {
   "LaTeX_envs_menu_present": true,
   "autoclose": true,
   "autocomplete": true,
   "bibliofile": "biblio.bib",
   "cite_by": "apalike",
   "current_citInitial": 1,
   "eqLabelWithNumbers": true,
   "eqNumInitial": 1,
   "hotkeys": {
    "equation": "Ctrl-E",
    "itemize": "Ctrl-I"
   },
   "labels_anchors": false,
   "latex_user_defs": false,
   "report_style_numbering": false,
   "user_envs_cfg": false
  },
  "toc": {
   "base_numbering": 1,
   "nav_menu": {},
   "number_sections": true,
   "sideBar": true,
   "skip_h1_title": true,
   "title_cell": "Table of Contents",
   "title_sidebar": "Contents",
   "toc_cell": false,
   "toc_position": {},
   "toc_section_display": true,
   "toc_window_display": true
  }
 },
 "nbformat": 4,
 "nbformat_minor": 1
}
