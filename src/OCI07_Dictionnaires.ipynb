{
 "cells": [
  {
   "cell_type": "markdown",
   "metadata": {},
   "source": [
    "# Dictionnaire en *Python*\n",
    "---\n",
    "\n",
    "Les dictionnaires sont des objets pouvant en contenir d'autres, à l'instar des listes. Cependant, au lieu d'héberger des informations dans un ordre précis, ils associent chaque objet contenu à une clé (la plupart du temps, une chaîne de caractères). Par exemple, un dictionnaire peut contenir un carnet d'adresses et on accède à chaque contact en précisant son nom.\n",
    "\n",
    "## Création et édition de dictionnaire\n",
    "\n",
    "Un dictionnaire est un type de données extrêmement puissant et pratique. Il se rapproche des listes sur certains points mais, sur beaucoup d'autres, il en diffère totalement.\n",
    "Les objets de ce type sont des objets conteneurs, dans lesquels on trouve d'autres objets. Pour accéder à ces objets contenus, il faut connaître leur position dans la liste. Cette position se traduit par des entiers, appelés indices, compris entre 0 (inclus) et la taille de la liste (non incluse).\n",
    "Le dictionnaire est aussi un objet conteneur. Il n'a quant à lui aucune structure ordonnée, à la différence des listes. De plus, pour accéder aux objets contenus dans le dictionnaire, on n'utilise pas nécessairement des indices mais des clés qui peuvent être de bien des types distincts.\n",
    "\n",
    "Voici la première méthode d'instanciation d'un dictionnaire :"
   ]
  },
  {
   "cell_type": "code",
   "execution_count": null,
   "metadata": {},
   "outputs": [],
   "source": [
    "mon_dictionnaire = dict()\n",
    "type(mon_dictionnaire)"
   ]
  },
  {
   "cell_type": "code",
   "execution_count": null,
   "metadata": {},
   "outputs": [],
   "source": [
    "mon_dictionnaire"
   ]
  },
  {
   "cell_type": "markdown",
   "metadata": {},
   "source": [
    "Les parenthèses délimitent les tuples, les crochets délimitent les listes et les accolades `{}` délimitent les dictionnaires. Par conséquent, la seconde méthode d'instanciation d'un dictionnaire est évidemment :"
   ]
  },
  {
   "cell_type": "code",
   "execution_count": null,
   "metadata": {},
   "outputs": [],
   "source": [
    "mon_dictionnaire = {}\n",
    "mon_dictionnaire"
   ]
  },
  {
   "cell_type": "markdown",
   "metadata": {},
   "source": [
    "Voici comment ajouter des clés et valeurs dans notre dictionnaire vide :"
   ]
  },
  {
   "cell_type": "code",
   "execution_count": null,
   "metadata": {},
   "outputs": [],
   "source": [
    "mon_dictionnaire = {}\n",
    "mon_dictionnaire[\"pseudo\"] = \"Prolixe\"\n",
    "mon_dictionnaire[\"mot de passe\"] = \"*\"\n",
    "mon_dictionnaire"
   ]
  },
  {
   "cell_type": "markdown",
   "metadata": {},
   "source": [
    "La clé à laquelle nous souhaitons accéder est indiquée entre crochets. \n",
    "Si la clé n'existe pas, elle est ajoutée au dictionnaire avec la valeur spécifiée après le signe `=`.\n",
    "Sinon, l'ancienne valeur à l'emplacement indiqué est remplacée par la nouvelle :"
   ]
  },
  {
   "cell_type": "code",
   "execution_count": null,
   "metadata": {},
   "outputs": [],
   "source": [
    "mon_dictionnaire = {}\n",
    "mon_dictionnaire[\"pseudo\"] = \"Prolixe\"\n",
    "mon_dictionnaire[\"mot de passe\"] = \"*\"\n",
    "mon_dictionnaire[\"pseudo\"] = \"6pri1\"\n",
    "mon_dictionnaire"
   ]
  },
  {
   "cell_type": "markdown",
   "metadata": {},
   "source": [
    "C'est assez similaire à la création de variables : si la variable n'existe pas, elle est créée, sinon elle est remplacée par la nouvelle valeur.\n",
    "\n",
    "Pour accéder à la valeur d'une clé précise, c'est très simple :"
   ]
  },
  {
   "cell_type": "code",
   "execution_count": null,
   "metadata": {},
   "outputs": [],
   "source": [
    "mon_dictionnaire[\"mot de passe\"]"
   ]
  },
  {
   "cell_type": "markdown",
   "metadata": {},
   "source": [
    "Si la clé n'existe pas dans le dictionnaire, une exception de type KeyError sera levée."
   ]
  },
  {
   "cell_type": "code",
   "execution_count": null,
   "metadata": {},
   "outputs": [],
   "source": [
    "mon_dictionnaire[\"toto\"]"
   ]
  },
  {
   "cell_type": "markdown",
   "metadata": {},
   "source": [
    "On peut aussi créer des dictionnaires déjà remplis.\n",
    "On précise entre accolades la clé, le signe deux points **`:`** et la valeur correspondante. On sépare les différents couples clé : valeur par une virgule. C'est d'ailleurs comme cela que Python vous affiche un dictionnaire quand vous le lui demandez."
   ]
  },
  {
   "cell_type": "code",
   "execution_count": null,
   "metadata": {},
   "outputs": [],
   "source": [
    "placard = {\"chemise\":8, \"pantalon\":6, \"tee-shirt\":7}\n",
    "placard"
   ]
  },
  {
   "cell_type": "markdown",
   "metadata": {},
   "source": [
    "Généralisons un peu tout cela : nous avons des dictionnaires, qui peuvent contenir d'autres objets. On place ces objets et on y accède grâce à des clés. Un dictionnaire ne peut naturellement pas contenir deux clés identiques (comme on l'a vu, la seconde valeur écrase la première). En revanche, rien n'empêche d'avoir deux valeurs identiques dans le dictionnaire.\n",
    "\n",
    "Nous avons utilisé ici, pour nos clés et nos valeurs, des chaînes de caractères. Ce n'est absolument pas obligatoire. Comme avec les listes, vous pouvez utiliser des entiers comme clés :"
   ]
  },
  {
   "cell_type": "code",
   "execution_count": null,
   "metadata": {},
   "outputs": [],
   "source": [
    "mon_dictionnaire = {}\n",
    "mon_dictionnaire[0] = \"a\"\n",
    "mon_dictionnaire[1] = \"e\"\n",
    "mon_dictionnaire[2] = \"i\"\n",
    "mon_dictionnaire[3] = \"o\"\n",
    "mon_dictionnaire[4] = \"u\"\n",
    "mon_dictionnaire[5] = \"y\"\n",
    "mon_dictionnaire\n"
   ]
  },
  {
   "cell_type": "markdown",
   "metadata": {},
   "source": [
    "On a l'impression de recréer le fonctionnement d'une liste mais ce n'est pas le cas : rappelez-vous qu'un dictionnaire n'a pas de structure ordonnée. Si vous supprimez par exemple l'indice 2, le dictionnaire, contrairement aux listes, ne va pas décaler toutes les clés d'indice supérieur à l'indice supprimé. Il n'a pas été conçu pour.\n",
    "\n",
    "**On peut utiliser quasiment tous les types comme clés et on peut utiliser absolument tous les types comme valeurs.**"
   ]
  },
  {
   "cell_type": "markdown",
   "metadata": {},
   "source": [
    "## Supprimer des clés d'un dictionnaire\n",
    "\n",
    "Comme pour les listes, vous avez deux possibilités mais elles reviennent sensiblement au même :\n",
    "\n",
    "* le mot-clé `del`\n",
    "* la méthode de dictionnaire `pop`\n",
    "\n",
    "Ils fonctionnent pratiquement dde la même manière que pour les listes, i.e. la méthode `pop` renvoie la valeur de la clé supprimée :"
   ]
  },
  {
   "cell_type": "code",
   "execution_count": null,
   "metadata": {
    "collapsed": true
   },
   "outputs": [],
   "source": [
    "placard = {\"chemise\":3, \"pantalon\":6, \"tee shirt\":7}\n",
    "del placard[\"chemise\"]"
   ]
  },
  {
   "cell_type": "code",
   "execution_count": null,
   "metadata": {},
   "outputs": [],
   "source": [
    "placard = {\"chemise\":3, \"pantalon\":6, \"tee shirt\":7}\n",
    "placard.pop(\"chemise\")"
   ]
  },
  {
   "cell_type": "markdown",
   "metadata": {},
   "source": [
    "## Les méthodes de parcours\n",
    "\n",
    "Comme vous pouvez le penser, le parcours d'un dictionnaire ne s'effectue pas tout à fait comme celui d'une liste. La différence n'est pas si énorme que cela mais, la plupart du temps, on passe par des méthodes de dictionnaire.\n",
    "\n",
    "### Parcours des clés\n",
    "\n",
    "On peut parcourir un dictionnaire comme on l'a fait pour les listes :"
   ]
  },
  {
   "cell_type": "code",
   "execution_count": null,
   "metadata": {},
   "outputs": [],
   "source": [
    "fruits = {\"pommes\":21, \"melons\":3, \"poires\":31}\n",
    "\n",
    "for x in fruits:\n",
    "    print(x)"
   ]
  },
  {
   "cell_type": "markdown",
   "metadata": {},
   "source": [
    "Comme vous le voyez, si on parcour un dictionnaire *simplement*, on parcourt en réalité la liste des clés contenues dans le dictionnaire.\n",
    "\n",
    "**Attention : Les dictionnaires n'ont pas de structure ordonnée, par conséquent les clés ne s'affichent pas dans l'ordre dans lequel on les a entrées**."
   ]
  },
  {
   "cell_type": "markdown",
   "metadata": {},
   "source": [
    "La méthode `keys` (*clés* en anglais) renvoie la liste des clés contenues dans le dictionnaire et permet de parcourir le dictionnaire de la même manière (la lecture de l'instruction est juste plus explicite)."
   ]
  },
  {
   "cell_type": "code",
   "execution_count": null,
   "metadata": {},
   "outputs": [],
   "source": [
    "for x in fruits.keys():\n",
    "    print x"
   ]
  },
  {
   "cell_type": "markdown",
   "metadata": {},
   "source": [
    "#### Exercice\n",
    "En utilisant la méthode `sort` qui trie les `list`, réalisez un parcours ordonné des clés de votre dictionnaire."
   ]
  },
  {
   "cell_type": "code",
   "execution_count": null,
   "metadata": {
    "collapsed": true
   },
   "outputs": [],
   "source": []
  },
  {
   "cell_type": "markdown",
   "metadata": {},
   "source": [
    "### Parcours des valeurs\n",
    "\n",
    "On peut aussi parcourir les valeurs contenues dans un dictionnaire. Pour ce faire, on utilise la méthode `values` ( *valeurs* en anglais)."
   ]
  },
  {
   "cell_type": "code",
   "execution_count": null,
   "metadata": {},
   "outputs": [],
   "source": [
    "fruits = {\"pommes\":21, \"melons\":3, \"poires\":31}\n",
    "\n",
    "for valeur in fruits.values():\n",
    "    print(valeur)"
   ]
  },
  {
   "cell_type": "markdown",
   "metadata": {},
   "source": [
    "Cette méthode est peu utilisée pour un parcours car il est plus pratique de parcourir la liste des clés, cela suffit pour avoir les valeurs correspondantes. Mais on peut aussi, bien entendu, l'utiliser dans une condition :"
   ]
  },
  {
   "cell_type": "code",
   "execution_count": null,
   "metadata": {},
   "outputs": [],
   "source": [
    "if 21 in fruits.values():\n",
    "    print(\"Un des fruits se trouve en quantité 21.\")"
   ]
  },
  {
   "cell_type": "markdown",
   "metadata": {},
   "source": [
    "### Parcours des clés et valeurs simultanément\n",
    "\n",
    "Pour avoir en même temps les indices et les objets d'une liste, on utilise la fonction `enumerate`.\n",
    "Pour faire de même avec les dictionnaires, on utilise la méthode `items`. \n",
    "Elle renvoie une liste, contenant les couples `clé : valeur`, sous la forme d'un tuple. \n",
    "Voici comment l'utiliser :"
   ]
  },
  {
   "cell_type": "code",
   "execution_count": null,
   "metadata": {},
   "outputs": [],
   "source": [
    "fruits = {\"pommes\":21, \"melons\":3, \"poires\":31}\n",
    "for cle, valeur in fruits.items(): \n",
    "    print(\"La clé {} contient la valeur {}.\".format(cle, valeur))"
   ]
  },
  {
   "cell_type": "markdown",
   "metadata": {},
   "source": [
    "### En résumé\n",
    "\n",
    "* Un dictionnaire est un objet conteneur associant des clés à des valeurs.\n",
    "* Pour créer un dictionnaire, on utilise la syntaxe `dictionnaire = {cle1:valeur1, cle2:valeur2, cleN:valeurN}`.\n",
    "* On peut ajouter ou remplacer un élément dans un dictionnaire : `dictionnaire[cle] = valeur`.\n",
    "* On peut supprimer une clé (et sa valeur correspondante) d'un dictionnaire en utilisant, au choix, le mot-clé `del` ou la méthode `pop`.\n",
    "* On peut parcourir un dictionnaire grâce aux méthodes `keys` (parcourt les clés), `values` (parcourt les valeurs) ou `items` (parcourt les couples clé-valeur)."
   ]
  },
  {
   "cell_type": "markdown",
   "metadata": {},
   "source": [
    "#### Exercice\n",
    "\n",
    "Vous possédez un stock de fruits qui est répertorié dans le dictionnaire `fruits` ci-dessus.\n",
    "\n",
    "Créez un dictionnaire `prix` qui contiendra les prix unitaires des fruits que vous avez en stock avec les valeurs suivantes :\n",
    "\n",
    "* pommes : 0.75\n",
    "* melons : 3.5\n",
    "* poires : 1\n",
    "\n",
    "Écrivez une fonction qui parcourt vos 2 dictionnaires et affiche pour chaque fruit, son nom, son prix et sa quantité en stock sous la forme suivante:\n",
    "> Pommes  \n",
    ">Prix : 0.75 CHF  \n",
    ">Stock : 21  "
   ]
  },
  {
   "cell_type": "code",
   "execution_count": null,
   "metadata": {
    "collapsed": true
   },
   "outputs": [],
   "source": []
  },
  {
   "cell_type": "markdown",
   "metadata": {},
   "source": [
    "Écrivez une fonction qui calcule et affiche le chiffre d'affaire potentiel dans le cas ou vous vendriez tous vos fruits."
   ]
  },
  {
   "cell_type": "code",
   "execution_count": null,
   "metadata": {
    "collapsed": true
   },
   "outputs": [],
   "source": []
  },
  {
   "cell_type": "markdown",
   "metadata": {},
   "source": [
    "Ce Notebook est a été crée par David Da SILVA - 2020\n",
    "\n",
    "Source: Vincent Le Goff - [OpenClassRoom](https://openclassrooms.com/courses/apprenez-a-programmer-en-python/les-dictionnaires-2)\n",
    "\n",
    "<a rel=\"license\" href=\"http://creativecommons.org/licenses/by-nc-sa/4.0/\"><img alt=\"Creative Commons License\" style=\"border-width:0\" src=\"https://i.creativecommons.org/l/by-nc-sa/4.0/88x31.png\" /></a><br />This work is licensed under a <a rel=\"license\" href=\"http://creativecommons.org/licenses/by-nc-sa/4.0/\">Creative Commons Attribution-NonCommercial-ShareAlike 4.0 International License</a>."
   ]
  }
 ],
 "metadata": {
  "kernelspec": {
   "display_name": "Python 3",
   "language": "python",
   "name": "python3"
  },
  "language_info": {
   "codemirror_mode": {
    "name": "ipython",
    "version": 3
   },
   "file_extension": ".py",
   "mimetype": "text/x-python",
   "name": "python",
   "nbconvert_exporter": "python",
   "pygments_lexer": "ipython3",
   "version": "3.8.3"
  },
  "latex_envs": {
   "LaTeX_envs_menu_present": true,
   "autoclose": true,
   "autocomplete": true,
   "bibliofile": "biblio.bib",
   "cite_by": "apalike",
   "current_citInitial": 1,
   "eqLabelWithNumbers": true,
   "eqNumInitial": 1,
   "hotkeys": {
    "equation": "Ctrl-E",
    "itemize": "Ctrl-I"
   },
   "labels_anchors": false,
   "latex_user_defs": false,
   "report_style_numbering": false,
   "user_envs_cfg": false
  },
  "toc": {
   "base_numbering": 1,
   "nav_menu": {},
   "number_sections": true,
   "sideBar": true,
   "skip_h1_title": true,
   "title_cell": "Table of Contents",
   "title_sidebar": "Contents",
   "toc_cell": false,
   "toc_position": {},
   "toc_section_display": true,
   "toc_window_display": false
  }
 },
 "nbformat": 4,
 "nbformat_minor": 1
}
