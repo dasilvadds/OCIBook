{
 "cells": [
  {
   "cell_type": "markdown",
   "metadata": {},
   "source": [
    "# Modules \n",
    "---\n",
    "\n",
    "\n",
    "La première étape pour conserver du code et le réutiliser consiste à le conserver dans un fichier que l'on appelle un *script*.\n",
    "Au fur et à mesure de l'augmentation de la taille de votre *scripts*, il sera certainement nécessaire de le découper en plusieurs fichiers pour faciliter la lecture, l'organisation et l'*entretien*.\n",
    "De plus, il est souvent souhaitable de pouvoir réutiliser des fonctions existantes sans avoir à recopier le code à chaque fois.\n",
    "\n",
    "## Définition\n",
    "\n",
    "Pour répondre à ces besoins, *Python* permet de mettre des fonctions et autres définitions dans un fichier afin de pouvoir les utiliser à la demande.\n",
    "Un tel fichier est appelé un **module** et son contenu peut être importé dans d'autres modules, des scripts ou l'espace local d'un interpréteur.\n",
    "\n",
    "Un **module** est un fichier qui contient des définitions (fonctions, classes,...) et des déclarations (variables, constantes,...).\n",
    "Le nom du fichier est celui du module auquel on ajoute l'extension `.py`.\n",
    "Au sein d'un module, son nom en tant que chaîne de caractères est accessible à l'aide de la variable globale `__name__`.\n",
    "\n",
    "### Exemple\n",
    "\n",
    "Ouvrez un nouveau notebook que vous appelerez Fibo et copiez-y le code suivant:\n",
    "```python\n",
    "# Module de la suite de Fibonacci\n",
    "\n",
    "def printfib(n):    # Ecrit la suite de Fibonacci jusqu'à n\n",
    "    a, b = 0, 1\n",
    "    while b < n:\n",
    "        print b,\n",
    "        a, b = b, a+b\n",
    "\n",
    "def returnfib(n): # retourne la suite de Fibonacci jusqu'à n\n",
    "    result = []\n",
    "    a, b = 0, 1\n",
    "    while b < n:\n",
    "        result.append(b)\n",
    "        a, b = b, a+b\n",
    "    return result\n",
    "```\n",
    "Maintenant choisissez le menu `File > Download as > Python (.py)`, et déplacez le fichier généré dans le répertoire courant.\n",
    "\n",
    "Dans le bloc suivant, importez le module Fibo et testez chacune des fonctions qui y sont définies."
   ]
  },
  {
   "cell_type": "code",
   "execution_count": null,
   "metadata": {
    "collapsed": true
   },
   "outputs": [],
   "source": []
  },
  {
   "cell_type": "markdown",
   "metadata": {},
   "source": [
    "## Exécution d'un module....Bang Bang !!\n",
    "\n",
    "Un module peut être exécuter directement en ligne de commande de la manière suivante :\n",
    "```\n",
    "python fibo.py <arguments>\n",
    "```\n",
    "Dans ce cas le code du module va être exécuté, comme s'il était importé, mais avec le nom \"`__main__`\" affecté à la variable globale `__name__`.\n",
    "C'est à dire qu'en ajoutant le code suivant à la fin du module `Fibo`:\n",
    "```\n",
    "if __name__ == \"__main__\":\n",
    "    import sys\n",
    "    fib(int(sys.argv[1]))\n",
    "```\n",
    "il devient utilisable aussi bien en tant que script que module importable.\n",
    "```\n",
    "$ python fibo.py 50\n",
    "1 1 2 3 5 8 13 21 34\n",
    "```\n",
    "\n",
    "Si le module est importé, ce morceau de code n'est pas exécuté, faites le test:"
   ]
  },
  {
   "cell_type": "code",
   "execution_count": null,
   "metadata": {},
   "outputs": [],
   "source": []
  },
  {
   "cell_type": "markdown",
   "metadata": {},
   "source": [
    "Cette fonctionalité est souvent utilisée pour, soit fournir une interface utilisateur au module, soit pour des tests : l'exécution du module en tant que script effectue une batterie de tests.\n",
    "\n",
    "Juste faisons le !"
   ]
  },
  {
   "cell_type": "code",
   "execution_count": null,
   "metadata": {},
   "outputs": [],
   "source": []
  },
  {
   "cell_type": "markdown",
   "metadata": {},
   "source": [
    "Ce Notebook est a été crée par David Da SILVA - 2020\n",
    "\n",
    "Source: Vincent Le Goff - [OpenClassRoom](https://openclassrooms.com/courses/apprenez-a-programmer-en-python/les-dictionnaires-2)\n",
    "\n",
    "<a rel=\"license\" href=\"http://creativecommons.org/licenses/by-nc-sa/4.0/\"><img alt=\"Creative Commons License\" style=\"border-width:0\" src=\"https://i.creativecommons.org/l/by-nc-sa/4.0/88x31.png\" /></a><br />This work is licensed under a <a rel=\"license\" href=\"http://creativecommons.org/licenses/by-nc-sa/4.0/\">Creative Commons Attribution-NonCommercial-ShareAlike 4.0 International License</a>."
   ]
  }
 ],
 "metadata": {
  "kernelspec": {
   "display_name": "Python 3",
   "language": "python",
   "name": "python3"
  },
  "language_info": {
   "codemirror_mode": {
    "name": "ipython",
    "version": 3
   },
   "file_extension": ".py",
   "mimetype": "text/x-python",
   "name": "python",
   "nbconvert_exporter": "python",
   "pygments_lexer": "ipython3",
   "version": "3.8.3"
  },
  "latex_envs": {
   "LaTeX_envs_menu_present": true,
   "autoclose": true,
   "autocomplete": true,
   "bibliofile": "biblio.bib",
   "cite_by": "apalike",
   "current_citInitial": 1,
   "eqLabelWithNumbers": true,
   "eqNumInitial": 1,
   "hotkeys": {
    "equation": "Ctrl-E",
    "itemize": "Ctrl-I"
   },
   "labels_anchors": false,
   "latex_user_defs": false,
   "report_style_numbering": false,
   "user_envs_cfg": false
  },
  "toc": {
   "base_numbering": 1,
   "nav_menu": {},
   "number_sections": true,
   "sideBar": true,
   "skip_h1_title": true,
   "title_cell": "Table of Contents",
   "title_sidebar": "Contents",
   "toc_cell": false,
   "toc_position": {},
   "toc_section_display": true,
   "toc_window_display": true
  }
 },
 "nbformat": 4,
 "nbformat_minor": 1
}
