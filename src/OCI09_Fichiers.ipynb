{
 "cells": [
  {
   "cell_type": "markdown",
   "metadata": {},
   "source": [
    "# Fichiers\n",
    "---\n",
    "\n",
    "La gestion des fichiers est indispensable dans une vaste majorité de programmes : valeurs initiales, sauvegarde, images diverses, etc.\n",
    "\n",
    "On peut considérer principalement 2 types de fichiers : les fichiers texte et les fichiers binaires. Les fichiers texte sont en fait des fichiers binaires particuliers constitués de chaînes de caractères séparées par des sauts de ligne (`\\n`).\n",
    "Dans un premier temps nous allons uniquement nous intéresser à ces derniers.\n",
    "\n",
    "## Ouverture\n",
    "\n",
    "Afin de travailler avec un fichier, il faut commencer par l'ouvrir avec Python. On utilise pour ce faire la fonction `open`, disponible sans avoir besoin de rien importer. Elle prend en paramètre :\n",
    "\n",
    "* le chemin (absolu ou relatif) menant au fichier à ouvrir ;\n",
    "* le mode d'ouverture.\n",
    "\n",
    "Le mode est donné sous la forme d'une chaîne de caractères. Voici les principaux modes :\n",
    "\n",
    "* 'r': ouverture en lecture (Read).\n",
    "* 'w': ouverture en écriture (Write). Le contenu du fichier est écrasé. Si le fichier n'existe pas, il est créé.\n",
    "* 'a': ouverture en écriture en mode ajout (Append). On écrit à la fin du fichier sans écraser l'ancien contenu du fichier. Si le fichier n'existe pas, il est créé.\n",
    "* 'b' pour ouvrir le fichier en mode binaire. Nous en verrons plus tard l'utilité, c'est un mode un peu particulier.\n",
    "\n",
    "### Ouverture d'un fichier en mode *écriture*"
   ]
  },
  {
   "cell_type": "code",
   "execution_count": null,
   "metadata": {},
   "outputs": [],
   "source": [
    "f = open(\"toto.txt\", \"w\")"
   ]
  },
  {
   "cell_type": "markdown",
   "metadata": {},
   "source": [
    "La variable `f` est appelé un descripteur de fichier, c'est elle qui va nous permettre d'interagir avec son contenu en fonction du mode d'ouverture.\n",
    "\n",
    "#### Question : \n",
    "Que se passe-t-il si vous essayer d'ouvrir le fichier `bidule.txt` en mode lecture ?\n",
    "\n",
    "## Écriture dans un fichier\n",
    "\n",
    "Pour écrire dans un fichier, il existe 2 méthodes :\n",
    "\n",
    " 1. `write` : prend en paramètre une chaîne de caractère qui est écrite dans le fichier\n",
    " 2. `writelines` : prend en paramètre une `liste` de chaînes de caractères qui sont écrites dans le fichier\n",
    " \n",
    "**Attention** : ces 2 métodes écrivent les chaînes de caractères les unes après les autres sans retour entre le lignes. Pour changer de ligne, le caractère de saut de ligne `\\n` doit être explicitement contenu dans la chaîne de caractères.\n",
    "\n",
    "### Exemple"
   ]
  },
  {
   "cell_type": "code",
   "execution_count": null,
   "metadata": {},
   "outputs": [],
   "source": [
    "f.write(\"0 + 0 = la tete a Toto\")"
   ]
  },
  {
   "cell_type": "code",
   "execution_count": null,
   "metadata": {},
   "outputs": [],
   "source": [
    "f.write(\"Turlututu chapeau pointu\")"
   ]
  },
  {
   "cell_type": "markdown",
   "metadata": {},
   "source": [
    "le contenu du fichier est 1 ligne : **_\"0 + 0 = la tete a TotoTurlututu chapeau pointu\"_**\n",
    "\n",
    "Afin de finaliser et valider l'écriture dans le fichier, il faut le fermer :"
   ]
  },
  {
   "cell_type": "code",
   "execution_count": null,
   "metadata": {},
   "outputs": [],
   "source": [
    "f.close()"
   ]
  },
  {
   "cell_type": "markdown",
   "metadata": {},
   "source": [
    "### Exercice\n",
    "\n",
    "Créez un fichier `toto2.txt` qui contient les 2 chaînes de caractères précédentes, chacune sur une ligne."
   ]
  },
  {
   "cell_type": "code",
   "execution_count": null,
   "metadata": {},
   "outputs": [],
   "source": []
  },
  {
   "cell_type": "markdown",
   "metadata": {
    "solution2": "hidden",
    "solution2_first": true
   },
   "source": [
    "Une solution avec `writelines`"
   ]
  },
  {
   "cell_type": "code",
   "execution_count": null,
   "metadata": {
    "solution2": "hidden"
   },
   "outputs": [],
   "source": [
    "f = open(\"toto.txt\", \"w\")\n",
    "f.writelines([\"0 + 0 = la tete a Toto\\n\",\"Turlututu chapeau pointu\\n\"])\n",
    "f.close()"
   ]
  },
  {
   "cell_type": "markdown",
   "metadata": {},
   "source": [
    "## Lecture dans un fichier\n",
    "\n",
    "Il existe plusieurs façons de lire le contenu d'un fichier : \n",
    "\n",
    " * `read` : sans paramètre, renvoie **TOUT** le fichier\n",
    " * `read`: avec un entier `n` en paramètre, renvoie les `n` lignes suivantes du fichier\n",
    " * `readline` : sans paramètre, renvoie la ligne suivante du fichier\n",
    " * `readlines` : sans paramètre, renvoie tout le fichier dans une liste ou chaque élément corespond à une ligne du fichier, c'est à dire une chaîne de caractère se finissant par `\\n`\n",
    "\n",
    "**Attention** : en mode lecture le descripteur de fichier se déplace à la position suivante de ce qui vient d'être lu dans le fichier. Une fois à la fin du fichier, pour le relire il faut le fermer puis l'ouvrir à nouveau ce qui permet d'avoir un nouveau descripteur en début de fichier."
   ]
  },
  {
   "cell_type": "code",
   "execution_count": null,
   "metadata": {},
   "outputs": [],
   "source": [
    "f = open(\"toto.txt\", \"r\")\n",
    "lines = f.readlines() #lines est une liste de str\n",
    "print(lines)"
   ]
  },
  {
   "cell_type": "markdown",
   "metadata": {
    "solution2": "hidden",
    "solution2_first": true
   },
   "source": [
    "## Exercices\n",
    "\n",
    "### Création et relecture\n",
    "\n",
    "Créez un programme qui demande à l'utilisateur un nom de fichier et lui propose ensuite soit :\n",
    "\n",
    " * d'enregistrer de nouvelles lignes de texte\n",
    " * d'afficher le contenu du fichier\n",
    " \n",
    "L'utilisateur pourra entrer son texte par lignes successives en utilisant la touche `Entrée` pour les séparer les unes des autres. Pour terminer, il suffira d'entrer une ligne vide.\n",
    "<br>\n",
    "L'affichage du contenu devra montrer les lignes du fichier sans les codes de fin de ligne (*Indice : la fonction `strip`*)."
   ]
  },
  {
   "cell_type": "code",
   "execution_count": null,
   "metadata": {
    "solution2": "hidden"
   },
   "outputs": [],
   "source": [
    "def fichierUser():\n",
    "    filename = input(\"Nom du fichier ?\")\n",
    "    choix = input(\"Lire ou Ecrire ?\")\n",
    "    if choix == \"Lire\" :\n",
    "        mode = \"r\"\n",
    "    else :\n",
    "        mode = \"a\"\n",
    "    toto = open(filename, mode)\n",
    "    \n",
    "    if choix == \"Lire\":\n",
    "        lines = toto.readlines()\n",
    "        print(lines)\n",
    "        for l in lines:\n",
    "            print(l[0:-1])\n",
    "    else :\n",
    "        line = input(\"Saisir une ligne :\")\n",
    "        while not line == \"\":\n",
    "            toto.write(line+\"\\n\")\n",
    "            line = input(\"Saisir une ligne :\")\n",
    "        toto.close()"
   ]
  },
  {
   "cell_type": "code",
   "execution_count": null,
   "metadata": {
    "solution2": "hidden"
   },
   "outputs": [],
   "source": [
    "fichierUser()"
   ]
  },
  {
   "cell_type": "markdown",
   "metadata": {},
   "source": [
    "### Le plus long\n",
    "\n",
    "Écrivez un programme qui recherche et affiche la phrase la plus longue d'un fichier texte puis le mot le plus long de cette phrase (*Indice : la fonction `split`*)."
   ]
  },
  {
   "cell_type": "code",
   "execution_count": null,
   "metadata": {},
   "outputs": [],
   "source": []
  },
  {
   "cell_type": "markdown",
   "metadata": {},
   "source": [
    "### Numérotation\n",
    "Écrivez un programme qui lit un fichier texte, numérote chaque ligne au début puis les classe de la plus courte à la plus longue et écrit le résultat dans un nouveau fichier."
   ]
  },
  {
   "cell_type": "code",
   "execution_count": null,
   "metadata": {},
   "outputs": [],
   "source": []
  },
  {
   "cell_type": "markdown",
   "metadata": {},
   "source": [
    "### George Sand\n",
    "Écrivez un programme qui lit un fichier texte et écrit toute les lignes paires et toutes les lignes impaires dans 2 nouveaux fichiers respectifs.  \n",
    "Testez votre programme sur le fichier `Sand.txt` et vérifiez les résultats, vous saurez tout de suite si vous ne vous êtes pas trompé."
   ]
  },
  {
   "cell_type": "code",
   "execution_count": null,
   "metadata": {},
   "outputs": [],
   "source": []
  },
  {
   "cell_type": "markdown",
   "metadata": {},
   "source": [
    "### Alfred de Musset\n",
    "Cherchez la réponse d'Alfred de Musset à George Sand, copiez là dans un fichier texte et écrivez un programme qui permet de la déchifrer et de l'écrire dans un nouveau fichier. "
   ]
  },
  {
   "cell_type": "code",
   "execution_count": null,
   "metadata": {},
   "outputs": [],
   "source": []
  },
  {
   "cell_type": "markdown",
   "metadata": {},
   "source": [
    "Ce Notebook est a été crée par David Da SILVA - 2020\n",
    "\n",
    "\n",
    "<a rel=\"license\" href=\"http://creativecommons.org/licenses/by-nc-sa/4.0/\"><img alt=\"Creative Commons License\" style=\"border-width:0\" src=\"https://i.creativecommons.org/l/by-nc-sa/4.0/88x31.png\" /></a><br />This work is licensed under a <a rel=\"license\" href=\"http://creativecommons.org/licenses/by-nc-sa/4.0/\">Creative Commons Attribution-NonCommercial-ShareAlike 4.0 International License</a>."
   ]
  }
 ],
 "metadata": {
  "kernelspec": {
   "display_name": "Python 3",
   "language": "python",
   "name": "python3"
  },
  "language_info": {
   "codemirror_mode": {
    "name": "ipython",
    "version": 3
   },
   "file_extension": ".py",
   "mimetype": "text/x-python",
   "name": "python",
   "nbconvert_exporter": "python",
   "pygments_lexer": "ipython3",
   "version": "3.8.5"
  },
  "latex_envs": {
   "LaTeX_envs_menu_present": true,
   "autoclose": false,
   "autocomplete": true,
   "bibliofile": "biblio.bib",
   "cite_by": "apalike",
   "current_citInitial": 1,
   "eqLabelWithNumbers": true,
   "eqNumInitial": 1,
   "hotkeys": {
    "equation": "Ctrl-E",
    "itemize": "Ctrl-I"
   },
   "labels_anchors": false,
   "latex_user_defs": false,
   "report_style_numbering": false,
   "user_envs_cfg": false
  },
  "toc": {
   "base_numbering": 1,
   "nav_menu": {},
   "number_sections": true,
   "sideBar": true,
   "skip_h1_title": true,
   "title_cell": "Table of Contents",
   "title_sidebar": "Contents",
   "toc_cell": false,
   "toc_position": {},
   "toc_section_display": true,
   "toc_window_display": true
  }
 },
 "nbformat": 4,
 "nbformat_minor": 1
}
