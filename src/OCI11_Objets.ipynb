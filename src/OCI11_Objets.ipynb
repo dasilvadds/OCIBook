{
 "cells": [
  {
   "cell_type": "markdown",
   "metadata": {},
   "source": [
    "# Objets, en *Python* tout est objet\n",
    "---\n",
    "\n",
    "Sources:\n",
    "*  [Developpez.com](http://hdd34.developpez.com/cours/artpoo/#L1)\n",
    "*  [OpenClassRoom](https://openclassrooms.com/courses/apprenez-a-programmer-en-python/premiere-approche-des-classes)\n",
    "* [Wikipédia](https://fr.wikipedia.org/wiki/Programmation_orient%C3%A9e_objet)\n",
    "\n",
    "## Introduction\n",
    "\n",
    "La **programmation orientée objet** (POO) est un paradigme de programmation informatique élaboré par les Norvégiens Ole-Johan Dahl et Kristen Nygaard au début des années 1960 et poursuivi par les travaux d'Alan Kay dans les années 1970. \n",
    "\n",
    "Il consiste en la définition et l'interaction de *briques logicielles* appelées **objets** ; un objet représente un concept, une idée ou toute entité du monde physique, comme une voiture, une personne ou encore une page d'un livre.\n",
    "\n",
    "Un objet est avant tout une structure de données. Autrement dit, il s'agit d'une entité chargée de gérer des données, de les classer, et de les stocker sous une certaine forme. En cela, rien ne distingue un objet d'une quelconque autre structure de données. La principale différence vient du fait que **l'objet regroupe les données et les moyens de traitement de ces données**.\n",
    "\n",
    "Un objet possède une structure interne et un comportement, et il sait interagir avec ses pairs. Il s'agit donc de représenter ces objets et leurs relations ; l'interaction entre les objets via leurs relations permet de concevoir et réaliser les fonctionnalités attendues, de mieux résoudre le ou les problèmes. Dès lors, l'étape de modélisation revêt une importance majeure et nécessaire pour la POO. C'est elle qui permet de transcrire les éléments du réel sous forme virtuelle.\n",
    "\n",
    "Un objet rassemble de fait deux éléments de la programmation procédurale.\n",
    "\n",
    "  - Les **attributs** :\n",
    "    Les attributs sont à l'objet ce que les variables sont à un programme : ce sont eux qui ont en charge les données à gérer. Tout comme n'importe quelle autre variable, un attributs peut posséder un type quelconque défini au préalable : nombre, caractère... ou même un type objet.\n",
    "    \n",
    "\n",
    "  - Les **méthodes** :\n",
    "    Les méthodes sont les éléments d'un objet qui servent d'interface entre les données et le programme. Sous ce nom obscur se cachent simplement des fonctions destinées à traiter les données.\n",
    "\n",
    "Les attributs et les méthodes d'un objet sont ses **membres**.\n",
    "\n",
    "Un objet est donc un type servant à stocker des données et à les gérer."
   ]
  },
  {
   "cell_type": "markdown",
   "metadata": {},
   "source": [
    "## Les Classes\n",
    "\n",
    "Avec la notion d'objet, il convient d'amener la notion de **classe**.\n",
    "\n",
    "* La **classe** est un plan, une description de l'objet. Imaginez qu'il s'agit par exemple des plans de construction d'une maison.\n",
    "\n",
    "\n",
    "* L'**objet** est une application concrète du plan. Pour reprendre l'exemple précédent, l'objet est la maison. On peut créer plusieurs maisons basées sur un plan de construction. On peut donc créer plusieurs objets à partir d'une classe. L'objet en lui-même est une **instance de classe**, plus simplement un exemplaire d'une classe, sa représentation en mémoire.\n",
    "\n",
    "<img src=\"files/img/ClassObjects.png\"> [source](https://openclassrooms.com/courses/concevez-votre-site-web-avec-php-et-mysql/la-programmation-orientee-objet-6)\n",
    "\n",
    "Par conséquent, on déclare comme type une classe, et on déclare des variables de ce type appelées des objets."
   ]
  },
  {
   "cell_type": "markdown",
   "metadata": {},
   "source": [
    "## Définition et instanciation\n",
    "\n",
    "L'orienté objet est plus qu'utile dès lors que l'on s'en sert pour modéliser, représenter des données un peu plus complexes qu'un simple nombre, ou qu'une chaîne de caractères. \n",
    "Bien sûr, il existe des classes que Python définit pour nous : les nombres, les chaînes et les listes en font partie. Mais on serait bien limité si on ne pouvait faire ses propres classes.\n",
    "\n",
    "Pour définir une nouvelle classe, on utilise le mot-clé **`class`**.\n",
    "\n",
    "Sa syntaxe est assez intuitive : **`class NomDeLaClasse:`**.\n",
    "\n",
    "Imaginons par exemple que l'on souhaite modéliser des voitures. Il existe de nombreuses caractéristiques qui définissent une voiture, considérons pour l'instant uniquement sa marque, son modèle, sa couleur et son année de fabrication. \n",
    "\n",
    "Cela nous fait donc quatre attributs. Ce sont les variables internes à notre objet, qui vont le caractériser. \n",
    "Pour définir les attributs de notre objet, il faut définir un **constructeur** dans notre classe. Voyons cela de plus près."
   ]
  },
  {
   "cell_type": "code",
   "execution_count": null,
   "metadata": {},
   "outputs": [],
   "source": [
    "class Voiture: # Définition de notre classe Voiture\n",
    "    \"\"\"Classe définissant une voiture caractérisée par :\n",
    "    - sa marque\n",
    "    - son modèle\n",
    "    - sa couleur\n",
    "    - son année de fabrication\"\"\"\n",
    "\n",
    "    def __init__(self,color,marque=\"Tesla\", model=\"S\", annee=2017): # Notre méthode constructeur\n",
    "        \"\"\"Pour l'instant, on ne va définir qu'un seul attribut\"\"\"\n",
    "        \n",
    "        self.marque = marque\n",
    "        self.color = color\n",
    "        self.model = model\n",
    "        self.annee = annee\n",
    "        \n",
    "    def set_annee(self,yr):\n",
    "        if type(yr) == int :\n",
    "            self.annee = yr\n",
    "        else:\n",
    "            print(\"il faut un entier\")\n",
    "        "
   ]
  },
  {
   "cell_type": "markdown",
   "metadata": {},
   "source": [
    "En détail :\n",
    "\n",
    "* D'abord, la définition de la classe. Elle est constituée du mot-clé class, du nom de la classe et des deux points rituels \" : \".\n",
    "\n",
    "* Une docstring commentant la classe. Prenez l'habitude de le faire systématiquement. Cela sera plus qu'utile quand vous vous lancerez dans de grands projets, notamment à plusieurs.\n",
    "\n",
    "* La définition de notre **constructeur**. Comme vous le voyez, il s'agit d'une définition presque *\"classique\"* d'une fonction. Elle a pour nom **\\_\\_init\\_\\_**, c'est invariable : en Python, **tous les constructeurs** s'appellent ainsi. Notez que, dans notre définition de méthode, nous passons un premier paramètre nommé **self**.\n",
    "\n",
    "* Dans notre constructeur, nous trouvons l'instanciation de notre attribut marque. On crée une variable `self.marque` et on lui donne comme valeur Tesla.\n",
    "\n",
    "Créons maintenant un objet voiture à l'aide de notre classe:"
   ]
  },
  {
   "cell_type": "code",
   "execution_count": null,
   "metadata": {},
   "outputs": [],
   "source": [
    "mycar = Voiture(\"Noir\")"
   ]
  },
  {
   "cell_type": "code",
   "execution_count": null,
   "metadata": {},
   "outputs": [],
   "source": [
    "mycar.annee"
   ]
  },
  {
   "cell_type": "markdown",
   "metadata": {},
   "source": [
    "Quand on tape `Voiture()`, on appelle le constructeur de notre classe Voiture.\n",
    "Celui-ci prend en paramètre la variable `self` qui représente notre objet en train de se créer. \n",
    "On écrit dans cet objet l'attribut marque à l'aide de la ligne `self.marque = \"Tesla\"`.\n",
    "\n",
    "À la fin de l'appel au constructeur, Python renvoie notre objet self modifié, avec notre attribut. On va réceptionner le tout dans notre variable `mycar`.\n",
    "\n",
    "Ensuite on affiche l'attribut `marque` de notre objet `mycar` et on obtient 'Tesla' (la valeur définie dans notre constructeur). Notez qu'on utilise le point (.), encore et toujours utilisé pour une relation d'appartenance (`marque` est un attribut de l'objet `mycar`)\n",
    "\n",
    "### Exercices\n",
    "\n",
    "* Complétez le contructeur ci-dessus pour que le modèle soit \"S\", la couleur \"Rouge\" et son année de fabrication \"2015\". Testez vos modifications ci dessous.\n",
    "\n",
    "* Modifiez la signature du constructeur pour pouvoir fournir un ou plusieurs de ces attributs en paramètre lors de l'instanciation de votre objet. Les valeurs non fournies seront remplacées par des valeurs par défaut (les valeurs précédentes par exemple)."
   ]
  },
  {
   "cell_type": "code",
   "execution_count": null,
   "metadata": {},
   "outputs": [],
   "source": []
  },
  {
   "cell_type": "markdown",
   "metadata": {},
   "source": [
    "## Modifications d'attributs et méthodes\n",
    "\n",
    "Comme nous venons de le voir, l'accès à un attribut se fait de manière classique avec le point (.).\n",
    "\n",
    "L'affectation d'une nouvelle valeur à un attribut se fait tout aussi classiqument si l'on garde à l'esprit que les attributs son en fait des varibales propres à notre objet.\n",
    "\n",
    "Ainsi pour changer la marque de notre voiture, il suffit de faire"
   ]
  },
  {
   "cell_type": "code",
   "execution_count": null,
   "metadata": {},
   "outputs": [],
   "source": [
    "mycar.marque = 5\n",
    "\n",
    "print(mycar.marque)"
   ]
  },
  {
   "cell_type": "markdown",
   "metadata": {},
   "source": [
    "Si les attributs sont des variables propres à notre objet qui servent à le caractériser, les méthodes sont plutôt des actions, comme nous l'avons vu dans la partie précédente, agissant sur l'objet. Par exemple, la méthode `append` de la classe `list` permet d'ajouter un élément dans l'objet list manipulé.\n",
    "\n",
    "Nous allons écrire une méthode qui \"repeind\" la voiture, c-à-d une méthode qui remplace l'attribut couleur de l'instance voiture par celle fournie en paramètre."
   ]
  },
  {
   "cell_type": "code",
   "execution_count": null,
   "metadata": {},
   "outputs": [],
   "source": [
    "class Voiture: # Définition de notre classe Voiture\n",
    "    \"\"\"Classe définissant une voiture caractérisée par :\n",
    "    - sa marque\n",
    "    - son modèle\n",
    "    - sa couleur\n",
    "    - son année de fabrication\"\"\"\n",
    "\n",
    "    def __init__(self): # Notre méthode constructeur\n",
    "        \"\"\"Pour l'instant, on ne va définir que deux attributs\"\"\"\n",
    "        \n",
    "        self.marque = \"Tesla\"\n",
    "        self.couleur = \"Rouge\"\n",
    "        \n",
    "    def repeindre(self, new_color):\n",
    "        self.couleur = new_color"
   ]
  },
  {
   "cell_type": "code",
   "execution_count": null,
   "metadata": {},
   "outputs": [],
   "source": [
    "mycar = Voiture()\n",
    "print(mycar.couleur)\n",
    "mycar.repeindre(\"Bleu\")\n",
    "print(\"Nouvelle couleur est : {0}\".format(mycar.couleur))"
   ]
  },
  {
   "cell_type": "markdown",
   "metadata": {},
   "source": [
    "## Le paramètre self\n",
    "\n",
    "Dans nos méthodes d'instance, telles que `repeindre` ou le constructeur, le premier paramètre est **toujours** `self`.\n",
    "\n",
    "Une chose qui a son importance : quand vous créez un nouvel objet, ici une voiture, les attributs de l'objet sont propres à l'objet créé. \n",
    "\n",
    "Si vous créez plusieurs voitures, elles ne vont pas toutes avoir la même marque, la même couleur, etc. \n",
    "Donc les attributs sont contenus dans l'objet.\n",
    "\n",
    "En revanche, les méthodes sont contenues dans la classe qui définit notre objet. C'est très important. \n",
    "Quand vous tapez `mycar.repeindre(…)`, Python va chercher la méthode `repeindre` non pas dans l'objet `mycar`, mais dans la classe `Voiture`.\n",
    "\n",
    "Comme vous le voyez, quand vous tapez `mycar.repeindre(…)`, cela revient au même que si vous écriviez `Voiture.repeindre(mycar, …)`. Votre paramètre `self`, c'est l'objet qui appelle la méthode. \n",
    "C'est pour cette raison que vous modifiez la `couleur` de l'objet en appelant `self.couleur`.\n",
    "\n",
    "Quand vous devez travailler dans une méthode de l'objet sur l'objet lui-même, vous allez passer par `self`.\n",
    "\n",
    "Le nom `self` est une très forte convention de nommage. Je vous déconseille de changer ce nom. De manière générale, évitez de changer le nom. Une méthode d'instance travaille avec le paramètre **`self`**.\n",
    "\n",
    "En Python, dès qu'on voit `self`, on sait que c'est un attribut ou une méthode interne à l'objet qui va être appelé.\n",
    "\n",
    "**Exercice**\n",
    "\n",
    "Pour éviter de mettre n'importe quoi dans les attributs, créez des méthodes pour les modifier qui font les vérifications nécessaires. Ces methodes auront toutes une signature de la forme `set_NomAttribut(valeur)`."
   ]
  },
  {
   "cell_type": "code",
   "execution_count": null,
   "metadata": {},
   "outputs": [],
   "source": []
  },
  {
   "cell_type": "markdown",
   "metadata": {},
   "source": [
    "En résumé\n",
    "\n",
    "* On définit une classe en suivant la syntaxe class NomClasse:.\n",
    "\n",
    "* Les méthodes se définissent comme des fonctions, sauf qu'elles se trouvent dans le corps de la classe.\n",
    "\n",
    "* Les méthodes d'instance prennent en premier paramètre self, l'instance de l'objet manipulé.\n",
    "\n",
    "* On construit une instance de classe en appelant son constructeur, une méthode d'instance appelée __init__.\n",
    "\n",
    "* On définit les attributs d'une instance dans le constructeur de sa classe, en suivant cette syntaxe : self.nom_attribut = valeur."
   ]
  },
  {
   "cell_type": "markdown",
   "metadata": {},
   "source": [
    "## Exercices\n",
    "\n",
    "### Compte en banque\n",
    "\n",
    "#### Consigne\n",
    "\n",
    "Créez une classe qui représente un compte en banque. Le compte aura 2 méthode :\n",
    "\n",
    "* depot : prend un montant, vérifie qu'il est positif, l'ajoute au solde et affiche le nouveau solde\n",
    "* retrait : prend un montant, vérifie qu'il est positif et que le solde est suffisant, le retire du solde et affiche le nouveau solde ; sinon affiche un message de solde insufisant"
   ]
  },
  {
   "cell_type": "code",
   "execution_count": null,
   "metadata": {},
   "outputs": [],
   "source": []
  },
  {
   "cell_type": "markdown",
   "metadata": {
    "solution2": "hidden",
    "solution2_first": true
   },
   "source": [
    "#### Corrigé"
   ]
  },
  {
   "cell_type": "code",
   "execution_count": null,
   "metadata": {
    "solution2": "hidden"
   },
   "outputs": [],
   "source": [
    "class CompteBank :\n",
    "    \n",
    "    def __init__(self, nom, annee, solde=0):\n",
    "        self.titulaire = nom\n",
    "        self.creation = annee\n",
    "        self.solde = solde\n",
    "        \n",
    "    def depot(self,montant):\n",
    "        if montant >= 0 :\n",
    "            self.solde += montant\n",
    "            print(\"Le nouveau solde est : {0}\".format(self.solde))\n",
    "        else :\n",
    "            print(\"Montant incorrect\")\n",
    "            \n",
    "    def retrait(self,montant):\n",
    "        if montant >= 0 and self.solde >= montant:\n",
    "            self.solde -= montant\n",
    "            print(\"Le nouveau solde est : {0}\".format(self.solde))\n",
    "        else :\n",
    "            print(\"Montant incorrect\")"
   ]
  },
  {
   "cell_type": "markdown",
   "metadata": {},
   "source": [
    "### Géométrie\n",
    "\n",
    "1. Créez une classe `Rectangle` qui le construit à partir d'une longueur et d'une largeur. `Rectangle` possède 2 méthodes pour calculer son `perimetre` et son `aire`.\n",
    "\n",
    "2. Faites de même pour la classe `cercle`, mais avant de l'écrire définissez des tests que la classe devra passer."
   ]
  },
  {
   "cell_type": "code",
   "execution_count": null,
   "metadata": {},
   "outputs": [],
   "source": [
    "def test_circle():\n",
    "    print(\"Test de la classe cercle\")\n",
    "    #Ajoutez vos test ici\n",
    "    #Par ex : \n",
    "    # c = cercle(1)\n",
    "    # assert(c.aire() == 3.14159267**2)\n",
    "    print(\"Classe cercle OK\")"
   ]
  },
  {
   "cell_type": "markdown",
   "metadata": {},
   "source": [
    "### Nombres\n",
    "\n",
    "Toujours en utilisant le principe du TDD, créez une classe `nombre` qui prend un entier et possède des méthodes permettant de l'afficher en :\n",
    "\n",
    " + binaire\n",
    " + hexadécimal\n",
    " + chiffre romain"
   ]
  },
  {
   "cell_type": "code",
   "execution_count": null,
   "metadata": {},
   "outputs": [],
   "source": []
  },
  {
   "cell_type": "markdown",
   "metadata": {},
   "source": [
    "### Phrases\n",
    "\n",
    "Toujours en utilisant le principe du TDD, créez une classe `phrase` qui prend une phrase (= chaîne de caractère) et possède 2 méthodes :\n",
    "\n",
    " 1. `verlant` : affiche la phrase à l'envers mot à mot\n",
    " 2. `envers` : affiche la phrase à l'envers lettre par lettre en respectant les espaces\n",
    " \n",
    "**Indice :** Cherchez des infos sur la fonction `split` des chaînes de caractères\n",
    " "
   ]
  },
  {
   "cell_type": "code",
   "execution_count": null,
   "metadata": {},
   "outputs": [],
   "source": []
  },
  {
   "cell_type": "markdown",
   "metadata": {},
   "source": [
    "## Mise en pratique : Bibliothèque\n",
    "\n",
    "### Présentation\n",
    "\n",
    "A l'aide de le POO, nous allons modéliser une bibliothèque.\n",
    "\n",
    "Pour simplifier, une bibliothèque sera simplement un objet qui contient des ouvrages. Elle est caractérisée par son nom et la ville dans laquelle elle se trouve.\n",
    "Entre autre, une bibliothèque est capable :\n",
    "\n",
    "* d'ajouter un ouvrage à sa collection\n",
    "* de prêter un ouvrage\n",
    "* de récupérer un ouvrage\n",
    "* de faire des recherches dans sa collection d'ouvrage\n",
    "\n",
    "Un ouvrage quand à lui se caractérise par :\n",
    "\n",
    " * son type : Livre - Revue - BD - CD Audio - Film\n",
    " * son titre\n",
    " * son auteur/interprète/réalisateur\n",
    " * son année de création\n",
    " * son status : Disponible ou Emprunté\n",
    " \n",
    "### `Class` Ouvrage\n",
    "\n",
    "Créez la classe *Ouvrage* qui nous servira à représenter les ouvrage de notre bibliothèque.\n",
    "\n",
    "Le constructeur n'aura aucune valeur par défaut et devra vérifier que :\n",
    "\n",
    "* le *type* de l'ouvrage est bien l'un des cinq prédéfini \n",
    "* l'*année de création* est un nombre postérieur à l'invention de l'écriture (Google est votre ami) et antérieur à la date du jour\n",
    "\n",
    "Cet objet aura en plus 2 méthodes pour gérer son status, la méthode `emprunte` et la méthode `rendu`. La méthode `emprunte` vérifie que l'ouvrage est *disponible* et modifie le status, sinon retourne `False` (ou un message d'erreur). La méthode `rendu` vérifie que l'ouvrage est *emprunté* et modifie le status, sinon retourne `False` (ou un message d'erreur).\n",
    "\n",
    "Commencez par écrire ci-dessous les différents tests que la classe ouvrage doit satisfaire puis créez la classe à proprement parler"
   ]
  },
  {
   "cell_type": "code",
   "execution_count": null,
   "metadata": {},
   "outputs": [],
   "source": [
    "def test_ouvrage(): #fonction de test pour la classe ouvrage"
   ]
  },
  {
   "cell_type": "code",
   "execution_count": null,
   "metadata": {},
   "outputs": [],
   "source": [
    "class Ouvrage: # Definition de la classe ouvrage\n",
    "    \"\"\"\n",
    "    Mettre une DocString ici\n",
    "    \"\"\"\n",
    "    \n",
    "    def __init__(): # Le constructeur d'un ouvrage\n",
    "        \"\"\"\n",
    "        On oublie pas le Docstring\n",
    "        \"\"\""
   ]
  },
  {
   "cell_type": "markdown",
   "metadata": {},
   "source": [
    "### `Class` Bibliotheque\n",
    "\n",
    "Le principal attribut de la bibliothèque, outre son nom et sa localisation, est sa collection d'ouvrage.\n",
    "\n",
    "A vous de trouver une façon efficace de la représenter sachant que la structure de données utilisées devra permettre de :\n",
    "\n",
    "* chercher un ouvrage en particulier grâce à son titre\n",
    "* trouver tous les ouvrages \n",
    "    * d'un type\n",
    "    * d'un auteur\n",
    "    * d'une année\n",
    "    * disponible\n",
    "    \n",
    "Dans un premier temps, pour faciliter les choses, on considèrera que notre bibliothèque ne contient pas plusieurs exemplaires du même ouvrage. \n",
    "Ainsi, la fonction `ajouter_ouvrage` n'ajoute un ouvrage que s'il n'existe pas déjà dans la collection (même titre).\n",
    "Les méthodes `emprunter_ouvrage` et `rendre_ouvrage` devront elles aussi vérifier que l'ouvrage existe dans la collection avant de faire quoi que ce soit.\n",
    "La méthode `rechercher_ouvrage` devra permettre de faire des recherches selon un type, un auteur, une année ou le status, elle retournera une liste des ouvrages satisfaisant aux critères.\n",
    "\n",
    "A vous de définir ces méthodes. Comme précédemment, il est conseillé de commencer par écrire les tests que votre classe devra satisfaire avant de commencer à écrire la classe bibliothèque en elle même."
   ]
  },
  {
   "cell_type": "code",
   "execution_count": null,
   "metadata": {},
   "outputs": [],
   "source": []
  },
  {
   "cell_type": "markdown",
   "metadata": {},
   "source": [
    "Ce Notebook est a été crée par David Da SILVA - 2020\n",
    "\n",
    "\n",
    "<a rel=\"license\" href=\"http://creativecommons.org/licenses/by-nc-sa/4.0/\"><img alt=\"Creative Commons License\" style=\"border-width:0\" src=\"https://i.creativecommons.org/l/by-nc-sa/4.0/88x31.png\" /></a><br />This work is licensed under a <a rel=\"license\" href=\"http://creativecommons.org/licenses/by-nc-sa/4.0/\">Creative Commons Attribution-NonCommercial-ShareAlike 4.0 International License</a>."
   ]
  }
 ],
 "metadata": {
  "kernelspec": {
   "display_name": "Python 3",
   "language": "python",
   "name": "python3"
  },
  "language_info": {
   "codemirror_mode": {
    "name": "ipython",
    "version": 3
   },
   "file_extension": ".py",
   "mimetype": "text/x-python",
   "name": "python",
   "nbconvert_exporter": "python",
   "pygments_lexer": "ipython3",
   "version": "3.8.5"
  },
  "latex_envs": {
   "LaTeX_envs_menu_present": true,
   "autoclose": true,
   "autocomplete": true,
   "bibliofile": "biblio.bib",
   "cite_by": "apalike",
   "current_citInitial": 1,
   "eqLabelWithNumbers": true,
   "eqNumInitial": 1,
   "hotkeys": {
    "equation": "Ctrl-E",
    "itemize": "Ctrl-I"
   },
   "labels_anchors": false,
   "latex_user_defs": false,
   "report_style_numbering": false,
   "user_envs_cfg": false
  },
  "toc": {
   "base_numbering": 1,
   "nav_menu": {},
   "number_sections": true,
   "sideBar": true,
   "skip_h1_title": true,
   "title_cell": "Table of Contents",
   "title_sidebar": "Contents",
   "toc_cell": false,
   "toc_position": {},
   "toc_section_display": true,
   "toc_window_display": false
  }
 },
 "nbformat": 4,
 "nbformat_minor": 1
}
