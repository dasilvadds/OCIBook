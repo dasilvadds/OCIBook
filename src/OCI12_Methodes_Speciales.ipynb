{
 "cells": [
  {
   "cell_type": "markdown",
   "metadata": {},
   "source": [
    "# Les méthodes spéciales\n",
    "---\n",
    "\n",
    "Les méthodes spéciales sont des méthodes d'instance que *Python* reconnaît et sait utiliser, dans certains contextes. Elles servent, par exemple, à indiquer à Python ce qu'il doit faire avec l'expression `mon_objet1 + mon_objet2`, ou encore `mon_objet[indice]`.  \n",
    "Ces méthodes contrôlent, entre autres, la façon dont un objet se crée et l'accès à ses attributs.\n",
    "\n",
    "## Création et destruction\n",
    "\n",
    "Les méthodes que nous allons voir permettent de travailler sur l'objet, elles interviennent au moment de le créer et au moment de le supprimer.  \n",
    "La première, c'est notre constructeur : `__init__`. Cette méthode prend un nombre variable d'arguments et permet de contrôler la création de nos attributs."
   ]
  },
  {
   "cell_type": "code",
   "execution_count": null,
   "metadata": {},
   "outputs": [],
   "source": [
    "class Voiture: # Définition de notre classe Voiture\n",
    "    \"\"\"Classe définissant une voiture caractérisée par :\n",
    "    - sa marque\n",
    "    - son modèle\n",
    "    - sa couleur\n",
    "    - son année de fabrication\"\"\"\n",
    "\n",
    "    def __init__(self,color,marque=\"Tesla\", model=\"S\", annee=2017): # Notre méthode constructeur \n",
    "        self.marque = marque\n",
    "        self.color = color\n",
    "        self.model = model\n",
    "        self.annee = annee\n",
    "        \n",
    "    def set_annee(self,yr):\n",
    "        if type(yr) == int :\n",
    "            self.annee = yr\n",
    "        else:\n",
    "            print(\"il faut un entier\")"
   ]
  },
  {
   "cell_type": "markdown",
   "metadata": {},
   "source": [
    "Pour instancier notre classe, c.-à-d., créer un objet, nous utilisons le nom de la classe et nous passons en paramètre les informations qu'attend le constructeur."
   ]
  },
  {
   "cell_type": "code",
   "execution_count": null,
   "metadata": {},
   "outputs": [],
   "source": [
    "mycar = Voiture(\"Bleu\")"
   ]
  },
  {
   "cell_type": "markdown",
   "metadata": {},
   "source": [
    "Comme vous le savez, à partir du moment où un objet est créé, on peut accéder à ses attributs grâce à :  `mon_objet.nom_attribut`  \n",
    "et exécuter ses méthodes grâce à : `mon_objet.nom_methode(…)`."
   ]
  },
  {
   "cell_type": "code",
   "execution_count": null,
   "metadata": {},
   "outputs": [],
   "source": [
    "mycar.set_annee(289)\n",
    "mycar.annee"
   ]
  },
  {
   "cell_type": "markdown",
   "metadata": {},
   "source": [
    "Il existe également une autre méthode,`__del__`, qui va être appelée au moment de la destruction de l'objet.  \n",
    "Un objet est détruit dans plusieurs cas : \n",
    "\n",
    "* quand vous voulez le supprimer explicitement, grâce au mot-clé `del` (`del mon_objet`).\n",
    "* si l'espace de noms contenant l'objet est détruit. Par exemple, si vous instanciez un objet dans le corps d'une fonction : à la fin de la fonction, la méthode `__del__` de l'objet sera appelée.\n",
    "* à la fin de l'exécution du programme."
   ]
  },
  {
   "cell_type": "code",
   "execution_count": null,
   "metadata": {},
   "outputs": [],
   "source": [
    "del(mycar)\n",
    "mycar.annee"
   ]
  },
  {
   "cell_type": "markdown",
   "metadata": {},
   "source": [
    "**Exercice 1**\n",
    "\n",
    "Rajouter un destructeur à la classe `Voiture` qui affichera un message d'adieu lorsque l'objet est détruit."
   ]
  },
  {
   "cell_type": "code",
   "execution_count": null,
   "metadata": {},
   "outputs": [],
   "source": []
  },
  {
   "cell_type": "markdown",
   "metadata": {},
   "source": [
    "Généralement il est inutile de contrôler la destruction d'un objet, *Python* le fait très bien.  \n",
    "Cependant, on peut parfois vouloir récupérer des informations d'état sur l'objet au moment de sa suppression.\n",
    "\n",
    "Les méthodes spéciales sont un moyen d'exécuter des actions personnalisées sur certains objets, dans un cas précis.  \n",
    "Si vous ne définissez pas de méthode spéciale, *Python* aura un comportement par défaut dans le contexte où cette méthode est appelée.  \n",
    "Écrire une méthode spéciale permet de modifier ce comportement par défaut. Dans l'absolu, vous n'êtes même pas obligés d'écrire un constructeur.\n",
    "\n",
    "## Représentation de l'objet\n",
    "\n",
    "Nous allons voir deux méthodes spéciales qui permettent de contrôler comment l'objet est représenté et affiché.  \n",
    "Quand on instancie des objets issus de nos propres classes, lorsqu'on les affiche directement dans l'interpréteur ou grâce à `print`, on obtient généralement quelque chose d'assez abscons :"
   ]
  },
  {
   "cell_type": "code",
   "execution_count": null,
   "metadata": {},
   "outputs": [],
   "source": [
    "mycar = Voiture(\"Indigo\")\n",
    "print(mycar)"
   ]
  },
  {
   "cell_type": "code",
   "execution_count": null,
   "metadata": {},
   "outputs": [],
   "source": [
    "mycar"
   ]
  },
  {
   "cell_type": "markdown",
   "metadata": {},
   "source": [
    "La première méthode permettant de remédier à cet état de fait est `__repr__` .  \n",
    "Elle affecte la façon dont est affiché l'objet quand on tape directement son nom.\n",
    "La méthode `__repr__` ne prend aucun paramètre (sauf, bien entendu, `self`) et renvoie la chaîne de caractères à afficher quand on entre l'objet directement dans l'interpréteur."
   ]
  },
  {
   "cell_type": "code",
   "execution_count": null,
   "metadata": {},
   "outputs": [],
   "source": [
    "class Voiture: \n",
    "\n",
    "    def __init__(self,color,marque=\"Tesla\", model=\"S\", annee=2017): # Notre méthode constructeur        \n",
    "        self.marque = marque\n",
    "        self.color = color\n",
    "        self.model = model\n",
    "        self.annee = annee\n",
    "        \n",
    "    def __repr__(self):\n",
    "        \"\"\"Quand on entre l'objet dans l'interpréteur\"\"\"\n",
    "        return \"La voiture est une {0} {1}, modèle {2} de {3}\".format(self.marque, self.color, self.model, self.annee)"
   ]
  },
  {
   "cell_type": "code",
   "execution_count": null,
   "metadata": {},
   "outputs": [],
   "source": [
    "mycar = Voiture(\"Orange\")"
   ]
  },
  {
   "cell_type": "code",
   "execution_count": null,
   "metadata": {},
   "outputs": [],
   "source": [
    "mycar"
   ]
  },
  {
   "cell_type": "markdown",
   "metadata": {},
   "source": [
    "On peut également obtenir cette chaîne grâce à la fonction `repr`, qui se contente d'appeler la méthode spéciale `__repr__` de l'objet passé en paramètre :"
   ]
  },
  {
   "cell_type": "code",
   "execution_count": null,
   "metadata": {},
   "outputs": [],
   "source": [
    "repr(mycar)"
   ]
  },
  {
   "cell_type": "markdown",
   "metadata": {},
   "source": [
    "La seconde méthode spéciale est `__str__`, spécialement utilisée pour afficher l'objet avec `print`.  \n",
    "La méthode `__str__` est également appelée si vous désirez convertir votre objet en chaîne avec le constructeur `str`.  \n",
    "Par défaut, si aucune méthode `__str__` n'est définie, *Python* appelle la méthode `__repr__` de l'objet.\n",
    "\n",
    "**Exercice 2**\n",
    "\n",
    "Complétez la classe `Voiture` avec la méthode spéciale `__str__` qui affichera l'instance d'une manière différente de `__repr__`."
   ]
  },
  {
   "cell_type": "code",
   "execution_count": null,
   "metadata": {},
   "outputs": [],
   "source": []
  },
  {
   "cell_type": "markdown",
   "metadata": {},
   "source": [
    "## Les méthodes de conteneur\n",
    "\n",
    "Nous allons commencer à travailler sur ce que l'on appelle la **surcharge d'opérateurs**.  \n",
    "Il s'agit assez simplement d'expliquer à *Python* quoi faire quand on utilise tel ou tel opérateur.  \n",
    "Pour commencer nous allons nous pencher sur les objets conteneurs. Les objets conteneurs sont ceux qui contiennent d'autres objets auxquels on peut accéder grâce à l'opérateur `[]`, comme les chaînes de caractères, les listes et les dictionnaires.\n",
    "\n",
    "Nous allons ici voir quatre méthodes spéciales qui interviennent quand on travaille sur les objets conteneurs.  \n",
    "Les trois premières méthodes que nous allons voir sont`__getitem__`, `__setitem__` et `__delitem__` .  \n",
    "Elles servent respectivement à définir ce qui doit être réalisé quand on écrit :\n",
    "\n",
    "* `objet[index]`\n",
    "* `objet[index] = valeur`\n",
    "* `del objet[index]`\n",
    "\n",
    "Pour cet exemple, nous allons voir une classe enveloppe de liste. \n",
    "Les classes enveloppes sont des classes qui ressemblent à d'autres classes mais n'en sont pas réellement...\n",
    "\n",
    "Nous allons créer une classe `Garage` qui va posséder un attribut auquel on ne devra pas accéder de l'extérieur de la classe, une liste que nous appellerons `_carlist` .  \n",
    "Quand on créera un objet de type `Garage` et qu'on voudra faire `objet[index]`, à l'intérieur de la classe on fera `self._carlist[index]` .  \n",
    "En réalité, notre classe fera semblant d'être une liste, elle réagira de la même manière, mais elle n'en sera pas réellement une."
   ]
  },
  {
   "cell_type": "code",
   "execution_count": null,
   "metadata": {},
   "outputs": [],
   "source": [
    "class Garage:\n",
    "    \"\"\"Classe enveloppe d'une liste\"\"\"\n",
    "    \n",
    "    def __init__(self):\n",
    "        \"\"\"Notre classe n'accepte aucun paramètre\"\"\"\n",
    "        self._carlist = []\n",
    "        \n",
    "    def garer(self, car):\n",
    "        \"\"\"Méthode qui gare une voiture dans notre garage \n",
    "        Elle permet en fait de remplir notre liste en utilisant la méthode append\"\"\"\n",
    "        self._carlist.append(car)\n",
    "        \n",
    "    def __getitem__(self, idx):\n",
    "        \"\"\"Cette méthode spéciale est appelée quand on fait objet[index]\n",
    "        Elle redirige vers self._carlist[index]\"\"\"\n",
    "        return self._carlist[idx]\n"
   ]
  },
  {
   "cell_type": "code",
   "execution_count": null,
   "metadata": {},
   "outputs": [],
   "source": [
    "car1 = Voiture(marque = \"Renault\", color=\"Bleue\", model=\"Kangoo\", annee=2008)\n",
    "car2 = Voiture(marque = \"Renault\", color=\"Blanche\", model=\"Scenic\", annee=2015)\n",
    "car3 = Voiture(marque = \"Renault\", color=\"Rouge\", model=\"Espace\", annee=1999)\n",
    "\n",
    "mygarage = Garage()\n",
    "mygarage.garer(car1)\n",
    "mygarage.garer(car2)\n",
    "mygarage.garer(car3)"
   ]
  },
  {
   "cell_type": "code",
   "execution_count": null,
   "metadata": {},
   "outputs": [],
   "source": [
    "mygarage[0]"
   ]
  },
  {
   "cell_type": "markdown",
   "metadata": {},
   "source": [
    "**Exercice 3**\n",
    "\n",
    "Complétez la classe `Garage` avec les méthodes spéciales `__setitem__` et `__delitem__` qui premettront de remplacer et supprimer une voiture dans le garage."
   ]
  },
  {
   "cell_type": "code",
   "execution_count": null,
   "metadata": {},
   "outputs": [],
   "source": []
  },
  {
   "cell_type": "markdown",
   "metadata": {},
   "source": [
    "### La méthode spéciale derrière le mot-clé `in`\n",
    "\n",
    "Il existe une quatrième méthode, appelée `__contains__`, qui est utilisée quand on souhaite savoir si un objet se trouve dans un conteneur.\n",
    "\n",
    "Exemple classique :"
   ]
  },
  {
   "cell_type": "code",
   "execution_count": null,
   "metadata": {},
   "outputs": [],
   "source": [
    "ma_liste = [1, 2, 3, 4, 5]\n",
    "8 in ma_liste # Revient au même que ...\n",
    "ma_liste.__contains__(8)"
   ]
  },
  {
   "cell_type": "markdown",
   "metadata": {},
   "source": [
    "Afin que notre classe enveloppe puisse utiliser le mot-clé `in` comme une liste, il faut redéfinir cette méthode `__contains__` qui prend en paramètre `self` et l'objet qui nous intéresse.  \n",
    "Si l'objet est dans le conteneur, on doit renvoyer `True`; sinon `False`\n",
    "\n",
    "**Exercice 4**\n",
    "\n",
    "Implémentez la méthode `__contains__` pour la classe `Garage`."
   ]
  },
  {
   "cell_type": "code",
   "execution_count": null,
   "metadata": {},
   "outputs": [],
   "source": []
  },
  {
   "cell_type": "markdown",
   "metadata": {},
   "source": [
    "### Connaître la taille d'un conteneur\n",
    "\n",
    "Il existe enfin une méthode spéciale `__len__`, appelée quand on souhaite connaître la taille d'un objet conteneur, grâce à la fonction `len`.\n",
    "\n",
    "`len(objet)` équivaut à `objet.__len__()`. Cette méthode spéciale ne prend aucun paramètre et renvoie une taille sous la forme d'un entier. Là encore, je vous laisse faire l'essai.\n",
    "\n",
    "**Exercice 5**\n",
    "\n",
    "Implémentez la méthode `__len__` pour la classe `Garage`."
   ]
  },
  {
   "cell_type": "code",
   "execution_count": null,
   "metadata": {},
   "outputs": [],
   "source": []
  },
  {
   "cell_type": "markdown",
   "metadata": {},
   "source": [
    "## Les méthodes mathématiques\n",
    "\n",
    "Continuons avec les méthodes spéciales permettant la surcharge d'opérateurs mathématiques, comme `+ ; - ; * ; /`.\n",
    "\n",
    "\n",
    "Pour cette section, nous allons utiliser un nouvel exemple, une classe capable de contenir des durées. Ces durées seront contenues sous la forme d'un nombre de minutes et un nombre de secondes.  \n",
    "On définit simplement deux attributs contenant le nombre de minutes et le nombre de secondes, ainsi qu'une méthode pour afficher tout cela un peu mieux."
   ]
  },
  {
   "cell_type": "code",
   "execution_count": null,
   "metadata": {},
   "outputs": [],
   "source": [
    "class Duree:\n",
    "    \"\"\"Classe contenant des durées sous la forme d'un nombre de minutes\n",
    "    et de secondes\"\"\"\n",
    "    \n",
    "    def __init__(self, min=0, sec=0):\n",
    "        \"\"\"Constructeur de la classe\"\"\"\n",
    "        self.min = min # Nombre de minutes\n",
    "        self.sec = sec # Nombre de secondes\n",
    "    def __str__(self):\n",
    "        \"\"\"Affichage un peu plus joli de nos objets\"\"\"\n",
    "        return f\"{self.min:02}:{self.sec:02}\"\n",
    "        "
   ]
  },
  {
   "cell_type": "code",
   "execution_count": null,
   "metadata": {},
   "outputs": [],
   "source": [
    "d1 = Duree(3, 5)\n",
    "print(d1)"
   ]
  },
  {
   "cell_type": "markdown",
   "metadata": {},
   "source": [
    "Nous souhaiterions ajouter des secondes à notre durée en écrivant simplement :"
   ]
  },
  {
   "cell_type": "code",
   "execution_count": null,
   "metadata": {},
   "outputs": [],
   "source": [
    "d1 + 4"
   ]
  },
  {
   "cell_type": "markdown",
   "metadata": {},
   "source": [
    "Python ne sait pas comment additionner un type `Duree` et un `int`. Il ne sait même pas non plus comment ajouter deux durées, il faut lui le définir.\n",
    "\n",
    "La méthode spéciale à redéfinir est `__add__`, elle prend en paramètre l'objet que l'on souhaite ajouter. Voici deux lignes de code qui reviennent au même :  \n",
    "\n",
    "`d1 + 4`  \n",
    "`d1.__add__(4)` \n",
    "\n",
    "Lorsque l'on utilisez le symbole `+` c'est en fait la méthode `__add__` de l'objet `Duree` qui est appelée.  \n",
    "Elle prend en paramètre l'objet que l'on souhaite ajouter, peu importe le type de l'objet en question et elle doit renvoyer un objet exploitable, ici il serait plus logique que ce soit une nouvelle durée.\n",
    "\n",
    "Pour réaliser différentes actions en fonction du type de l'objet à ajouter, il faut tester le résultat de `type(objet_a_ajouter)`."
   ]
  },
  {
   "cell_type": "code",
   "execution_count": null,
   "metadata": {},
   "outputs": [],
   "source": [
    "class Duree:\n",
    "    \"\"\"Classe contenant des durées sous la forme d'un nombre de minutes\n",
    "    et de secondes\"\"\"\n",
    "    \n",
    "    def __init__(self, min=0, sec=0):\n",
    "        \"\"\"Constructeur de la classe\"\"\"\n",
    "        self.min = min # Nombre de minutes\n",
    "        self.sec = sec # Nombre de secondes\n",
    "    def __str__(self):\n",
    "        \"\"\"Affichage un peu plus joli de nos objets\"\"\"\n",
    "        return f\"{self.min:02}:{self.sec:02}\"\n",
    "    \n",
    "    def __add__(self, objet_a_ajouter):\n",
    "        \"\"\"Pour l'instant, l'objet à ajouter est un entier = le nombre de secondes\"\"\"\n",
    "        nouvelle_duree = Duree()\n",
    "        # On va copier self dans l'objet créé pour avoir la même durée\n",
    "        nouvelle_duree.min = self.min\n",
    "        nouvelle_duree.sec = self.sec\n",
    "        # On ajoute la durée\n",
    "        nouvelle_duree.sec += objet_a_ajouter\n",
    "        # Si le nombre de secondes >= 60\n",
    "        if nouvelle_duree.sec >= 60:\n",
    "            nouvelle_duree.min += nouvelle_duree.sec // 60\n",
    "            nouvelle_duree.sec = nouvelle_duree.sec % 60\n",
    "        # On renvoie la nouvelle durée\n",
    "        return nouvelle_duree"
   ]
  },
  {
   "cell_type": "code",
   "execution_count": null,
   "metadata": {},
   "outputs": [],
   "source": [
    "d1 = Duree(12, 8)\n",
    "print(d1)"
   ]
  },
  {
   "cell_type": "code",
   "execution_count": null,
   "metadata": {},
   "outputs": [],
   "source": [
    "d2 = d1 + 54 # d1 + 54 secondes\n",
    "print(d2)"
   ]
  },
  {
   "cell_type": "markdown",
   "metadata": {},
   "source": [
    "Pour mieux comprendre, vous pouvez remplacer  \n",
    "`d2 = d1 + 54`  \n",
    "par  \n",
    "`d2 = d1.__add__(54)`  \n",
    "\n",
    "Cela revient au même, ce remplacement ne sert qu'à bien comprendre le mécanisme. Il va de soi que ces méthodes spéciales ne sont pas à appeler directement depuis l'extérieur de la classe, il faut utiliser les opérateurs."
   ]
  },
  {
   "cell_type": "code",
   "execution_count": null,
   "metadata": {},
   "outputs": [],
   "source": []
  },
  {
   "cell_type": "markdown",
   "metadata": {},
   "source": [
    "Sur le même modèle, il existe les méthodes :\n",
    "\n",
    "* `__sub__` : surcharge de l'opérateur -\n",
    "* `__mul__` : surcharge de l'opérateur *\n",
    "* `__div__` : surcharge de l'opérateur /\n",
    "* `__floordiv__` : surcharge de l'opérateur // (division entière)\n",
    "* `__mod__` : surcharge de l'opérateur % (modulo)\n",
    "* `__pow__` : surcharge de l'opérateur `**` (puissance) ;\n",
    "\n",
    "Il y en a d'autres que vous pouvez trouver dans la [documentation de Python](https://docs.python.org/2/library/operator.html).\n",
    "\n",
    "**Exercice 6**\n",
    "\n",
    "Complétez la classe `Duree` pour pouvoir utiliser les opérateur afin : \n",
    "\n",
    "* d'additionner 2 durées\n",
    "* de soustraire 2 durées\n",
    "* de multiplier une durée par un entier\n",
    "* de diviser une durée par un entier"
   ]
  },
  {
   "cell_type": "code",
   "execution_count": null,
   "metadata": {},
   "outputs": [],
   "source": []
  },
  {
   "cell_type": "markdown",
   "metadata": {},
   "source": [
    "### Tout dépend du sens\n",
    "\n",
    "Vous l'avez peut-être remarqué, mais écrire `objet1 + objet2` ne revient pas au même qu'écrire `objet2 + objet1` si les deux objets ont des types différents.  \n",
    "En effet, suivant le cas, c'est la méthode `__add__` de `objet1` ou `objet2` qui est appelée.\n",
    "\n",
    "Cela signifie que, lorsqu'on utilise la classe `Duree`, si on écrit `d1 + 4` cela fonctionne, alors que `4 + d1`ne marche pas.  \n",
    "En effet, la classe `int` ne sait pas quoi faire de l'objet `Duree`.\n",
    "\n",
    "Il existe cependant une panoplie de méthodes spéciales pour faire le travail de `__add__` si vous écrivez l'opération dans l'autre sens. Il suffit de préfixer le nom des méthodes spéciales par un **r**."
   ]
  },
  {
   "cell_type": "code",
   "execution_count": null,
   "metadata": {},
   "outputs": [],
   "source": [
    "class Duree:\n",
    "    \"\"\"Classe contenant des durées sous la forme d'un nombre de minutes\n",
    "    et de secondes\"\"\"\n",
    "    \n",
    "    def __init__(self, min=0, sec=0):\n",
    "        \"\"\"Constructeur de la classe\"\"\"\n",
    "        self.min = min # Nombre de minutes\n",
    "        self.sec = sec # Nombre de secondes\n",
    "        \n",
    "    def __str__(self):\n",
    "        \"\"\"Affichage un peu plus joli de nos objets\"\"\"\n",
    "        return f\"{self.min:02}:{self.sec:02}\"\n",
    "    \n",
    "    def __add__(self, objet_a_ajouter):\n",
    "        \"\"\"L'objet à ajouter est un entier, le nombre de secondes\"\"\"\n",
    "        nouvelle_duree = Duree()\n",
    "        # On va copier self dans l'objet créé pour avoir la même durée\n",
    "        nouvelle_duree.min = self.min\n",
    "        nouvelle_duree.sec = self.sec\n",
    "        # On ajoute la durée\n",
    "        nouvelle_duree.sec += objet_a_ajouter\n",
    "        # Si le nombre de secondes >= 60\n",
    "        if nouvelle_duree.sec >= 60:\n",
    "            nouvelle_duree.min += nouvelle_duree.sec // 60\n",
    "            nouvelle_duree.sec = nouvelle_duree.sec % 60\n",
    "        # On renvoie la nouvelle durée\n",
    "        return nouvelle_duree\n",
    "    \n",
    "    def __radd__(self, objet_a_ajouter):\n",
    "        \"\"\"Cette méthode est appelée si on écrit 4 + objet et que\n",
    "        le premier objet (4 dans cet exemple) ne sait pas comment ajouter\n",
    "        le second. On se contente de rediriger sur __add__ puisque,\n",
    "        ici, cela revient au même : l'opération doit avoir le même résultat,\n",
    "        posée dans un sens ou dans l'autre\"\"\"\n",
    "        \n",
    "        return self + objet_a_ajouter"
   ]
  },
  {
   "cell_type": "markdown",
   "metadata": {},
   "source": [
    "À présent, on peut écrire `4 + d1`, cela revient au même que `d1 + 4`."
   ]
  },
  {
   "cell_type": "code",
   "execution_count": null,
   "metadata": {},
   "outputs": [],
   "source": [
    "d1 = Duree(12, 8)\n",
    "d2 = d1 + 54\n",
    "print(d2)"
   ]
  },
  {
   "cell_type": "code",
   "execution_count": null,
   "metadata": {},
   "outputs": [],
   "source": [
    "d3 = 54 + d1\n",
    "print(d3)"
   ]
  },
  {
   "cell_type": "markdown",
   "metadata": {},
   "source": [
    "### D'autres opérateurs\n",
    "\n",
    "Il est également possible de surcharger les opérateurs `+=`, `-=`, etc.  \n",
    "On préfixe cette fois-ci les noms de méthode que nous avons vus par un **i**.\n",
    "\n",
    "**Exercice 7**\n",
    "\n",
    "Implémentez les fonctions `__iadd__` et `__isub__` pour la classe `Duree`."
   ]
  },
  {
   "cell_type": "code",
   "execution_count": null,
   "metadata": {},
   "outputs": [],
   "source": []
  },
  {
   "cell_type": "markdown",
   "metadata": {},
   "source": [
    "### Les méthodes de comparaison\n",
    "\n",
    "Pour finir, nous allons voir la surcharge des opérateurs de comparaison : `== ; != ; < ; > ; <= ; >=`.\n",
    "\n",
    "Ces méthodes sont appelées si vous tentez de comparer deux objets entre eux.\n",
    "Donc si vous voulez comparer des durées il va falloir redéfinir les méthodes spéciales suivantes :\n",
    "\n",
    "Opérateur | Nom méthode\n",
    ":--: | :--:\n",
    "< | `__lt__`\n",
    "> | `__gt__`\n",
    "== | `__eq__`\n",
    "<= | `__le__`\n",
    ">= | `__ge__`\n",
    "!= | `__ne__`\n",
    "\n",
    "Elles devront prendre en paramètre l'objet à comparer à `self`, et devront renvoyer un booléen.\n",
    "\n",
    "**Exercice 8**\n",
    "\n",
    "Implémentez **toutes** les méthodes spéciales premettant de comparer des durées avec les opérateurs du tableau ci dessus."
   ]
  },
  {
   "cell_type": "code",
   "execution_count": null,
   "metadata": {},
   "outputs": [],
   "source": []
  },
  {
   "cell_type": "markdown",
   "metadata": {},
   "source": [
    "Ce Notebook est une adaptation de la page de Vincent Le Goff sur [OpenClassRoom](https://openclassrooms.com/fr/courses/235344-apprenez-a-programmer-en-python/233046-les-methodes-speciales) par David Da SILVA - 2020\n",
    "\n",
    "<a rel=\"license\" href=\"http://creativecommons.org/licenses/by-nc-sa/4.0/\"><img alt=\"Creative Commons License\" style=\"border-width:0\" src=\"https://i.creativecommons.org/l/by-nc-sa/4.0/88x31.png\" /></a><br />This work is licensed under a <a rel=\"license\" href=\"http://creativecommons.org/licenses/by-nc-sa/4.0/\">Creative Commons Attribution-NonCommercial-ShareAlike 4.0 International License</a>."
   ]
  }
 ],
 "metadata": {
  "kernelspec": {
   "display_name": "Python 3",
   "language": "python",
   "name": "python3"
  },
  "language_info": {
   "codemirror_mode": {
    "name": "ipython",
    "version": 3
   },
   "file_extension": ".py",
   "mimetype": "text/x-python",
   "name": "python",
   "nbconvert_exporter": "python",
   "pygments_lexer": "ipython3",
   "version": "3.8.5"
  },
  "latex_envs": {
   "LaTeX_envs_menu_present": true,
   "autoclose": true,
   "autocomplete": true,
   "bibliofile": "biblio.bib",
   "cite_by": "apalike",
   "current_citInitial": 1,
   "eqLabelWithNumbers": true,
   "eqNumInitial": 1,
   "hotkeys": {
    "equation": "Ctrl-E",
    "itemize": "Ctrl-I"
   },
   "labels_anchors": false,
   "latex_user_defs": false,
   "report_style_numbering": false,
   "user_envs_cfg": false
  },
  "toc": {
   "base_numbering": 1,
   "nav_menu": {},
   "number_sections": true,
   "sideBar": true,
   "skip_h1_title": true,
   "title_cell": "Table of Contents",
   "title_sidebar": "Contents",
   "toc_cell": false,
   "toc_position": {},
   "toc_section_display": true,
   "toc_window_display": false
  }
 },
 "nbformat": 4,
 "nbformat_minor": 1
}
