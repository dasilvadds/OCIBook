{
 "cells": [
  {
   "cell_type": "markdown",
   "metadata": {},
   "source": [
    "# Training test - OCI 2019-20\n",
    "---\n",
    "\n",
    "Répondez aux questions ci-dessous directement dans le notebook que vous aurez enregistré en *Test01_VotreNom*.\n",
    "\n",
    "Les réponses sous forme de texte se font dans des cellules de type *Markdown*, celles sous forme de code dans des cellules de *Code*.\n",
    "\n",
    "Une fois terminé vous déposerez votre fichier (.ipynb) dans `DossierCommuns/OcI/ARemettre`."
   ]
  },
  {
   "cell_type": "markdown",
   "metadata": {},
   "source": [
    "## Partie 1 (8 pts)\n",
    "\n",
    "### Question 1\n",
    "\n",
    "Le module `math` contient la fonction `radians` qui converti en radians un angle exprimé en degrées. Modifiez le code suivant pour qu'il fonctionne."
   ]
  },
  {
   "cell_type": "code",
   "execution_count": null,
   "metadata": {},
   "outputs": [],
   "source": [
    "radians(45)"
   ]
  },
  {
   "cell_type": "markdown",
   "metadata": {},
   "source": [
    "### Question 2\n",
    "Comment peut-on afficher toutes les fonctions définies par le module `random` ?"
   ]
  },
  {
   "cell_type": "code",
   "execution_count": null,
   "metadata": {},
   "outputs": [],
   "source": []
  },
  {
   "cell_type": "markdown",
   "metadata": {},
   "source": [
    "### Question 3\n",
    "\n",
    "Comment faites-vous pour savoir comment utiliser la fonction `pow` définie par le module `math` ?"
   ]
  },
  {
   "cell_type": "markdown",
   "metadata": {},
   "source": [
    "**Votre réponse ici**"
   ]
  },
  {
   "cell_type": "markdown",
   "metadata": {},
   "source": [
    "### Question 4\n",
    "Donnez un exemple de l'utilisation de cette fonction `pow`."
   ]
  },
  {
   "cell_type": "markdown",
   "metadata": {},
   "source": [
    "**Votre réponse ici**"
   ]
  },
  {
   "cell_type": "markdown",
   "metadata": {},
   "source": [
    "### Question 5\n",
    "\n",
    "Affectez à la variable `toto` la liste des entiers pairs de 128 à 96 inclus en ordre décroissant. "
   ]
  },
  {
   "cell_type": "code",
   "execution_count": null,
   "metadata": {},
   "outputs": [],
   "source": []
  },
  {
   "cell_type": "markdown",
   "metadata": {},
   "source": [
    "### Question 6\n",
    "En utilisant la fonction `arange` du module `numpy`, générez la liste des valeurs de 1 à 2 avec un pas de 0.04 ( c-à-d. [1,  1.04,  1.08,  1.12,  1.16,  1.2, ..., 2] )."
   ]
  },
  {
   "cell_type": "code",
   "execution_count": null,
   "metadata": {},
   "outputs": [],
   "source": []
  },
  {
   "cell_type": "markdown",
   "metadata": {},
   "source": [
    "### Question 7\n",
    "A l'aide de liste imbriquées, représentez la structure suivante:\n",
    "$A=\\begin{pmatrix} & &2&1& & \\\\ &6&5&4&3& \\\\ 12&11&10&9&8&7 \\\\ &16&15&14&13& \\\\ & &18&17& & \\end{pmatrix}$.\n",
    "\n",
    "- Affectez à la variable x l'élément de $A$ qui se trouve à la postion 2,2\n",
    "- Remplacez dans A la valeur 5 par 21"
   ]
  },
  {
   "cell_type": "code",
   "execution_count": null,
   "metadata": {},
   "outputs": [],
   "source": []
  },
  {
   "cell_type": "markdown",
   "metadata": {},
   "source": [
    "## Partie 2 (12 pts)\n",
    "\n",
    "Créez la fonction `nblettres` qui compte le nombre de lettres **différentes** dans une phrase.\n",
    "\n",
    "- La fonction prend en paramètre une chaîne de caractères composée uniquement de lettres et d'espaces sans impératif de casse.\n",
    "- La fonction ne fait pas de différence entre les majuscules et les minuscules, i.e. **`A`** et **`a`** ne sont pas des lettres différentes.\n",
    "- La fonction affichera un message spécifiant le nombre de lettres différentes présentes dans la chaîne de caractères.\n",
    "- La fonction devra retourner la liste des lettres différentes.\n",
    "- La fonction devra contenir un `docstring` explicite.\n",
    "\n",
    "*__Aide 1__ : commencez par faire une fonction qui marche lorsque la chaîne de caractères passée en paramètre ne comporte pas de majuscule.*\n",
    "\n",
    "*__Aide 2__ : pour ne pas faire de différence entre les majuscules et les minuscules, on peut commencer par transformer toutes les majuscules en minuscule à l'aide de la fonction `lower()` qui s'applique à une chaîne de caractères.*"
   ]
  },
  {
   "cell_type": "code",
   "execution_count": 1,
   "metadata": {},
   "outputs": [
    {
     "name": "stdout",
     "output_type": "stream",
     "text": [
      "Help on method_descriptor:\n",
      "\n",
      "lower(self, /)\n",
      "    Return a copy of the string converted to lowercase.\n",
      "\n"
     ]
    }
   ],
   "source": [
    "help(str.lower)"
   ]
  },
  {
   "cell_type": "code",
   "execution_count": null,
   "metadata": {},
   "outputs": [],
   "source": []
  },
  {
   "cell_type": "markdown",
   "metadata": {},
   "source": [
    "Utiliser votre fonction avec les 2 chaines de caractères suivantes :\n",
    "\n",
    "1. supercalifragilisticexpialidocious\n",
    "2. The quick brown fox jumps over the lazy dog"
   ]
  },
  {
   "cell_type": "code",
   "execution_count": null,
   "metadata": {},
   "outputs": [],
   "source": []
  },
  {
   "cell_type": "markdown",
   "metadata": {},
   "source": [
    "## Partie 3 ( 5 pts)\n",
    "\n",
    "La fonction ci-dessous prend en paramètre une chaine de caractère composée uniquement de lettres et d'espaces sans impératif de casse."
   ]
  },
  {
   "cell_type": "code",
   "execution_count": null,
   "metadata": {},
   "outputs": [],
   "source": [
    "def unknown(x):\n",
    "    lst = []\n",
    "    for c in x :\n",
    "        if c != ' ':\n",
    "            lst.append(c)\n",
    "    while len(lst) > 1:\n",
    "        if lst[0] == lst[-1]:\n",
    "            lst = lst[1:-1]\n",
    "        else:\n",
    "            return False\n",
    "    return True"
   ]
  },
  {
   "cell_type": "markdown",
   "metadata": {},
   "source": [
    "1. Quelle est sa signature ?\n",
    "2. Que retourne-t-elle ?\n",
    "3. A quoi sert-elle ?\n",
    "4. Donnez des exemples d'utilisation qui donne des résultats différents"
   ]
  },
  {
   "cell_type": "markdown",
   "metadata": {},
   "source": [
    "**Vos réponses ici**"
   ]
  },
  {
   "cell_type": "markdown",
   "metadata": {},
   "source": [
    "Ce Notebook est a été crée par David Da SILVA - 2020\n",
    "\n",
    "<a rel=\"license\" href=\"http://creativecommons.org/licenses/by-nc-sa/4.0/\"><img alt=\"Creative Commons License\" style=\"border-width:0\" src=\"https://i.creativecommons.org/l/by-nc-sa/4.0/88x31.png\" /></a><br />This work is licensed under a <a rel=\"license\" href=\"http://creativecommons.org/licenses/by-nc-sa/4.0/\">Creative Commons Attribution-NonCommercial-ShareAlike 4.0 International License</a>."
   ]
  }
 ],
 "metadata": {
  "kernelspec": {
   "display_name": "Python 3",
   "language": "python",
   "name": "python3"
  },
  "language_info": {
   "codemirror_mode": {
    "name": "ipython",
    "version": 3
   },
   "file_extension": ".py",
   "mimetype": "text/x-python",
   "name": "python",
   "nbconvert_exporter": "python",
   "pygments_lexer": "ipython3",
   "version": "3.8.3"
  },
  "latex_envs": {
   "LaTeX_envs_menu_present": true,
   "autoclose": true,
   "autocomplete": true,
   "bibliofile": "biblio.bib",
   "cite_by": "apalike",
   "current_citInitial": 1,
   "eqLabelWithNumbers": true,
   "eqNumInitial": 1,
   "hotkeys": {
    "equation": "Ctrl-E",
    "itemize": "Ctrl-I"
   },
   "labels_anchors": false,
   "latex_user_defs": false,
   "report_style_numbering": false,
   "user_envs_cfg": false
  },
  "toc": {
   "base_numbering": 1,
   "nav_menu": {},
   "number_sections": true,
   "sideBar": true,
   "skip_h1_title": true,
   "title_cell": "Table of Contents",
   "title_sidebar": "Contents",
   "toc_cell": false,
   "toc_position": {},
   "toc_section_display": true,
   "toc_window_display": false
  }
 },
 "nbformat": 4,
 "nbformat_minor": 4
}
