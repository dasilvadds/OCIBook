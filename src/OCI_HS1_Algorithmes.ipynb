{
 "cells": [
  {
   "cell_type": "markdown",
   "metadata": {},
   "source": [
    "![Mohammed al-Khwarizmi](img/al-khwarizmi.jpg)\n",
    "\n",
    "\n",
    "# Mohammed al-Khwarizmi\n",
    "---\n",
    "\n",
    "Le mot français « algorithme » provient du nom d'un savant arabe du $IX^{ème}$ siècle : **Mohammed al-Khwarizmi** (Khiva vers 788 — vers 850 Bagdad) qui fut l'un des inventeurs de l'algèbre et du système décimal.\n",
    "C'est également grâce à lui que se diffuseront les chiffres arabes en Occident.\n",
    "\n",
    "Le premier ouvrage *al-Kitâb al-mukh- tasar fâ hisâb al-jabr w'al-muqâbala*, le Livre de l'explication du calcul de la remise en place et de la simplification, a donné son nom à l'algèbre.\n",
    "\n",
    "Al-Khwarizmi y présente une exposition complète de la résolution des équations du premier et du second degré. L'inconnue, que nous notons `x`, s'appelle la *racine* et, comme il a éliminé tout nombre négatif, il distingue six cas et les traite sur des exemples qui se généralisent sans difficulté pour toute équation de même type. \n",
    "\n",
    "Il considère ainsi :\n",
    "- Carrés égaux aux racines, c'est-à-dire de la forme $ax^2 = bx$ ;\n",
    "- Carrés égaux à un nombre, soit $ax^2 = c$ ;\n",
    "- Racines égales à un nombre, soit $bx = c$ ;\n",
    "- Carrés et racines égaux à un nombre, soit $ax^2 + bx = c$ ;\n",
    "- Carrés et nombre égaux aux racines, soit $ax^2 + c = 6x$ ;\n",
    "- Racines et nombres égaux aux carrés, soit $bx + c = ax^2$;\n",
    "\n",
    "où `a`,`b` et `c` désignent des nombres positifs.\n",
    "\n",
    "Contrairement aux mathématicien grecs, al-Khwarizmi détaille des méthodes effectives de résolution d'équations.\n",
    "\n",
    "Historiquement liée au calcul, la notion d'algorithme s'est progressivement étendue à la manipulation de différents objets, des textes et des images par exemple. \n",
    "\n",
    "# Les algorithmes\n",
    "\n",
    "**Un algorithme est simplement une méthode qui sert à résoudre un problème en un nombre fini d'étapes** : chercher un mot dans le dictionnaire, classer des mots par ordre alphabétique, classer des nombres par ordre de grandeur, chercher le meilleur parcours possible sur une carte, trouver une racine carrée, construire des listes de nombres premiers, etc. \n",
    "\n",
    "On peut décrire un algorithme comme étant une suite d'actions à accomplir séquentiellement, dans un ordre fixé.\n",
    "\n",
    "## Définitions :  Algorithme ≠ Programme \n",
    "\n",
    "### Algorithme\n",
    "\n",
    "Un algorithme est la description abstraite des étapes *simples* conduisant à la résolution d'un problème. C'est la partie conceptuelle d'un programme.\n",
    "\n",
    "### Programme\n",
    "\n",
    "Un programme est l'implémentation d'un algorithme dans un langage donné et sur un système particulier.\n",
    "\n",
    "### Exemple\n",
    "\n",
    "Décrivez ci-dessous un algorithme pour trouver le maximum d'une *longue* liste de nombres entiers :  \n",
    "L = (17, 23218, 543, 7, 1984, 2000000, 21, ... , 3, 666, 69, 0, 42)  "
   ]
  },
  {
   "cell_type": "markdown",
   "metadata": {},
   "source": [
    "_Ecrire votre algorithme ici_"
   ]
  },
  {
   "cell_type": "markdown",
   "metadata": {},
   "source": [
    "## Ingrédients de base des algorithmes en pseudo-code\n",
    "\n",
    "### Données\n",
    "\n",
    "Elles peuvent être de 3 types:\n",
    "\n",
    "1. entrées\n",
    "2. sorties\n",
    "3. internes\n",
    "\n",
    "### Instructions\n",
    "\n",
    "#### Affectations\n",
    "\n",
    "Typiquement mettre une valeur ou un résultat dans une variable  \n",
    "$x \\leftarrow 4$  \n",
    "$ \\Delta \\leftarrow b^2 - 4ac$\n",
    "\n",
    "#### Instructions de contrôle\n",
    "\n",
    "1. branchements conditionnels ou test : *si .... alors .... sinon*\n",
    "2. itérations ou boucles : *pour .. allant de .. à ..* ; *pour tous les éléments de ... répéter ...*\n",
    "3. boucles conditionnelles : *tant que (test est vrai) répéter ...*\n",
    "\n",
    "#### Exemple : Que fait cet algorithme ?"
   ]
  },
  {
   "cell_type": "markdown",
   "metadata": {
    "solution2": "hidden",
    "solution2_first": true
   },
   "source": [
    "**Algorithme**  \n",
    "entrée : N entier positif  \n",
    "sortie : ??  \n",
    "$i \\leftarrow 0 $  \n",
    "**Tant que** $2^i \\leq N $  \n",
    "$\\quad$ $ i \\leftarrow i + 1 $  \n",
    "**Sortir :** i"
   ]
  },
  {
   "cell_type": "markdown",
   "metadata": {
    "solution2": "hidden"
   },
   "source": [
    "La sortie de cette algorithme représente le nombre de bits nécessaires pour représenter N en binaire"
   ]
  },
  {
   "cell_type": "markdown",
   "metadata": {},
   "source": [
    "### Que font les algorithmes suivants"
   ]
  },
  {
   "cell_type": "markdown",
   "metadata": {},
   "source": [
    "#### Algorithme 1  \n",
    "entrée : a, b deux entiers naturels non nuls  \n",
    "sortie : ??  \n",
    "$x \\leftarrow a$  \n",
    "$y \\leftarrow b $  \n",
    "$z \\leftarrow 0 $  \n",
    "__Tant que__ $y \\geq 1 $  \n",
    "$\\quad$ __Si__ y est pair  \n",
    "$\\qquad$ $x \\leftarrow 2x $  \n",
    "$\\qquad$ $y \\leftarrow y / 2$  \n",
    "$\\quad$__Sinon__  \n",
    "$\\qquad$ $z \\leftarrow z + x $  \n",
    "$\\qquad$ $y \\leftarrow y-1 $  \n",
    "__Sortir :__ z"
   ]
  },
  {
   "cell_type": "markdown",
   "metadata": {},
   "source": [
    "Algorithme 1 : \n",
    "\n",
    "_Note :_ Les algorithmes existent depuis bien avant les ordinateurs! En particulier, l’algorithme ci-dessus nous vient de l’Egypte ancienne."
   ]
  },
  {
   "cell_type": "markdown",
   "metadata": {},
   "source": [
    "#### Algorithme 2  \n",
    "entrée : n entier naturel  \n",
    "sortie : ??  \n",
    "$m \\leftarrow n$  \n",
    "$i \\leftarrow 1 $  \n",
    "**Tant que** $m \\ge 0 $    \n",
    "$\\quad$ $i \\leftarrow 2i $  \n",
    "$\\quad$ $m \\leftarrow m - 1$  \n",
    "**Sortir :** i"
   ]
  },
  {
   "cell_type": "markdown",
   "metadata": {},
   "source": [
    "Algorithme 2 : "
   ]
  },
  {
   "cell_type": "markdown",
   "metadata": {},
   "source": [
    "#### Algorithme 3  \n",
    "entrée : a, b deux entiers naturels non nuls  \n",
    "sortie : ??  \n",
    "$s \\leftarrow 0$  \n",
    "**Si** $a \\le b$  \n",
    "$\\quad$ **Pour** i allant de $1 \\text{ à } a$  \n",
    "$\\qquad$ $s \\leftarrow s + b $  \n",
    "**Sinon**  \n",
    "$\\quad$ **Pour** i allant de $1 \\text{ à } b$  \n",
    "$\\qquad$ $s \\leftarrow s + a $  \n",
    "**Sortir :** s"
   ]
  },
  {
   "cell_type": "markdown",
   "metadata": {},
   "source": [
    "Algorithme 3 : "
   ]
  },
  {
   "cell_type": "markdown",
   "metadata": {},
   "source": [
    "### Créations d'algorithme\n",
    "\n",
    "Pour ces exercices, la syntax n'est pas primordiale, ce qui est important est de s'assurer que votre algorithme possède des entrées et des sorties, que les différentes étapes sont des opérations *simples* qui se suivent dans le bon ordre afin d'obtenir le résultat. Assurez-vous surtout que votre algorithme s'arrête bien !\n",
    "\n",
    "#### Somme de multiples\n",
    "\n",
    "Écrivez un algorithme qui calcule la somme des *n* premiers nombres entiers faisant partie de la liste de multiple de 5 et de 7.  \n",
    "Pour n = 5, cette somme vaut 5+7+10+14+15 = 51."
   ]
  },
  {
   "cell_type": "markdown",
   "metadata": {},
   "source": [
    "**Somme de multiples** : votre algorithme ici"
   ]
  },
  {
   "cell_type": "markdown",
   "metadata": {},
   "source": [
    "#### Comptage de mot\n",
    "\n",
    "Soit A une chaîne de caractères formée uniquement de mots et d’espaces (uniques) entre les mots, et soit n sa longueur (exemple: _A_ =\"Le silence des agneaux\" et donc _n_ = 22). Écrivez un algorithme dont les entrées sont _A_ et _n_, et dont la sortie est le nombre de mots de la chaîne (4 dans l’exemple)."
   ]
  },
  {
   "cell_type": "markdown",
   "metadata": {},
   "source": [
    "**Comptage de mot** : votre algorithme ici"
   ]
  },
  {
   "cell_type": "markdown",
   "metadata": {},
   "source": [
    "#### Les deux plus grands\n",
    "\n",
    "Soit _L_ une liste de nombres entiers positifs de taille _n_ (exemple: _L_ = {3,43,17,22,16} et donc _n_ = 5). Ecrivez un algorithme dont l’entrée est _L_ et _n_, et dont la sortie sont les deux plus grands nombres de la liste (dans l’exemple: 43 et 22)."
   ]
  },
  {
   "cell_type": "markdown",
   "metadata": {},
   "source": [
    "**Les deux plus grands** : votre algorithme ici"
   ]
  },
  {
   "cell_type": "markdown",
   "metadata": {},
   "source": [
    "### La méthode al-Khwarizmi\n",
    "\n",
    "Voici ci-dessous l'algorithme de al-Khwarizmi pour résoudre toutes les équations du type  $x^2 + bx = c$, où `b` et `c` sont des nombres positifs.\n",
    "\n",
    ">On prend la moitié des racines ; on la met au carré, que l'on additionne au nombre.\n",
    "Prenons alors la racine carrée de ce nombre et ôtons-lui la moitié des racines pour obtenir la solution.\n",
    "\n",
    "**Rappel** : L'inconnue, que nous notons `x`, s'appelle la *racine*.\n",
    "\n",
    "Réécrivez cet algorithme en pseudo-code ci dessous:"
   ]
  },
  {
   "cell_type": "markdown",
   "metadata": {},
   "source": [
    "**Algorithme d'al-Kwharizmi** : pseudo code à mettre ci-dessous"
   ]
  },
  {
   "cell_type": "markdown",
   "metadata": {},
   "source": [
    "### Implémentation\n",
    "\n",
    "Programmer consiste à transmettre à un ordinateur, à l'aide des instructions d'un langage, l'algorithme qu'il doit appliquer pour parvenir au résultat qu'on lui demande d'établir.\n",
    "\n",
    "Écrivez en *Python* l'implémentation des algortihmes des exercices précédents.\n",
    "\n",
    "Pour pouvoir réaliser cet exercice, il vous faut d'abord avoir vu [OCI04_Boucles](./OCI04_Boucles.ipynb)"
   ]
  },
  {
   "cell_type": "code",
   "execution_count": null,
   "metadata": {},
   "outputs": [],
   "source": []
  },
  {
   "cell_type": "markdown",
   "metadata": {},
   "source": [
    "Ce Notebook est a été crée par David Da SILVA - 2020\n",
    "\n",
    "Source: Tangente HS 37 & EPFL ICC - O. Lévêque\n",
    "\n",
    "<a rel=\"license\" href=\"http://creativecommons.org/licenses/by-nc-sa/4.0/\"><img alt=\"Creative Commons License\" style=\"border-width:0\" src=\"https://i.creativecommons.org/l/by-nc-sa/4.0/88x31.png\" /></a><br />This work is licensed under a <a rel=\"license\" href=\"http://creativecommons.org/licenses/by-nc-sa/4.0/\">Creative Commons Attribution-NonCommercial-ShareAlike 4.0 International License</a>."
   ]
  }
 ],
 "metadata": {
  "kernelspec": {
   "display_name": "Python 3",
   "language": "python",
   "name": "python3"
  },
  "language_info": {
   "codemirror_mode": {
    "name": "ipython",
    "version": 3
   },
   "file_extension": ".py",
   "mimetype": "text/x-python",
   "name": "python",
   "nbconvert_exporter": "python",
   "pygments_lexer": "ipython3",
   "version": "3.8.3"
  },
  "latex_envs": {
   "LaTeX_envs_menu_present": true,
   "autoclose": true,
   "autocomplete": true,
   "bibliofile": "biblio.bib",
   "cite_by": "apalike",
   "current_citInitial": 1,
   "eqLabelWithNumbers": true,
   "eqNumInitial": 1,
   "hotkeys": {
    "equation": "Ctrl-E",
    "itemize": "Ctrl-I"
   },
   "labels_anchors": false,
   "latex_user_defs": false,
   "report_style_numbering": false,
   "user_envs_cfg": false
  },
  "toc": {
   "base_numbering": 1,
   "nav_menu": {},
   "number_sections": true,
   "sideBar": true,
   "skip_h1_title": true,
   "title_cell": "Table of Contents",
   "title_sidebar": "Contents",
   "toc_cell": false,
   "toc_position": {},
   "toc_section_display": true,
   "toc_window_display": true
  }
 },
 "nbformat": 4,
 "nbformat_minor": 1
}
