{
 "cells": [
  {
   "cell_type": "markdown",
   "metadata": {},
   "source": [
    "# Cryptographie 101\n",
    "\n",
    "---\n",
    "\n",
    "Depuis les simples substitutions de lettres à l'époque de *César*, l'art de dissimuler aux regards indiscrets le contenu de messages, notamment militaires, dépend aujourd'hui de l'arithmétique, de l'informatique et d'algorithmes puissants.\n",
    "\n",
    "## Codage de *César*\n",
    "\n",
    "Le codage dit de *Jules César* est simple : faire un décalage de trois lettres sur toutes les lettres d'un message. De plus, les lettres du message en clair sont en minuscule et les lettres du message codé en majuscule. Dans l'algorithme de *César*, a devient D, b devient E, etc.\n",
    "\n",
    "Ecrivez une fonction qui réalise le codage de *César* :\n",
    "\n",
    "- Le message à coder sera passé en paramètre (pas de d'impératif de casse)\n",
    "- La fonction affichera le message en clair en minuscule et le message codé en majuscule\n",
    "- La fonction *retournera* le message codé\n",
    "\n",
    "Ecrivez ensuite la fonction de décodage:\n",
    "\n",
    "- Le message à décoder sera passé en paramètre (pas d'impératif de casse)\n",
    "- La fonction affichera le message codé en majuscule et le message décodé en minuscule\n",
    "- la fonction *retournera* le message décodé"
   ]
  },
  {
   "cell_type": "code",
   "execution_count": 2,
   "metadata": {},
   "outputs": [],
   "source": [
    "def codecesar(message):\n",
    "    alph = \"abcdefghijklmnopqrstuvwxyz\"\n",
    "    message = message.lower()\n",
    "    #print message\n",
    "    code = \"\"\n",
    "    for c in message :\n",
    "        if c in alph:\n",
    "            idx = alph.index(c)\n",
    "            newidx = (idx + 3) % 26\n",
    "            code += alph[newidx]\n",
    "        else :\n",
    "            code += c\n",
    "    code = code.upper()\n",
    "    #print code\n",
    "    return code"
   ]
  },
  {
   "cell_type": "code",
   "execution_count": 3,
   "metadata": {},
   "outputs": [],
   "source": [
    "def decodecesar(code):\n",
    "    alph = \"abcdefghijklmnopqrstuvwxyz\"\n",
    "    #print code\n",
    "    code = code.lower()\n",
    "    message = \"\"\n",
    "    for c in code :\n",
    "        if c in alph:\n",
    "            idx = alph.index(c)\n",
    "            newidx = (idx - 3) % 26\n",
    "            message += alph[newidx]\n",
    "        else :\n",
    "            message += c\n",
    "    #print message\n",
    "    return message"
   ]
  },
  {
   "cell_type": "code",
   "execution_count": 10,
   "metadata": {},
   "outputs": [],
   "source": [
    "def _test_cesar():\n",
    "    assert codecesar(\"Le message est : toto\") == \"OH PHVVDJH HVW : WRWR\"\n",
    "    assert decodecesar(\"OH PHVVDJH HVW : WRWR\") == \"le message est : toto\"\n",
    "    print(\"Code César OK\")"
   ]
  },
  {
   "cell_type": "code",
   "execution_count": 11,
   "metadata": {},
   "outputs": [
    {
     "name": "stdout",
     "output_type": "stream",
     "text": [
      "Code César OK\n"
     ]
    }
   ],
   "source": [
    "_test_cesar()"
   ]
  },
  {
   "cell_type": "markdown",
   "metadata": {},
   "source": [
    "## Codage de *César* v. 2.0\n",
    "\n",
    "La première version, très simple, a plusieurs défauts. \n",
    "Déjà, si un ennemi acquiert une connaissance du procédé, il lui est très facile de décoder immédiatement tout message reçu. En outre, s'il se trouve devant un message codé et le même message en clair, il comprendra immédiatement les règles de cryptage. La méthode qui est venue après celle de *César* a tenu compte de ces défauts : au lieu de coder chaque lettre par un même décalage, on transforme chaque lettre en une autre selon une\n",
    "règle de correspondance telle que :\n",
    "\n",
    "|b|c|d|e|f|g|h|i|...|z|a\n",
    "|-|-|-|-|-|-|-|-|---|-|-\n",
    "|C|H|A|R|L|E|S|B|...|Y|Z\n",
    "\n",
    "On choisit une lettre de départ (le b, dans notre exemple) et un mot clé (CHARLES) et on ordonne les lettres par le codage décrit ci-dessus, les lettres n'appartenant pas au mot CHARLES étant classées par ordre croissant ensuite.\n",
    "\n",
    "Ecrivez une fonction qui réalise le codage de *César* v. 2.0:\n",
    "\n",
    "- Le message à coder sera passé en paramètre (pas de d'impératif de casse), ainsi que la clé et la lettre de départ\n",
    "- La fonction affichera le message en clair en minuscule et le message codé en majuscule\n",
    "- La fonction *retournera* le message codé\n",
    "\n",
    "Ecrivez ensuite la fonction de décodage:\n",
    "\n",
    "- Le message à décoder sera passé en paramètre (pas d'impératif de casse), ainsi que la clé et la lettre de départ\n",
    "- La fonction affichera le message codé en majuscule et le message décodé en minuscule\n",
    "- la fonction *retournera* le message décodé"
   ]
  },
  {
   "cell_type": "code",
   "execution_count": 15,
   "metadata": {},
   "outputs": [],
   "source": [
    "def codecesar2(message, cle, lettre):\n",
    "    alph = \"abcdefghijklmnopqrstuvwxyz\"\n",
    "    cle=cle.lower()\n",
    "    lettre = lettre.lower()\n",
    "    idxlettre = alph.index(lettre)\n",
    "    base = alph[idxlettre:] + alph[:idxlettre]\n",
    "    transform = \"\"\n",
    "    for l in alph:\n",
    "        if l not in cle:\n",
    "            transform += l\n",
    "    transform = cle + transform\n",
    "    \n",
    "    message = message.lower()\n",
    "    #print message\n",
    "    code = \"\"\n",
    "    \n",
    "    for c in message:\n",
    "        if c in alph:\n",
    "            idx = base.index(c)\n",
    "            code += transform[idx]\n",
    "        else : \n",
    "            code += c\n",
    "    code = code.upper()        \n",
    "    #print code\n",
    "    return code\n",
    "    "
   ]
  },
  {
   "cell_type": "code",
   "execution_count": 14,
   "metadata": {},
   "outputs": [],
   "source": [
    "def decodecesar2(code, cle, lettre):\n",
    "    alph = \"abcdefghijklmnopqrstuvwxyz\"\n",
    "    cle = cle.lower()\n",
    "    lettre = lettre.lower()\n",
    "    idxlettre = alph.index(lettre)\n",
    "    base = alph[idxlettre:] + alph[:idxlettre]\n",
    "    transform = \"\"\n",
    "    for l in alph:\n",
    "        if l not in cle:\n",
    "            transform += l\n",
    "    transform = cle + transform\n",
    "   \n",
    "    #print code.upper() \n",
    "    code = code.lower()\n",
    "   \n",
    "    message = \"\"\n",
    "    \n",
    "    for c in code:\n",
    "        if c in alph:\n",
    "            idx = transform.index(c)\n",
    "            message += base[idx]\n",
    "        else : \n",
    "            message += c\n",
    "    \n",
    "    #print message\n",
    "    return message\n",
    "    "
   ]
  },
  {
   "cell_type": "code",
   "execution_count": 12,
   "metadata": {},
   "outputs": [],
   "source": [
    "def _test_cesar2():\n",
    "    assert codecesar2(\"le message est : toto\", \"CHarles\", \"B\") == \"GR IRPPZER RPQ : QKQK\"\n",
    "    assert decodecesar2(\"GR IRPPZER RPQ : QKQK\", \"chaRLes\", \"b\") == \"le message est : toto\"\n",
    "    print(\"Code César v.2 OK\")"
   ]
  },
  {
   "cell_type": "code",
   "execution_count": 16,
   "metadata": {},
   "outputs": [
    {
     "name": "stdout",
     "output_type": "stream",
     "text": [
      "Code César v.2 OK\n"
     ]
    }
   ],
   "source": [
    "_test_cesar2()"
   ]
  },
  {
   "cell_type": "markdown",
   "metadata": {},
   "source": [
    "## La substitution poly-alphabétique\n",
    "\n",
    "Un algorithme de substitution poly-alphabétique est le suivant : on décale les lettres d'un mot en fonction de la place des lettres, et non en fonction des lettres elles-mêmes. On se munit d'une clé, par exemple CHARLES, et on opère des codages à la *Jules César* avec les \n",
    "$(k + 7)^{ème}$ lettres du texte en utilisant la $k^{ème}$ lettre de la clé. \n",
    "Voici un exemple d'application:\n",
    "\n",
    "C|H|A|R|L|E|S|C|H|A|R\n",
    "-|-|-|-|-|-|-|-|-|-|-\n",
    "s|o|u|v|e|n|t|p|o|u|r\n",
    "U|V|U|M|P|R|L|R|V|U|I\n",
    "\n",
    "En effet,«s+2=U»,«o+7=V»,«u+0=U»,«u+17=M»...\n",
    "\n",
    "Ecrivez une fonction qui réalise le codage par substitution poly-alphabétique:\n",
    "\n",
    "- Le message à coder sera passé en paramètre (pas de d'impératif de casse), ainsi que la clé\n",
    "- La fonction affichera le message en clair en minuscule et le message codé en majuscule\n",
    "- La fonction *retournera* le message codé\n",
    "\n",
    "Ecrivez ensuite la fonction de décodage:\n",
    "\n",
    "- Le message à décoder sera passé en paramètre (pas d'impératif de casse), ainsi que la clé\n",
    "- La fonction affichera le message codé en majuscule et le message décodé en minuscule\n",
    "- la fonction *retournera* le message décodé"
   ]
  },
  {
   "cell_type": "code",
   "execution_count": 17,
   "metadata": {},
   "outputs": [],
   "source": [
    "def codepoly(message, cle):\n",
    "    alph = \"abcdefghijklmnopqrstuvwxyz\"\n",
    "    cle=cle.lower()\n",
    "    polycle = cle * (len(message)//len(cle) + 1)\n",
    "    \n",
    "    message = message.lower()\n",
    "    #print message\n",
    "    code = \"\"\n",
    "    \n",
    "    for i,c in enumerate(message):\n",
    "        if c in alph:\n",
    "            idxc = alph.index(c)\n",
    "            idxpoly = alph.index(polycle[i])\n",
    "            code += alph[(idxc+idxpoly)%26]\n",
    "        else : \n",
    "            code += c\n",
    "    \n",
    "    code = code.upper()        \n",
    "    #print code\n",
    "    return code            "
   ]
  },
  {
   "cell_type": "code",
   "execution_count": 18,
   "metadata": {},
   "outputs": [],
   "source": [
    "def decodepoly(code, cle):\n",
    "    alph = \"abcdefghijklmnopqrstuvwxyz\"\n",
    "    cle=cle.lower()\n",
    "    polycle = cle * (len(code)//len(cle) + 1)\n",
    "    \n",
    "    code = code.lower()\n",
    "    #print code.upper()\n",
    "    message = \"\"\n",
    "    \n",
    "    for i,c in enumerate(code):\n",
    "        if c in alph:\n",
    "            idxc = alph.index(c)\n",
    "            idxpoly = alph.index(polycle[i])\n",
    "            message += alph[(idxc-idxpoly)%26]\n",
    "        else : \n",
    "            message += c\n",
    "      \n",
    "    #print message\n",
    "    return message          "
   ]
  },
  {
   "cell_type": "code",
   "execution_count": 19,
   "metadata": {},
   "outputs": [],
   "source": [
    "def _test_poly():\n",
    "    assert codepoly(\"le message est : toto\", \"charles\") == \"NL DPWKCNE PWL : KZXG\"\n",
    "    assert decodepoly(\"NL DPWKCNE PWL : KZXG\", \"charles\") == \"le message est : toto\"\n",
    "    print(\"Code Poly-alphabétique OK\")"
   ]
  },
  {
   "cell_type": "code",
   "execution_count": 20,
   "metadata": {},
   "outputs": [
    {
     "name": "stdout",
     "output_type": "stream",
     "text": [
      "Code Poly-alphabétique OK\n"
     ]
    }
   ],
   "source": [
    "_test_poly()"
   ]
  },
  {
   "cell_type": "markdown",
   "metadata": {},
   "source": [
    "## Module crypto\n",
    "\n",
    "Maintenant que nous avons des fonctions de codage et de décodage pour 3 méthodes différentes, nous allons transformer ce notebook en module python qui pourra être importé dans d'autre programme et qui pourra également être executé en tant que programme comme vu dans le notebook 8.\n",
    "\n",
    "Lorsque ce module est exécuté en tant que programme, il devra demander à l'utilisateur s'il veut coder ou décoder un message, quelle méthode de cryptage doit être utilisé et les différents paramètres associés à cette méthode.  \n",
    "Enfin le message à crypter / décrypter sera demandé et le résultat affiché à l'écran.\n",
    "\n",
    "Ecrivez ci-dessous le code nécéssaire à cette réalisation. "
   ]
  },
  {
   "cell_type": "code",
   "execution_count": null,
   "metadata": {
    "collapsed": true
   },
   "outputs": [],
   "source": [
    "if __name__ == \"__main__\":\n",
    "    crypto = {\"code\":{1:codecesar, 2:codecesar2, 3:codepoly},\"decode\":{1:decodecesar, 2:decodecesar2, 3:decodepoly}}\n",
    "    action = input(\"Que voulez vous faire ? \\n Pour crypter un message tapez : code\\n Pour décrypter un message tapez : decode\\n\")\n",
    "    methode =int(input(\"Quelle méthode voulez-vous utiliser ? \\n 1. César \\n 2. César V.2 \\n 3. Substitution poly-alphabétique\\n\"))\n",
    "    if methode == 1 : # codage de César, seul le message est nécessaire\n",
    "        mesg = input(\"Quel est le message ? \\n\")\n",
    "        args = (mesg,)\n",
    "    elif methode == 2 : # codage de César V.2, il faut le message, la clé et la lettre\n",
    "        mesg = input(\"Quel est le message ? \\n\")\n",
    "        cle = input(\"Quel est la clé ? \\n\")\n",
    "        lettre = input(\"Quel est la lettre ? \\n\")\n",
    "        args = (mesg, cle, lettre)\n",
    "    else : # codage poly-alphabétique, il faut le message et la clé\n",
    "        mesg = input(\"Quel est le message ? \\n\")\n",
    "        cle = input(\"Quel est la clé ? \\n\")\n",
    "        args = (mesg, cle)\n",
    "        \n",
    "    result = crypto[action][methode](*args)\n",
    "    print(\"Voici le résulat de l'action demandée : \\n {0}\".format(result))"
   ]
  }
 ],
 "metadata": {
  "kernelspec": {
   "display_name": "Python 3",
   "language": "python",
   "name": "python3"
  },
  "language_info": {
   "codemirror_mode": {
    "name": "ipython",
    "version": 3
   },
   "file_extension": ".py",
   "mimetype": "text/x-python",
   "name": "python",
   "nbconvert_exporter": "python",
   "pygments_lexer": "ipython3",
   "version": "3.8.5"
  },
  "latex_envs": {
   "LaTeX_envs_menu_present": true,
   "autoclose": true,
   "autocomplete": true,
   "bibliofile": "biblio.bib",
   "cite_by": "apalike",
   "current_citInitial": 1,
   "eqLabelWithNumbers": true,
   "eqNumInitial": 1,
   "hotkeys": {
    "equation": "Ctrl-E",
    "itemize": "Ctrl-I"
   },
   "labels_anchors": false,
   "latex_user_defs": false,
   "report_style_numbering": false,
   "user_envs_cfg": false
  },
  "toc": {
   "base_numbering": 1,
   "nav_menu": {},
   "number_sections": true,
   "sideBar": true,
   "skip_h1_title": true,
   "title_cell": "Table of Contents",
   "title_sidebar": "Contents",
   "toc_cell": false,
   "toc_position": {},
   "toc_section_display": true,
   "toc_window_display": false
  }
 },
 "nbformat": 4,
 "nbformat_minor": 1
}
