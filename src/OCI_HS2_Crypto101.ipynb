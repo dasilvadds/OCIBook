{
 "cells": [
  {
   "cell_type": "markdown",
   "metadata": {},
   "source": [
    "# Cryptographie 101\n",
    "\n",
    "---\n",
    "\n",
    "Depuis les simples substitutions de lettres à l'époque de *César*, l'art de dissimuler aux regards indiscrets le contenu de messages, notamment militaires, dépend aujourd'hui de l'arithmétique, de l'informatique et d'algorithmes puissants.\n",
    "\n",
    "## Codage de *César*\n",
    "\n",
    "Le codage dit de *Jules César* est simple : faire un décalage de trois lettres sur toutes les lettres d'un message. De plus, les lettres du message en clair sont en minuscule et les lettres du message codé en majuscule. Dans l'algorithme de *César*, a devient D, b devient E, etc.\n",
    "\n",
    "Ecrivez la fonction `codeCesar` qui réalise le codage de *César* :\n",
    "\n",
    "- Le message à coder sera passé en paramètre (pas d'impératif de casse)\n",
    "- La fonction affichera le message en clair en minuscule et le message codé en majuscule\n",
    "- La fonction *retournera* le message codé\n",
    "\n",
    "Ecrivez ensuite la fonction de décodage `decodeCesar`:\n",
    "\n",
    "- Le message à décoder sera passé en paramètre (pas d'impératif de casse)\n",
    "- La fonction affichera le message codé en majuscule et le message décodé en minuscule\n",
    "- la fonction *retournera* le message décodé"
   ]
  },
  {
   "cell_type": "markdown",
   "metadata": {},
   "source": [
    "## Test Driven Development\n",
    "\n",
    "Le concept du TDD est de commencer par écrire les tests que les fonctions à créer devront passer. Je vous rappelle que dans ce contexte, les tests sont précédés du mot clé `assert` qui lève une exception et arrête le déroulement du programme lorsque ce qui le suit est `False`.\n",
    "\n",
    "Par exemple, la somme de 3, 4 et 5 valant 12, le test"
   ]
  },
  {
   "cell_type": "code",
   "execution_count": 1,
   "metadata": {},
   "outputs": [],
   "source": [
    "assert sum([3,4,5]) == 12"
   ]
  },
  {
   "cell_type": "markdown",
   "metadata": {},
   "source": [
    "ne pose pas de problème, tandis que le test"
   ]
  },
  {
   "cell_type": "code",
   "execution_count": 2,
   "metadata": {},
   "outputs": [
    {
     "ename": "AssertionError",
     "evalue": "",
     "output_type": "error",
     "traceback": [
      "\u001b[0;31m---------------------------------------------------------------------------\u001b[0m",
      "\u001b[0;31mAssertionError\u001b[0m                            Traceback (most recent call last)",
      "\u001b[0;32m<ipython-input-2-7d74f57bed8a>\u001b[0m in \u001b[0;36m<module>\u001b[0;34m\u001b[0m\n\u001b[0;32m----> 1\u001b[0;31m \u001b[0;32massert\u001b[0m \u001b[0msum\u001b[0m\u001b[0;34m(\u001b[0m\u001b[0;34m[\u001b[0m\u001b[0;36m3\u001b[0m\u001b[0;34m,\u001b[0m\u001b[0;36m4\u001b[0m\u001b[0;34m,\u001b[0m\u001b[0;36m5\u001b[0m\u001b[0;34m]\u001b[0m\u001b[0;34m)\u001b[0m \u001b[0;34m==\u001b[0m \u001b[0;36m11\u001b[0m\u001b[0;34m\u001b[0m\u001b[0;34m\u001b[0m\u001b[0m\n\u001b[0m",
      "\u001b[0;31mAssertionError\u001b[0m: "
     ]
    }
   ],
   "source": [
    "assert sum([3,4,5]) == 11"
   ]
  },
  {
   "cell_type": "markdown",
   "metadata": {},
   "source": [
    "échoue et arrête le déroulement du programme.\n",
    "\n",
    "Bien évidement le but des tests est de vérifier des résultats attendus et en général corrects.\n",
    "\n",
    "Par exemple pour la fonction `codeCesar`, on pourrait créer la fonction de test suivante :"
   ]
  },
  {
   "cell_type": "code",
   "execution_count": null,
   "metadata": {},
   "outputs": [],
   "source": [
    "def _test_codeCesar():\n",
    "    assert codeCesar(\"a\") == \"D\"\n",
    "    assert codeCesar(\"A\") == \"D\"\n",
    "    assert codeCesar(\"z\") == \"C\"\n",
    "    assert codeCesar(\"Y\") == \"B\"\n",
    "    assert codeCesar(\"S et o\") == \"V HW R\"\n",
    "    assert codeCesar(\"Le message est : toto\") == \"OH PHVVDJH HVW : WRWR\"\n",
    "    print(\"codeCesar OK\")"
   ]
  },
  {
   "cell_type": "markdown",
   "metadata": {},
   "source": [
    "Dans le même esprit, écrivez la fonction de test pour `decodeCesar`."
   ]
  },
  {
   "cell_type": "code",
   "execution_count": null,
   "metadata": {},
   "outputs": [],
   "source": [
    "def _test_decodeCesar():\n",
    "    # Inserez vos tests ici\n",
    "    print(\"decodeCesar OK\")"
   ]
  },
  {
   "cell_type": "markdown",
   "metadata": {},
   "source": [
    "## Codage de *César* v. 2.0\n",
    "\n",
    "La première version, très simple, a plusieurs défauts. \n",
    "Déjà, si un ennemi acquiert une connaissance du procédé, il lui est très facile de décoder immédiatement tout message reçu. En outre, s'il se trouve devant un message codé et le même message en clair, il comprendra immédiatement les règles de cryptage. La méthode qui est venue après celle de *César* a tenu compte de ces défauts : au lieu de coder chaque lettre par un même décalage, on transforme chaque lettre en une autre selon une\n",
    "règle de correspondance telle que :\n",
    "\n",
    "|b|c|d|e|f|g|h|i|...|z|a|\n",
    "|-|-|-|-|-|-|-|-|---|-|-|\n",
    "|C|H|A|R|L|E|S|B|...|Y|Z|\n",
    "\n",
    "On choisit une lettre de départ (le b, dans notre exemple) et un mot clé (CHARLES) et on ordonne les lettres par le codage décrit ci-dessus, les lettres n'appartenant pas au mot CHARLES étant classées par ordre croissant ensuite.\n",
    "\n",
    "Ecrivez une fonction qui réalise le codage de *César* v. 2.0:\n",
    "\n",
    "- Le message à coder sera passé en paramètre (pas de d'impératif de casse), ainsi que la clé et la lettre de départ\n",
    "- La fonction affichera le message en clair en minuscule et le message codé en majuscule\n",
    "- La fonction *retournera* le message codé\n",
    "\n",
    "Ecrivez ensuite la fonction de décodage:\n",
    "\n",
    "- Le message à décoder sera passé en paramètre (pas d'impératif de casse), ainsi que la clé et la lettre de départ\n",
    "- La fonction affichera le message codé en majuscule et le message décodé en minuscule\n",
    "- la fonction *retournera* le message décodé\n",
    "\n",
    "Comme précédement, commencez par écrire les tests pour le codage et le décodage avant d'écrire vos fonctions."
   ]
  },
  {
   "cell_type": "code",
   "execution_count": null,
   "metadata": {
    "collapsed": true
   },
   "outputs": [],
   "source": []
  },
  {
   "cell_type": "markdown",
   "metadata": {},
   "source": [
    "## La substitution poly-alphabétique\n",
    "\n",
    "Un algorithme de substitution poly-alphabétique est le suivant : on décale les lettres d'un mot en fonction de la place des lettres, et non en fonction des lettres elles-mêmes. On se munit d'une clé, par exemple CHARLES, et on opère des codages à la *Jules César* avec les \n",
    "$(k + 7)^{ème}$ lettres du texte en utilisant la $k^{ème}$ lettre de la clé. \n",
    "Voici un exemple d'application:\n",
    "\n",
    "C|H|A|R|L|E|S|C|H|A|R\n",
    "-|-|-|-|-|-|-|-|-|-|-\n",
    "s|o|u|v|e|n|t|p|o|u|r\n",
    "U|V|U|M|P|R|L|R|V|U|I\n",
    "\n",
    "En effet,«s+2=U»,«o+7=V»,«u+0=U»,«u+17=M»...\n",
    "\n",
    "Ecrivez une fonction qui réalise le codage par substitution poly-alphabétique:\n",
    "\n",
    "- Le message à coder sera passé en paramètre (pas de d'impératif de casse), ainsi que la clé\n",
    "- La fonction affichera le message en clair en minuscule et le message codé en majuscule\n",
    "- La fonction *retournera* le message codé\n",
    "\n",
    "Ecrivez ensuite la fonction de décodage:\n",
    "\n",
    "- Le message à décoder sera passé en paramètre (pas d'impératif de casse), ainsi que la clé\n",
    "- La fonction affichera le message codé en majuscule et le message décodé en minuscule\n",
    "- la fonction *retournera* le message décodé\n",
    "\n",
    "Comme précédement, commencez par écrire les tests pour le codage et le décodage avant d'écrire vos fonctions."
   ]
  },
  {
   "cell_type": "code",
   "execution_count": null,
   "metadata": {
    "collapsed": true
   },
   "outputs": [],
   "source": []
  },
  {
   "cell_type": "markdown",
   "metadata": {},
   "source": [
    "## Module crypto\n",
    "\n",
    "Maintenant que nous avons des fonctions de codage et de décodage pour 3 méthodes différentes, nous allons transformer ce notebook en module python qui pourra être importé dans d'autre programme et qui pourra également être executé en tant que programme comme vu dans le [Notebook 8](OCI08_Modules.ipynb).\n",
    "\n",
    "Lorsque ce module est exécuté en tant que programme, il devra demander à l'utilisateur s'il veut coder ou décoder un message, quelle méthode de cryptage doit être utilisé et les différents paramètres associés à cette méthode.  \n",
    "Enfin le message à crypter / décrypter sera demandé et le résultat affiché à l'écran.\n",
    "\n",
    "Ecrivez ci-dessous le code nécéssaire à cette réalisation. "
   ]
  },
  {
   "cell_type": "code",
   "execution_count": null,
   "metadata": {},
   "outputs": [],
   "source": []
  },
  {
   "cell_type": "markdown",
   "metadata": {},
   "source": [
    "Ce Notebook a été crée par David Da SILVA - 2020\n",
    "\n",
    "<a rel=\"license\" href=\"http://creativecommons.org/licenses/by-nc-sa/4.0/\"><img alt=\"Creative Commons License\" style=\"border-width:0\" src=\"https://i.creativecommons.org/l/by-nc-sa/4.0/88x31.png\" /></a><br />This work is licensed under a <a rel=\"license\" href=\"http://creativecommons.org/licenses/by-nc-sa/4.0/\">Creative Commons Attribution-NonCommercial-ShareAlike 4.0 International License</a>."
   ]
  }
 ],
 "metadata": {
  "kernelspec": {
   "display_name": "Python 3",
   "language": "python",
   "name": "python3"
  },
  "language_info": {
   "codemirror_mode": {
    "name": "ipython",
    "version": 3
   },
   "file_extension": ".py",
   "mimetype": "text/x-python",
   "name": "python",
   "nbconvert_exporter": "python",
   "pygments_lexer": "ipython3",
   "version": "3.8.3"
  },
  "latex_envs": {
   "LaTeX_envs_menu_present": true,
   "autoclose": true,
   "autocomplete": true,
   "bibliofile": "biblio.bib",
   "cite_by": "apalike",
   "current_citInitial": 1,
   "eqLabelWithNumbers": true,
   "eqNumInitial": 1,
   "hotkeys": {
    "equation": "Ctrl-E",
    "itemize": "Ctrl-I"
   },
   "labels_anchors": false,
   "latex_user_defs": false,
   "report_style_numbering": false,
   "user_envs_cfg": false
  },
  "toc": {
   "base_numbering": 1,
   "nav_menu": {},
   "number_sections": true,
   "sideBar": true,
   "skip_h1_title": true,
   "title_cell": "Table of Contents",
   "title_sidebar": "Contents",
   "toc_cell": false,
   "toc_position": {},
   "toc_section_display": true,
   "toc_window_display": true
  }
 },
 "nbformat": 4,
 "nbformat_minor": 1
}
